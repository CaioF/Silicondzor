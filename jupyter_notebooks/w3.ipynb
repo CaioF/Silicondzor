{
 "cells": [
  {
   "cell_type": "code",
   "execution_count": 1,
   "metadata": {
    "ExecuteTime": {
     "end_time": "2019-08-03T20:14:23.811688Z",
     "start_time": "2019-08-03T20:14:23.806517Z"
    }
   },
   "outputs": [],
   "source": [
    "import numpy as np\n",
    "import pandas as pd\n",
    "from sklearn.impute import SimpleImputer\n",
    "from sklearn.preprocessing import MinMaxScaler\n",
    "from sklearn.ensemble import RandomForestClassifier\n",
    "from sklearn.linear_model import LogisticRegression, Ridge, Lasso\n",
    "from sklearn.model_selection import train_test_split, StratifiedKFold\n",
    "from sklearn.metrics import accuracy_score, f1_score, confusion_matrix, roc_auc_score\n",
    "from sklearn.preprocessing import LabelEncoder\n",
    "\n",
    "import warnings\n",
    "warnings.filterwarnings(\"ignore\")"
   ]
  },
  {
   "cell_type": "code",
   "execution_count": null,
   "metadata": {},
   "outputs": [],
   "source": []
  },
  {
   "cell_type": "code",
   "execution_count": 2,
   "metadata": {
    "ExecuteTime": {
     "end_time": "2019-08-03T20:15:37.831835Z",
     "start_time": "2019-08-03T20:15:36.785444Z"
    }
   },
   "outputs": [],
   "source": [
    "X_train = pd.read_csv(\"orange_small_churn_data.train\")\n",
    "y_train = pd.read_csv(\"orange_small_churn_labels.train\", header=None, names='y')\n",
    "y_train.y = y_train.y.map({-1: 0, 1: 1}).values"
   ]
  },
  {
   "cell_type": "code",
   "execution_count": null,
   "metadata": {},
   "outputs": [],
   "source": []
  },
  {
   "cell_type": "code",
   "execution_count": 3,
   "metadata": {
    "ExecuteTime": {
     "end_time": "2019-08-03T20:16:29.890382Z",
     "start_time": "2019-08-03T20:16:29.647429Z"
    }
   },
   "outputs": [],
   "source": [
    "X, _, y, _ = train_test_split(X_train, y_train.values, test_size=0.3, \n",
    "                              stratify=y_train.values, random_state=17)"
   ]
  },
  {
   "cell_type": "code",
   "execution_count": null,
   "metadata": {},
   "outputs": [],
   "source": []
  },
  {
   "cell_type": "code",
   "execution_count": 4,
   "metadata": {
    "ExecuteTime": {
     "end_time": "2019-08-03T20:24:11.985146Z",
     "start_time": "2019-08-03T20:24:11.743972Z"
    }
   },
   "outputs": [],
   "source": [
    "X_real = X.dropna(axis='columns', thresh=.8*len(X) ).select_dtypes(['int', 'float'])\n",
    "impute = SimpleImputer(missing_values=np.nan, strategy='median', copy=False)\n",
    "impute.fit(X_real)\n",
    "real_imputer = pd.DataFrame(impute.transform(X_real),columns=X_real.columns)"
   ]
  },
  {
   "cell_type": "code",
   "execution_count": null,
   "metadata": {},
   "outputs": [],
   "source": []
  },
  {
   "cell_type": "code",
   "execution_count": 5,
   "metadata": {
    "ExecuteTime": {
     "end_time": "2019-08-03T20:25:43.248542Z",
     "start_time": "2019-08-03T20:25:43.221997Z"
    }
   },
   "outputs": [],
   "source": [
    "scaler = MinMaxScaler()\n",
    "X_real_scaled = scaler.fit_transform(real_imputer)"
   ]
  },
  {
   "cell_type": "code",
   "execution_count": null,
   "metadata": {},
   "outputs": [],
   "source": []
  },
  {
   "cell_type": "code",
   "execution_count": 6,
   "metadata": {
    "ExecuteTime": {
     "end_time": "2019-08-03T20:27:12.142417Z",
     "start_time": "2019-08-03T20:27:11.928274Z"
    }
   },
   "outputs": [],
   "source": [
    "X_cats = X.dropna(axis='columns', how='any' ).select_dtypes('object')\n",
    "cat_cols = [i for i in X_cats.columns if X[i].nunique() < 30]\n",
    "X_train = np.hstack( [X_real_scaled, pd.get_dummies(X_cats[cat_cols]).values] )"
   ]
  },
  {
   "cell_type": "code",
   "execution_count": null,
   "metadata": {},
   "outputs": [],
   "source": []
  },
  {
   "cell_type": "code",
   "execution_count": 7,
   "metadata": {
    "ExecuteTime": {
     "end_time": "2019-08-03T20:27:16.952369Z",
     "start_time": "2019-08-03T20:27:16.938387Z"
    }
   },
   "outputs": [
    {
     "data": {
      "text/plain": [
       "((28000L, 1L), (28000L, 150L))"
      ]
     },
     "execution_count": 7,
     "metadata": {},
     "output_type": "execute_result"
    }
   ],
   "source": [
    "y.shape, X_train.shape"
   ]
  },
  {
   "cell_type": "code",
   "execution_count": null,
   "metadata": {},
   "outputs": [],
   "source": []
  },
  {
   "cell_type": "code",
   "execution_count": 8,
   "metadata": {
    "ExecuteTime": {
     "end_time": "2019-08-03T20:32:37.175744Z",
     "start_time": "2019-08-03T20:32:37.169758Z"
    }
   },
   "outputs": [],
   "source": [
    "def runModel(model, X):\n",
    "    np.random.seed(17)\n",
    "    kf = StratifiedKFold(n_splits=5, shuffle=True)\n",
    "\n",
    "    cv_score =[]\n",
    "    cv_f1 = []\n",
    "    i=1\n",
    "    for train_index,test_index in kf.split(X, y.ravel()):\n",
    "        print('{} of KFold {}'.format(i, kf.n_splits))\n",
    "        xtr,xvl = X_train[train_index], X_train[test_index]\n",
    "        ytr,yvl = y.ravel()[train_index], y.ravel()[test_index]\n",
    "\n",
    "        #model\n",
    "        md = model\n",
    "        md.fit(xtr,ytr)\n",
    "        score = roc_auc_score( yvl, md.predict(xvl) )\n",
    "        f1 = f1_score( yvl, md.predict(xvl) )\n",
    "        print('ROC AUC score: %.3f, f1-score: %.3f' % (score, f1) )\n",
    "        cv_score.append(score)\n",
    "        cv_f1.append(f1)\n",
    "        i+=1\n",
    "    print('\\nAverage:\\n ROC AUC - %.2f,\\n f1 - %.2f' % (np.mean(cv_score), np.mean(cv_f1)))"
   ]
  },
  {
   "cell_type": "code",
   "execution_count": null,
   "metadata": {},
   "outputs": [],
   "source": []
  },
  {
   "cell_type": "markdown",
   "metadata": {},
   "source": [
    "# Линейная модель"
   ]
  },
  {
   "cell_type": "code",
   "execution_count": 9,
   "metadata": {
    "ExecuteTime": {
     "end_time": "2019-08-03T20:33:18.422494Z",
     "start_time": "2019-08-03T20:33:07.258994Z"
    }
   },
   "outputs": [
    {
     "name": "stdout",
     "output_type": "stream",
     "text": [
      "1 of KFold 5\n",
      "ROC AUC score: 0.598, f1-score: 0.179\n",
      "2 of KFold 5\n",
      "ROC AUC score: 0.581, f1-score: 0.170\n",
      "3 of KFold 5\n",
      "ROC AUC score: 0.603, f1-score: 0.181\n",
      "4 of KFold 5\n",
      "ROC AUC score: 0.593, f1-score: 0.176\n",
      "5 of KFold 5\n",
      "ROC AUC score: 0.614, f1-score: 0.186\n",
      "\n",
      "Average:\n",
      " ROC AUC - 0.60,\n",
      " f1 - 0.18\n"
     ]
    }
   ],
   "source": [
    "runModel( model=LogisticRegression(class_weight='balanced', solver='lbfgs', max_iter=500), X=X_train )"
   ]
  },
  {
   "cell_type": "code",
   "execution_count": null,
   "metadata": {},
   "outputs": [],
   "source": []
  },
  {
   "cell_type": "markdown",
   "metadata": {},
   "source": [
    "# RandomForest"
   ]
  },
  {
   "cell_type": "code",
   "execution_count": 10,
   "metadata": {
    "ExecuteTime": {
     "end_time": "2019-08-03T20:34:46.309936Z",
     "start_time": "2019-08-03T20:34:46.194574Z"
    }
   },
   "outputs": [],
   "source": [
    "df = X.dropna(axis='columns', thresh=.8*len(X) )"
   ]
  },
  {
   "cell_type": "code",
   "execution_count": null,
   "metadata": {},
   "outputs": [],
   "source": []
  },
  {
   "cell_type": "code",
   "execution_count": 11,
   "metadata": {
    "ExecuteTime": {
     "end_time": "2019-08-03T20:35:11.815114Z",
     "start_time": "2019-08-03T20:35:11.681393Z"
    }
   },
   "outputs": [],
   "source": [
    "to_impute = df.select_dtypes(['int', 'float'])\n",
    "impute = SimpleImputer(missing_values=np.nan, strategy='median', copy=False)\n",
    "impute.fit(to_impute)\n",
    "imputered = pd.DataFrame(impute.transform(to_impute),columns=to_impute.columns)"
   ]
  },
  {
   "cell_type": "code",
   "execution_count": null,
   "metadata": {},
   "outputs": [],
   "source": []
  },
  {
   "cell_type": "code",
   "execution_count": 12,
   "metadata": {
    "ExecuteTime": {
     "end_time": "2019-08-03T20:36:02.430358Z",
     "start_time": "2019-08-03T20:36:02.218457Z"
    }
   },
   "outputs": [],
   "source": [
    "cat_wood = [i for i in df.select_dtypes('object') if df[i].nunique() < 500]\n",
    "df_cat = df[cat_wood].fillna('unknown')\n",
    "\n",
    "le = LabelEncoder()\n",
    "df_cat = df_cat.apply(le.fit_transform)"
   ]
  },
  {
   "cell_type": "code",
   "execution_count": null,
   "metadata": {},
   "outputs": [],
   "source": []
  },
  {
   "cell_type": "code",
   "execution_count": 13,
   "metadata": {
    "ExecuteTime": {
     "end_time": "2019-08-03T20:36:42.494961Z",
     "start_time": "2019-08-03T20:36:42.488207Z"
    }
   },
   "outputs": [
    {
     "data": {
      "text/plain": [
       "((28000L, 58L), (28000L, 1L))"
      ]
     },
     "execution_count": 13,
     "metadata": {},
     "output_type": "execute_result"
    }
   ],
   "source": [
    "df_all = np.hstack([imputered, df_cat] )\n",
    "df_all.shape, y.shape"
   ]
  },
  {
   "cell_type": "code",
   "execution_count": null,
   "metadata": {},
   "outputs": [],
   "source": []
  },
  {
   "cell_type": "code",
   "execution_count": 14,
   "metadata": {
    "ExecuteTime": {
     "end_time": "2019-08-03T20:37:57.329805Z",
     "start_time": "2019-08-03T20:37:54.414349Z"
    }
   },
   "outputs": [
    {
     "name": "stdout",
     "output_type": "stream",
     "text": [
      "1 of KFold 5\n",
      "ROC AUC score: 0.501, f1-score: 0.005\n",
      "2 of KFold 5\n",
      "ROC AUC score: 0.503, f1-score: 0.014\n",
      "3 of KFold 5\n",
      "ROC AUC score: 0.499, f1-score: 0.000\n",
      "4 of KFold 5\n",
      "ROC AUC score: 0.501, f1-score: 0.005\n",
      "5 of KFold 5\n",
      "ROC AUC score: 0.500, f1-score: 0.000\n",
      "\n",
      "Average:\n",
      " ROC AUC - 0.50,\n",
      " f1 - 0.00\n"
     ]
    }
   ],
   "source": [
    "runModel(model=RandomForestClassifier(), X=df_all)"
   ]
  },
  {
   "cell_type": "code",
   "execution_count": null,
   "metadata": {},
   "outputs": [],
   "source": []
  },
  {
   "cell_type": "markdown",
   "metadata": {},
   "source": [
    "# xgboost"
   ]
  },
  {
   "cell_type": "code",
   "execution_count": 15,
   "metadata": {
    "ExecuteTime": {
     "end_time": "2019-08-03T20:39:17.795662Z",
     "start_time": "2019-08-03T20:39:17.567743Z"
    }
   },
   "outputs": [],
   "source": [
    "import xgboost as xgb"
   ]
  },
  {
   "cell_type": "code",
   "execution_count": null,
   "metadata": {},
   "outputs": [],
   "source": []
  },
  {
   "cell_type": "code",
   "execution_count": 16,
   "metadata": {
    "ExecuteTime": {
     "end_time": "2019-08-03T20:40:57.022016Z",
     "start_time": "2019-08-03T20:40:25.632755Z"
    }
   },
   "outputs": [
    {
     "name": "stdout",
     "output_type": "stream",
     "text": [
      "1 of KFold 5\n",
      "ROC AUC score: 0.500, f1-score: 0.000\n",
      "2 of KFold 5\n",
      "ROC AUC score: 0.500, f1-score: 0.000\n",
      "3 of KFold 5\n",
      "ROC AUC score: 0.500, f1-score: 0.000\n",
      "4 of KFold 5\n",
      "ROC AUC score: 0.500, f1-score: 0.000\n",
      "5 of KFold 5\n",
      "ROC AUC score: 0.500, f1-score: 0.000\n",
      "\n",
      "Average:\n",
      " ROC AUC - 0.50,\n",
      " f1 - 0.00\n"
     ]
    }
   ],
   "source": [
    "runModel(model=xgb.XGBClassifier(), X=df_all)"
   ]
  },
  {
   "cell_type": "code",
   "execution_count": null,
   "metadata": {},
   "outputs": [],
   "source": []
  },
  {
   "cell_type": "code",
   "execution_count": null,
   "metadata": {},
   "outputs": [],
   "source": []
  }
 ],
 "metadata": {
  "kernelspec": {
   "display_name": "Python 2",
   "language": "python",
   "name": "python2"
  },
  "language_info": {
   "codemirror_mode": {
    "name": "ipython",
    "version": 2
   },
   "file_extension": ".py",
   "mimetype": "text/x-python",
   "name": "python",
   "nbconvert_exporter": "python",
   "pygments_lexer": "ipython2",
   "version": "2.7.15"
  }
 },
 "nbformat": 4,
 "nbformat_minor": 2
}
