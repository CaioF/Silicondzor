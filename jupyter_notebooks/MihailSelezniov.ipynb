{
 "cells": [
  {
   "cell_type": "code",
   "execution_count": 53,
   "metadata": {},
   "outputs": [
    {
     "name": "stdout",
     "output_type": "stream",
     "text": [
      "\n",
      "\t--Data--\n",
      "\n",
      "    well id   depth, m        bk       GZ1       GZ2       GZ3       GZ4  \\\n",
      "0     12.0  3042.4630  0.455779  0.774000  0.774000  0.332846  0.476545   \n",
      "1     33.0  2412.8305  0.000000  0.157153  0.755472  0.453216  0.715147   \n",
      "2     33.0  2522.5575  0.000000  0.172235  0.941742  0.525711  0.668600   \n",
      "3     49.0  2396.3625  0.381248  0.246838  0.116913  0.732654  0.151299   \n",
      "4     49.0  2399.0475  0.356867  0.226241  0.155473  0.613300  0.173949   \n",
      "\n",
      "        GZ5       GZ7       DGK      NKTD      NKTM      NKTR      ALPS  \n",
      "0  0.774000  0.244898  0.123651  0.774000  0.799167  0.174639  0.727789  \n",
      "1  0.000000  0.523432  0.388729  0.519233  0.799167  0.563573  0.111216  \n",
      "2  0.000000  0.588924  0.515214  0.527139  0.799167  0.551152  0.172359  \n",
      "3  0.165219  0.656955  0.445917  0.575175  0.799167  0.429433  0.253563  \n",
      "4  0.297194  0.773218  0.392743  0.575725  0.799167  0.447169  0.959633  \n",
      "\n",
      "\t--Labels--\n",
      "\n",
      "        lith\n",
      "0        NK\n",
      "1  ARGILLIT\n",
      "2  ARGILLIT\n",
      "3  ARGILLIT\n",
      "4  ARGILLIT \n",
      "\n",
      "    goal\n",
      "0   0.0\n",
      "1   0.0\n",
      "2   0.0\n",
      "3   0.0\n",
      "4   0.0\n"
     ]
    }
   ],
   "source": [
    "import pandas as pd\n",
    "data = pd.read_csv(\"../data/train.csv\", sep='|', usecols = range(0,14))\n",
    "labels_1 = pd.read_csv(\"../data/train.csv\", sep='|', usecols = range(14,15))\n",
    "labels_2 = pd.read_csv(\"../data/train.csv\", sep='|', usecols = range(15,16))\n",
    "data, labels_1, labels_2 = data.fillna(0), labels_1.fillna('Nan'), labels_2.fillna(0)\n",
    "print('\\n\\t--Data--\\n\\n', data.head())\n",
    "print('\\n\\t--Labels--\\n\\n', labels_1.head(), '\\n\\n', labels_2.head())"
   ]
  },
  {
   "cell_type": "code",
   "execution_count": 3,
   "metadata": {},
   "outputs": [],
   "source": [
    "from sklearn.ensemble import GradientBoostingClassifier\n",
    "from sklearn.model_selection import cross_val_score, StratifiedKFold"
   ]
  },
  {
   "cell_type": "code",
   "execution_count": 4,
   "metadata": {},
   "outputs": [
    {
     "name": "stdout",
     "output_type": "stream",
     "text": [
      "roc_auc cv_score:  [0.93036526 0.92993601 0.93217953 0.93197434 0.93083645]\n",
      "roc_auc cv_score mean:  0.9310583178101058\n"
     ]
    }
   ],
   "source": [
    "gb_cl = GradientBoostingClassifier(random_state=42)\n",
    "cv = StratifiedKFold(n_splits=5, random_state=42, shuffle=True)\n",
    "gbcl_cv_score = cross_val_score(estimator=gb_cl, X=data, y=labels_2, cv=cv, n_jobs=-1, scoring='roc_auc')\n",
    "print('roc_auc cv_score: ', gbcl_cv_score)\n",
    "print('roc_auc cv_score mean: ', gbcl_cv_score.mean())"
   ]
  },
  {
   "cell_type": "code",
   "execution_count": 33,
   "metadata": {},
   "outputs": [
    {
     "data": {
      "text/html": [
       "<div>\n",
       "<style scoped>\n",
       "    .dataframe tbody tr th:only-of-type {\n",
       "        vertical-align: middle;\n",
       "    }\n",
       "\n",
       "    .dataframe tbody tr th {\n",
       "        vertical-align: top;\n",
       "    }\n",
       "\n",
       "    .dataframe thead th {\n",
       "        text-align: right;\n",
       "    }\n",
       "</style>\n",
       "<table border=\"1\" class=\"dataframe\">\n",
       "  <thead>\n",
       "    <tr style=\"text-align: right;\">\n",
       "      <th></th>\n",
       "      <th>lith</th>\n",
       "    </tr>\n",
       "  </thead>\n",
       "  <tbody>\n",
       "    <tr>\n",
       "      <th>0</th>\n",
       "      <td>6</td>\n",
       "    </tr>\n",
       "    <tr>\n",
       "      <th>1</th>\n",
       "      <td>1</td>\n",
       "    </tr>\n",
       "    <tr>\n",
       "      <th>2</th>\n",
       "      <td>1</td>\n",
       "    </tr>\n",
       "    <tr>\n",
       "      <th>3</th>\n",
       "      <td>1</td>\n",
       "    </tr>\n",
       "    <tr>\n",
       "      <th>4</th>\n",
       "      <td>1</td>\n",
       "    </tr>\n",
       "  </tbody>\n",
       "</table>\n",
       "</div>"
      ],
      "text/plain": [
       "   lith\n",
       "0     6\n",
       "1     1\n",
       "2     1\n",
       "3     1\n",
       "4     1"
      ]
     },
     "execution_count": 33,
     "metadata": {},
     "output_type": "execute_result"
    }
   ],
   "source": [
    "from sklearn.preprocessing import LabelEncoder\n",
    "labelencoder = LabelEncoder()\n",
    "labels_1['lith'] = labelencoder.fit_transform(labels_1)\n",
    "labels_1.head()"
   ]
  },
  {
   "cell_type": "code",
   "execution_count": 35,
   "metadata": {},
   "outputs": [],
   "source": [
    "gb_cl = GradientBoostingClassifier(random_state=42)\n",
    "cv = StratifiedKFold(n_splits=5, random_state=42, shuffle=True)\n",
    "#gbcl_cv_score = cross_val_score(estimator=gb_cl, X=data, y=labels_1, cv=cv, n_jobs=-1, scoring='roc_auc')\n",
    "#print('roc_auc cv_score: ', gbcl_cv_score)\n",
    "#print('roc_auc cv_score mean: ', gbcl_cv_score.mean())"
   ]
  },
  {
   "cell_type": "code",
   "execution_count": 38,
   "metadata": {},
   "outputs": [
    {
     "name": "stdout",
     "output_type": "stream",
     "text": [
      "roc_auc cv_score:  [0.92889691 0.92902452 0.93205376 0.93017318 0.93044547]\n",
      "roc_auc cv_score mean:  0.9301187701506011\n"
     ]
    }
   ],
   "source": [
    "from xgboost import XGBClassifier\n",
    "xgb_cl = XGBClassifier(random_state=42)\n",
    "xcv = StratifiedKFold(n_splits=5, random_state=42, shuffle=True)\n",
    "xgbcl_cv_score = cross_val_score(estimator=xgb_cl, X=data, y=labels_2, cv=xcv, n_jobs=-1, scoring='roc_auc')\n",
    "print('roc_auc cv_score: ', xgbcl_cv_score)\n",
    "print('roc_auc cv_score mean: ', xgbcl_cv_score.mean())"
   ]
  },
  {
   "cell_type": "code",
   "execution_count": 40,
   "metadata": {},
   "outputs": [],
   "source": [
    "from xgboost import XGBClassifier\n",
    "xgb_cl_1 = XGBClassifier(random_state=42)\n",
    "xcv_1 = StratifiedKFold(n_splits=5, random_state=42, shuffle=True)\n",
    "#xgbcl_cv_score_1 = cross_val_score(estimator=xgb_cl_1, X=data, y=labels_1, cv=xcv_1, n_jobs=-1, scoring='roc_auc')\n",
    "#print('roc_auc cv_score: ', xgbcl_cv_score_1)\n",
    "#print('roc_auc cv_score mean: ', xgbcl_cv_score_1.mean())"
   ]
  },
  {
   "cell_type": "code",
   "execution_count": 49,
   "metadata": {},
   "outputs": [
    {
     "data": {
      "text/plain": [
       "XGBClassifier(base_score=0.5, booster='gbtree', colsample_bylevel=1,\n",
       "       colsample_bynode=1, colsample_bytree=1, gamma=0, learning_rate=0.1,\n",
       "       max_delta_step=0, max_depth=3, min_child_weight=1, missing=None,\n",
       "       n_estimators=100, n_jobs=1, nthread=None,\n",
       "       objective='multi:softprob', random_state=42, reg_alpha=0,\n",
       "       reg_lambda=1, scale_pos_weight=1, seed=None, silent=None,\n",
       "       subsample=1, verbosity=1)"
      ]
     },
     "execution_count": 49,
     "metadata": {},
     "output_type": "execute_result"
    }
   ],
   "source": [
    "xgb_cl_1_2 = XGBClassifier(random_state=42)\n",
    "xgb_cl_1_2.fit(data, labels_1['lith'])"
   ]
  },
  {
   "cell_type": "code",
   "execution_count": 50,
   "metadata": {},
   "outputs": [
    {
     "data": {
      "text/plain": [
       "XGBClassifier(base_score=0.5, booster='gbtree', colsample_bylevel=1,\n",
       "       colsample_bynode=1, colsample_bytree=1, gamma=0, learning_rate=0.1,\n",
       "       max_delta_step=0, max_depth=3, min_child_weight=1, missing=None,\n",
       "       n_estimators=100, n_jobs=1, nthread=None,\n",
       "       objective='binary:logistic', random_state=42, reg_alpha=0,\n",
       "       reg_lambda=1, scale_pos_weight=1, seed=None, silent=None,\n",
       "       subsample=1, verbosity=1)"
      ]
     },
     "execution_count": 50,
     "metadata": {},
     "output_type": "execute_result"
    }
   ],
   "source": [
    "xgb_cl_1_3 = XGBClassifier(random_state=42)\n",
    "xgb_cl_1_3.fit(data, labels_2['goal'])"
   ]
  },
  {
   "cell_type": "code",
   "execution_count": 56,
   "metadata": {},
   "outputs": [],
   "source": [
    "import pandas as pd\n",
    "#tdata = pd.read_csv(\"../data/test.csv\", sep='|', usecols = range(0,14))\n",
    "#tlabels_1 = pd.read_csv(\"../data/test.csv\", sep='|', usecols = range(14,15))\n",
    "#tlabels_2 = pd.read_csv(\"../data/test.csv\", sep='|', usecols = range(15,16))\n",
    "#data, labels_1, labels_2 = data.fillna(0), labels_1.fillna('Nan'), labels_2.fillna(0)\n",
    "#print('\\n\\t--Data--\\n\\n', tdata.head())\n",
    "#print('\\n\\t--Labels--\\n\\n', tlabels_1.head(), '\\n\\n', tlabels_2.head())"
   ]
  },
  {
   "cell_type": "code",
   "execution_count": 55,
   "metadata": {},
   "outputs": [
    {
     "name": "stdout",
     "output_type": "stream",
     "text": [
      "\n",
      "\t--Data--\n",
      "\n",
      "    well id   depth, m        bk       GZ1       GZ2       GZ3       GZ4  \\\n",
      "0       12  3042.4630  0.455779  0.774000  0.774000  0.332846  0.476545   \n",
      "1       33  2412.8305  0.000000  0.157153  0.755472  0.453216  0.715147   \n",
      "2       33  2522.5575  0.000000  0.172235  0.941742  0.525711  0.668600   \n",
      "3       49  2396.3625  0.381248  0.246838  0.116913  0.732654  0.151299   \n",
      "4       49  2399.0475  0.356867  0.226241  0.155473  0.613300  0.173949   \n",
      "\n",
      "        GZ5       GZ7       DGK      NKTD      NKTM      NKTR      ALPS  \n",
      "0  0.774000  0.244898  0.123651  0.774000  0.799167  0.174639  0.727789  \n",
      "1  0.000000  0.523432  0.388729  0.519233  0.799167  0.563573  0.111216  \n",
      "2  0.000000  0.588924  0.515214  0.527139  0.799167  0.551152  0.172359  \n",
      "3  0.165219  0.656955  0.445917  0.575175  0.799167  0.429433  0.253563  \n",
      "4  0.297194  0.773218  0.392743  0.575725  0.799167  0.447169  0.959633  \n",
      "\n",
      "\t--Labels--\n",
      "\n",
      "        lith\n",
      "0        NK\n",
      "1  ARGILLIT\n",
      "2  ARGILLIT\n",
      "3  ARGILLIT\n",
      "4  ARGILLIT \n",
      "\n",
      "    goal\n",
      "0     0\n",
      "1     0\n",
      "2     0\n",
      "3     0\n",
      "4     0\n"
     ]
    }
   ],
   "source": [
    "import pandas as pd\n",
    "num_rows = 50000\n",
    "data_small = pd.read_csv(\"../data/train.csv\", sep='|', usecols = range(0,14), nrows=num_rows)\n",
    "labels_1_small = pd.read_csv(\"../data/train.csv\", sep='|', usecols = range(14,15), nrows=num_rows)\n",
    "labels_2_small = pd.read_csv(\"../data/train.csv\", sep='|', usecols = range(15,16), nrows=num_rows)\n",
    "data_small, labels_1_small, labels_2_small = data_small.fillna(0), labels_1_small.fillna('Nan'), labels_2_small.fillna(0)\n",
    "print('\\n\\t--Data--\\n\\n', data_small.head())\n",
    "print('\\n\\t--Labels--\\n\\n', labels_1_small.head(), '\\n\\n', labels_2_small.head())"
   ]
  },
  {
   "cell_type": "code",
   "execution_count": 59,
   "metadata": {},
   "outputs": [
    {
     "name": "stdout",
     "output_type": "stream",
     "text": [
      "CPU times: user 46.1 s, sys: 96 ms, total: 46.2 s\n",
      "Wall time: 46.2 s\n"
     ]
    }
   ],
   "source": [
    "%%time\n",
    "xgb_1 = XGBClassifier(random_state=42)\n",
    "xgb_1.fit(data_small, labels_1_small['lith'])"
   ]
  },
  {
   "cell_type": "code",
   "execution_count": 60,
   "metadata": {},
   "outputs": [
    {
     "name": "stdout",
     "output_type": "stream",
     "text": [
      "CPU times: user 6.13 s, sys: 86.5 ms, total: 6.22 s\n",
      "Wall time: 6.85 s\n"
     ]
    }
   ],
   "source": [
    "%%time\n",
    "xgb_2 = XGBClassifier(random_state=42)\n",
    "xgb_2.fit(data_small, labels_2_small['goal'])"
   ]
  },
  {
   "cell_type": "code",
   "execution_count": 61,
   "metadata": {},
   "outputs": [
    {
     "name": "stderr",
     "output_type": "stream",
     "text": [
      "/Users/mihailselezniov/anaconda3/lib/python3.7/site-packages/sklearn/model_selection/_split.py:652: Warning: The least populated class in y has only 4 members, which is too few. The minimum number of members in any class cannot be less than n_splits=5.\n",
      "  % (min_groups, self.n_splits)), Warning)\n"
     ]
    },
    {
     "name": "stdout",
     "output_type": "stream",
     "text": [
      "roc_auc cv_score:  [0.77568972 0.77182282 0.7706     0.7689769  0.77190876]\n",
      "roc_auc cv_score mean:  0.771799640604751\n",
      "CPU times: user 289 ms, sys: 122 ms, total: 411 ms\n",
      "Wall time: 2min 7s\n"
     ]
    }
   ],
   "source": [
    "%%time\n",
    "from xgboost import XGBClassifier\n",
    "xgb_cl_small_labels_1 = XGBClassifier(random_state=42)\n",
    "xcv_small_labels_1 = StratifiedKFold(n_splits=5, random_state=42, shuffle=True)\n",
    "xgbcl_cv_score_labels_1 = cross_val_score(estimator=xgb_cl_small_labels_1, X=data_small, y=labels_1_small, cv=xcv_small_labels_1, n_jobs=-1)\n",
    "print('roc_auc cv_score: ', xgbcl_cv_score_labels_1)\n",
    "print('roc_auc cv_score mean: ', xgbcl_cv_score_labels_1.mean())"
   ]
  },
  {
   "cell_type": "code",
   "execution_count": 62,
   "metadata": {},
   "outputs": [
    {
     "name": "stdout",
     "output_type": "stream",
     "text": [
      "roc_auc cv_score:  [0.8940106  0.89851015 0.8971     0.89708971 0.90089009]\n",
      "roc_auc cv_score mean:  0.8975201091810012\n",
      "CPU times: user 56.8 ms, sys: 17.3 ms, total: 74.1 ms\n",
      "Wall time: 12.6 s\n"
     ]
    }
   ],
   "source": [
    "%%time\n",
    "from xgboost import XGBClassifier\n",
    "xgb_cl_small_labels_2 = XGBClassifier(random_state=42)\n",
    "xcv_small_labels_2 = StratifiedKFold(n_splits=5, random_state=42, shuffle=True)\n",
    "xgbcl_cv_score_labels_2 = cross_val_score(estimator=xgb_cl_small_labels_2, X=data_small, y=labels_2_small, cv=xcv_small_labels_2, n_jobs=-1)\n",
    "print('roc_auc cv_score: ', xgbcl_cv_score_labels_2)\n",
    "print('roc_auc cv_score mean: ', xgbcl_cv_score_labels_2.mean())"
   ]
  },
  {
   "cell_type": "code",
   "execution_count": null,
   "metadata": {},
   "outputs": [],
   "source": []
  }
 ],
 "metadata": {
  "kernelspec": {
   "display_name": "Python 3",
   "language": "python",
   "name": "python3"
  },
  "language_info": {
   "codemirror_mode": {
    "name": "ipython",
    "version": 3
   },
   "file_extension": ".py",
   "mimetype": "text/x-python",
   "name": "python",
   "nbconvert_exporter": "python",
   "pygments_lexer": "ipython3",
   "version": "3.7.1"
  }
 },
 "nbformat": 4,
 "nbformat_minor": 2
}
