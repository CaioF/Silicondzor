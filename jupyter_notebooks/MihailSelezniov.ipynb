{
 "cells": [
  {
   "cell_type": "code",
   "execution_count": 53,
   "metadata": {},
   "outputs": [
    {
     "name": "stdout",
     "output_type": "stream",
     "text": [
      "\n",
      "\t--Data--\n",
      "\n",
      "    well id   depth, m        bk       GZ1       GZ2       GZ3       GZ4  \\\n",
      "0     12.0  3042.4630  0.455779  0.774000  0.774000  0.332846  0.476545   \n",
      "1     33.0  2412.8305  0.000000  0.157153  0.755472  0.453216  0.715147   \n",
      "2     33.0  2522.5575  0.000000  0.172235  0.941742  0.525711  0.668600   \n",
      "3     49.0  2396.3625  0.381248  0.246838  0.116913  0.732654  0.151299   \n",
      "4     49.0  2399.0475  0.356867  0.226241  0.155473  0.613300  0.173949   \n",
      "\n",
      "        GZ5       GZ7       DGK      NKTD      NKTM      NKTR      ALPS  \n",
      "0  0.774000  0.244898  0.123651  0.774000  0.799167  0.174639  0.727789  \n",
      "1  0.000000  0.523432  0.388729  0.519233  0.799167  0.563573  0.111216  \n",
      "2  0.000000  0.588924  0.515214  0.527139  0.799167  0.551152  0.172359  \n",
      "3  0.165219  0.656955  0.445917  0.575175  0.799167  0.429433  0.253563  \n",
      "4  0.297194  0.773218  0.392743  0.575725  0.799167  0.447169  0.959633  \n",
      "\n",
      "\t--Labels--\n",
      "\n",
      "        lith\n",
      "0        NK\n",
      "1  ARGILLIT\n",
      "2  ARGILLIT\n",
      "3  ARGILLIT\n",
      "4  ARGILLIT \n",
      "\n",
      "    goal\n",
      "0   0.0\n",
      "1   0.0\n",
      "2   0.0\n",
      "3   0.0\n",
      "4   0.0\n"
     ]
    }
   ],
   "source": [
    "import pandas as pd\n",
    "data = pd.read_csv(\"../data/train.csv\", sep='|', usecols = range(0,14))\n",
    "labels_1 = pd.read_csv(\"../data/train.csv\", sep='|', usecols = range(14,15))\n",
    "labels_2 = pd.read_csv(\"../data/train.csv\", sep='|', usecols = range(15,16))\n",
    "data, labels_1, labels_2 = data.fillna(0), labels_1.fillna('Nan'), labels_2.fillna(0)\n",
    "print('\\n\\t--Data--\\n\\n', data.head())\n",
    "print('\\n\\t--Labels--\\n\\n', labels_1.head(), '\\n\\n', labels_2.head())"
   ]
  },
  {
   "cell_type": "code",
   "execution_count": 3,
   "metadata": {},
   "outputs": [],
   "source": [
    "from sklearn.ensemble import GradientBoostingClassifier\n",
    "from sklearn.model_selection import cross_val_score, StratifiedKFold"
   ]
  },
  {
   "cell_type": "code",
   "execution_count": 4,
   "metadata": {},
   "outputs": [
    {
     "name": "stdout",
     "output_type": "stream",
     "text": [
      "roc_auc cv_score:  [0.93036526 0.92993601 0.93217953 0.93197434 0.93083645]\n",
      "roc_auc cv_score mean:  0.9310583178101058\n"
     ]
    }
   ],
   "source": [
    "gb_cl = GradientBoostingClassifier(random_state=42)\n",
    "cv = StratifiedKFold(n_splits=5, random_state=42, shuffle=True)\n",
    "gbcl_cv_score = cross_val_score(estimator=gb_cl, X=data, y=labels_2, cv=cv, n_jobs=-1, scoring='roc_auc')\n",
    "print('roc_auc cv_score: ', gbcl_cv_score)\n",
    "print('roc_auc cv_score mean: ', gbcl_cv_score.mean())"
   ]
  },
  {
   "cell_type": "code",
   "execution_count": 33,
   "metadata": {},
   "outputs": [
    {
     "data": {
      "text/html": [
       "<div>\n",
       "<style scoped>\n",
       "    .dataframe tbody tr th:only-of-type {\n",
       "        vertical-align: middle;\n",
       "    }\n",
       "\n",
       "    .dataframe tbody tr th {\n",
       "        vertical-align: top;\n",
       "    }\n",
       "\n",
       "    .dataframe thead th {\n",
       "        text-align: right;\n",
       "    }\n",
       "</style>\n",
       "<table border=\"1\" class=\"dataframe\">\n",
       "  <thead>\n",
       "    <tr style=\"text-align: right;\">\n",
       "      <th></th>\n",
       "      <th>lith</th>\n",
       "    </tr>\n",
       "  </thead>\n",
       "  <tbody>\n",
       "    <tr>\n",
       "      <th>0</th>\n",
       "      <td>6</td>\n",
       "    </tr>\n",
       "    <tr>\n",
       "      <th>1</th>\n",
       "      <td>1</td>\n",
       "    </tr>\n",
       "    <tr>\n",
       "      <th>2</th>\n",
       "      <td>1</td>\n",
       "    </tr>\n",
       "    <tr>\n",
       "      <th>3</th>\n",
       "      <td>1</td>\n",
       "    </tr>\n",
       "    <tr>\n",
       "      <th>4</th>\n",
       "      <td>1</td>\n",
       "    </tr>\n",
       "  </tbody>\n",
       "</table>\n",
       "</div>"
      ],
      "text/plain": [
       "   lith\n",
       "0     6\n",
       "1     1\n",
       "2     1\n",
       "3     1\n",
       "4     1"
      ]
     },
     "execution_count": 33,
     "metadata": {},
     "output_type": "execute_result"
    }
   ],
   "source": [
    "from sklearn.preprocessing import LabelEncoder\n",
    "labelencoder = LabelEncoder()\n",
    "labels_1['lith'] = labelencoder.fit_transform(labels_1)\n",
    "labels_1.head()"
   ]
  },
  {
   "cell_type": "code",
   "execution_count": 35,
   "metadata": {},
   "outputs": [],
   "source": [
    "gb_cl = GradientBoostingClassifier(random_state=42)\n",
    "cv = StratifiedKFold(n_splits=5, random_state=42, shuffle=True)\n",
    "#gbcl_cv_score = cross_val_score(estimator=gb_cl, X=data, y=labels_1, cv=cv, n_jobs=-1, scoring='roc_auc')\n",
    "#print('roc_auc cv_score: ', gbcl_cv_score)\n",
    "#print('roc_auc cv_score mean: ', gbcl_cv_score.mean())"
   ]
  },
  {
   "cell_type": "code",
   "execution_count": 38,
   "metadata": {},
   "outputs": [
    {
     "name": "stdout",
     "output_type": "stream",
     "text": [
      "roc_auc cv_score:  [0.92889691 0.92902452 0.93205376 0.93017318 0.93044547]\n",
      "roc_auc cv_score mean:  0.9301187701506011\n"
     ]
    }
   ],
   "source": [
    "from xgboost import XGBClassifier\n",
    "xgb_cl = XGBClassifier(random_state=42)\n",
    "xcv = StratifiedKFold(n_splits=5, random_state=42, shuffle=True)\n",
    "xgbcl_cv_score = cross_val_score(estimator=xgb_cl, X=data, y=labels_2, cv=xcv, n_jobs=-1, scoring='roc_auc')\n",
    "print('roc_auc cv_score: ', xgbcl_cv_score)\n",
    "print('roc_auc cv_score mean: ', xgbcl_cv_score.mean())"
   ]
  },
  {
   "cell_type": "code",
   "execution_count": 40,
   "metadata": {},
   "outputs": [],
   "source": [
    "from xgboost import XGBClassifier\n",
    "xgb_cl_1 = XGBClassifier(random_state=42)\n",
    "xcv_1 = StratifiedKFold(n_splits=5, random_state=42, shuffle=True)\n",
    "#xgbcl_cv_score_1 = cross_val_score(estimator=xgb_cl_1, X=data, y=labels_1, cv=xcv_1, n_jobs=-1, scoring='roc_auc')\n",
    "#print('roc_auc cv_score: ', xgbcl_cv_score_1)\n",
    "#print('roc_auc cv_score mean: ', xgbcl_cv_score_1.mean())"
   ]
  },
  {
   "cell_type": "code",
   "execution_count": 49,
   "metadata": {},
   "outputs": [
    {
     "data": {
      "text/plain": [
       "XGBClassifier(base_score=0.5, booster='gbtree', colsample_bylevel=1,\n",
       "       colsample_bynode=1, colsample_bytree=1, gamma=0, learning_rate=0.1,\n",
       "       max_delta_step=0, max_depth=3, min_child_weight=1, missing=None,\n",
       "       n_estimators=100, n_jobs=1, nthread=None,\n",
       "       objective='multi:softprob', random_state=42, reg_alpha=0,\n",
       "       reg_lambda=1, scale_pos_weight=1, seed=None, silent=None,\n",
       "       subsample=1, verbosity=1)"
      ]
     },
     "execution_count": 49,
     "metadata": {},
     "output_type": "execute_result"
    }
   ],
   "source": [
    "xgb_cl_1_2 = XGBClassifier(random_state=42)\n",
    "xgb_cl_1_2.fit(data, labels_1['lith'])"
   ]
  },
  {
   "cell_type": "code",
   "execution_count": 50,
   "metadata": {},
   "outputs": [
    {
     "data": {
      "text/plain": [
       "XGBClassifier(base_score=0.5, booster='gbtree', colsample_bylevel=1,\n",
       "       colsample_bynode=1, colsample_bytree=1, gamma=0, learning_rate=0.1,\n",
       "       max_delta_step=0, max_depth=3, min_child_weight=1, missing=None,\n",
       "       n_estimators=100, n_jobs=1, nthread=None,\n",
       "       objective='binary:logistic', random_state=42, reg_alpha=0,\n",
       "       reg_lambda=1, scale_pos_weight=1, seed=None, silent=None,\n",
       "       subsample=1, verbosity=1)"
      ]
     },
     "execution_count": 50,
     "metadata": {},
     "output_type": "execute_result"
    }
   ],
   "source": [
    "xgb_cl_1_3 = XGBClassifier(random_state=42)\n",
    "xgb_cl_1_3.fit(data, labels_2['goal'])"
   ]
  },
  {
   "cell_type": "code",
   "execution_count": 56,
   "metadata": {},
   "outputs": [],
   "source": [
    "import pandas as pd\n",
    "#tdata = pd.read_csv(\"../data/test.csv\", sep='|', usecols = range(0,14))\n",
    "#tlabels_1 = pd.read_csv(\"../data/test.csv\", sep='|', usecols = range(14,15))\n",
    "#tlabels_2 = pd.read_csv(\"../data/test.csv\", sep='|', usecols = range(15,16))\n",
    "#data, labels_1, labels_2 = data.fillna(0), labels_1.fillna('Nan'), labels_2.fillna(0)\n",
    "#print('\\n\\t--Data--\\n\\n', tdata.head())\n",
    "#print('\\n\\t--Labels--\\n\\n', tlabels_1.head(), '\\n\\n', tlabels_2.head())"
   ]
  },
  {
   "cell_type": "code",
   "execution_count": 63,
   "metadata": {},
   "outputs": [
    {
     "name": "stdout",
     "output_type": "stream",
     "text": [
      "\n",
      "\t--Data--\n",
      "\n",
      "    well id   depth, m        bk       GZ1       GZ2       GZ3       GZ4  \\\n",
      "0     12.0  3042.4630  0.455779  0.774000  0.774000  0.332846  0.476545   \n",
      "1     33.0  2412.8305  0.000000  0.157153  0.755472  0.453216  0.715147   \n",
      "2     33.0  2522.5575  0.000000  0.172235  0.941742  0.525711  0.668600   \n",
      "3     49.0  2396.3625  0.381248  0.246838  0.116913  0.732654  0.151299   \n",
      "4     49.0  2399.0475  0.356867  0.226241  0.155473  0.613300  0.173949   \n",
      "\n",
      "        GZ5       GZ7       DGK      NKTD      NKTM      NKTR      ALPS  \n",
      "0  0.774000  0.244898  0.123651  0.774000  0.799167  0.174639  0.727789  \n",
      "1  0.000000  0.523432  0.388729  0.519233  0.799167  0.563573  0.111216  \n",
      "2  0.000000  0.588924  0.515214  0.527139  0.799167  0.551152  0.172359  \n",
      "3  0.165219  0.656955  0.445917  0.575175  0.799167  0.429433  0.253563  \n",
      "4  0.297194  0.773218  0.392743  0.575725  0.799167  0.447169  0.959633  \n",
      "\n",
      "\t--Labels--\n",
      "\n",
      "        lith\n",
      "0        NK\n",
      "1  ARGILLIT\n",
      "2  ARGILLIT\n",
      "3  ARGILLIT\n",
      "4  ARGILLIT \n",
      "\n",
      "    goal\n",
      "0   0.0\n",
      "1   0.0\n",
      "2   0.0\n",
      "3   0.0\n",
      "4   0.0\n"
     ]
    }
   ],
   "source": [
    "import pandas as pd\n",
    "num_rows = 50000\n",
    "data_small = pd.read_csv(\"../data/train_clean.csv\", sep='|', usecols = range(0,14), nrows=num_rows)\n",
    "labels_1_small = pd.read_csv(\"../data/train_clean.csv\", sep='|', usecols = range(14,15), nrows=num_rows)\n",
    "labels_2_small = pd.read_csv(\"../data/train_clean.csv\", sep='|', usecols = range(15,16), nrows=num_rows)\n",
    "data_small, labels_1_small, labels_2_small = data_small.fillna(0), labels_1_small.fillna('Nan'), labels_2_small.fillna(0)\n",
    "print('\\n\\t--Data--\\n\\n', data_small.head())\n",
    "print('\\n\\t--Labels--\\n\\n', labels_1_small.head(), '\\n\\n', labels_2_small.head())"
   ]
  },
  {
   "cell_type": "code",
   "execution_count": 59,
   "metadata": {},
   "outputs": [
    {
     "name": "stdout",
     "output_type": "stream",
     "text": [
      "CPU times: user 46.1 s, sys: 96 ms, total: 46.2 s\n",
      "Wall time: 46.2 s\n"
     ]
    }
   ],
   "source": [
    "%%time\n",
    "xgb_1 = XGBClassifier(random_state=42)\n",
    "xgb_1.fit(data_small, labels_1_small['lith'])"
   ]
  },
  {
   "cell_type": "code",
   "execution_count": 60,
   "metadata": {},
   "outputs": [
    {
     "name": "stdout",
     "output_type": "stream",
     "text": [
      "CPU times: user 6.13 s, sys: 86.5 ms, total: 6.22 s\n",
      "Wall time: 6.85 s\n"
     ]
    }
   ],
   "source": [
    "%%time\n",
    "xgb_2 = XGBClassifier(random_state=42)\n",
    "xgb_2.fit(data_small, labels_2_small['goal'])"
   ]
  },
  {
   "cell_type": "code",
   "execution_count": 64,
   "metadata": {},
   "outputs": [
    {
     "name": "stderr",
     "output_type": "stream",
     "text": [
      "/Users/mihailselezniov/anaconda3/lib/python3.7/site-packages/sklearn/model_selection/_split.py:652: Warning: The least populated class in y has only 2 members, which is too few. The minimum number of members in any class cannot be less than n_splits=5.\n",
      "  % (min_groups, self.n_splits)), Warning)\n"
     ]
    },
    {
     "name": "stdout",
     "output_type": "stream",
     "text": [
      "roc_auc cv_score:  [0.78716385 0.78954209 0.7854     0.7806     0.78209105]\n",
      "roc_auc cv_score mean:  0.7849593975898383\n",
      "CPU times: user 252 ms, sys: 66.9 ms, total: 319 ms\n",
      "Wall time: 2min 9s\n"
     ]
    }
   ],
   "source": [
    "%%time\n",
    "from xgboost import XGBClassifier\n",
    "xgb_cl_small_labels_1 = XGBClassifier(random_state=42)\n",
    "xcv_small_labels_1 = StratifiedKFold(n_splits=5, random_state=42, shuffle=True)\n",
    "xgbcl_cv_score_labels_1 = cross_val_score(estimator=xgb_cl_small_labels_1, X=data_small, y=labels_1_small, cv=xcv_small_labels_1, n_jobs=-1)\n",
    "print('roc_auc cv_score: ', xgbcl_cv_score_labels_1)\n",
    "print('roc_auc cv_score mean: ', xgbcl_cv_score_labels_1.mean())"
   ]
  },
  {
   "cell_type": "code",
   "execution_count": 65,
   "metadata": {},
   "outputs": [
    {
     "name": "stdout",
     "output_type": "stream",
     "text": [
      "roc_auc cv_score:  [0.90430957 0.91020898 0.9006     0.90139014 0.90809081]\n",
      "roc_auc cv_score mean:  0.904919899247999\n",
      "CPU times: user 55.1 ms, sys: 21.3 ms, total: 76.4 ms\n",
      "Wall time: 12.4 s\n"
     ]
    }
   ],
   "source": [
    "%%time\n",
    "from xgboost import XGBClassifier\n",
    "xgb_cl_small_labels_2 = XGBClassifier(random_state=42)\n",
    "xcv_small_labels_2 = StratifiedKFold(n_splits=5, random_state=42, shuffle=True)\n",
    "xgbcl_cv_score_labels_2 = cross_val_score(estimator=xgb_cl_small_labels_2, X=data_small, y=labels_2_small, cv=xcv_small_labels_2, n_jobs=-1)\n",
    "print('roc_auc cv_score: ', xgbcl_cv_score_labels_2)\n",
    "print('roc_auc cv_score mean: ', xgbcl_cv_score_labels_2.mean())"
   ]
  },
  {
   "cell_type": "code",
   "execution_count": 231,
   "metadata": {
    "scrolled": false
   },
   "outputs": [
    {
     "name": "stdout",
     "output_type": "stream",
     "text": [
      "[[0, (3,)], [0, (4,)], [0, (5,)], [0, (6,)], [0, (7,)], [0, (8,)], [0, (3, 4)], [0, (3, 5)], [0, (3, 6)], [0, (3, 7)], [0, (3, 8)], [0, (4, 5)], [0, (4, 6)], [0, (4, 7)], [0, (4, 8)], [0, (5, 6)], [0, (5, 7)], [0, (5, 8)], [0, (6, 7)], [0, (6, 8)], [0, (7, 8)], [0, (3, 4, 5)], [0, (3, 4, 6)], [0, (3, 4, 7)], [0, (3, 4, 8)], [0, (3, 5, 6)], [0, (3, 5, 7)], [0, (3, 5, 8)], [0, (3, 6, 7)], [0, (3, 6, 8)], [0, (3, 7, 8)], [0, (4, 5, 6)], [0, (4, 5, 7)], [0, (4, 5, 8)], [0, (4, 6, 7)], [0, (4, 6, 8)], [0, (4, 7, 8)], [0, (5, 6, 7)], [0, (5, 6, 8)], [0, (5, 7, 8)], [0, (6, 7, 8)], [0, (3, 4, 5, 6)], [0, (3, 4, 5, 7)], [0, (3, 4, 5, 8)], [0, (3, 4, 6, 7)], [0, (3, 4, 6, 8)], [0, (3, 4, 7, 8)], [0, (3, 5, 6, 7)], [0, (3, 5, 6, 8)], [0, (3, 5, 7, 8)], [0, (3, 6, 7, 8)], [0, (4, 5, 6, 7)], [0, (4, 5, 6, 8)], [0, (4, 5, 7, 8)], [0, (4, 6, 7, 8)], [0, (5, 6, 7, 8)], [0, (3, 4, 5, 6, 7)], [0, (3, 4, 5, 6, 8)], [0, (3, 4, 5, 7, 8)], [0, (3, 4, 6, 7, 8)], [0, (3, 5, 6, 7, 8)], [0, (4, 5, 6, 7, 8)]]\n",
      "62\n"
     ]
    }
   ],
   "source": [
    "from itertools import combinations\n",
    "data_ml_minimize = []\n",
    "len_all = 0\n",
    "required_columns = [0, 1, 2, 9, 10, 11, 12, 13]\n",
    "for i in range(1, 6):\n",
    "    ls = list(combinations(range(0+3, 6+3), i))\n",
    "    #print(ls)\n",
    "    for j in ls:\n",
    "        data_ml_minimize_row = [0, 0]\n",
    "        data_ml_minimize_row[1] = j\n",
    "        \n",
    "        current_cols = list(j) + required_columns\n",
    "        #print(data_small.iloc[:, current_cols])\n",
    "        \n",
    "        \"\"\"\n",
    "        _data_small = data_small.iloc[:, current_cols]\n",
    "        _xgb_cl_small_labels_2 = XGBClassifier(random_state=42)\n",
    "        _xcv_small_labels_2 = StratifiedKFold(n_splits=5, random_state=42, shuffle=True)\n",
    "        _xgbcl_cv_score_labels_2 = cross_val_score(estimator=_xgb_cl_small_labels_2, X=_data_small, y=labels_2_small, cv=_xcv_small_labels_2, n_jobs=-1)\n",
    "        #print('roc_auc cv_score mean: ', _xgbcl_cv_score_labels_2.mean())\n",
    "        data_ml_minimize_row[0] = _xgbcl_cv_score_labels_2.mean()\n",
    "        print(data_ml_minimize_row)\n",
    "        \"\"\"\n",
    "        \n",
    "        data_ml_minimize.append(data_ml_minimize_row)\n",
    "        #break\n",
    "    #print(list(combinations(range(0, 6), i)) + required_columns)\n",
    "    l = len(list(combinations(range(0, 6), i)))\n",
    "    len_all += l\n",
    "    #break\n",
    "print(data_ml_minimize)\n",
    "print(len_all)\n",
    "#print(len_all*13/60)\n",
    "#range(0,14)\n",
    "#data_small.iloc[:, [0+3, 1+3, 2+3, 3+3, 4+3, 5+3, 9, 13]]"
   ]
  },
  {
   "cell_type": "code",
   "execution_count": null,
   "metadata": {},
   "outputs": [
    {
     "name": "stdout",
     "output_type": "stream",
     "text": [
      "[0.9000035930727709, (2, 3, 4, 5, 6, 7)]\n",
      "[0.8992677793111896, (2, 3, 4, 5, 6, 8)]\n",
      "[0.9078311888821526, (2, 3, 4, 5, 6, 9)]\n",
      "[0.9008850926978373, (2, 3, 4, 5, 6, 10)]\n",
      "[0.8997860236924831, (2, 3, 4, 5, 6, 11)]\n",
      "[0.9009680870985083, (2, 3, 4, 5, 6, 12)]\n",
      "[0.931895191237426, (2, 3, 4, 5, 6, 13)]\n",
      "[0.9007839870948253, (2, 3, 4, 5, 7, 8)]\n",
      "[0.9089262132078625, (2, 3, 4, 5, 7, 9)]\n",
      "[0.9020706432362688, (2, 3, 4, 5, 7, 10)]\n",
      "[0.9012449996261553, (2, 3, 4, 5, 7, 11)]\n",
      "[0.9019126455223846, (2, 3, 4, 5, 7, 12)]\n",
      "[0.9316821733599385, (2, 3, 4, 5, 7, 13)]\n",
      "[0.9084077952786925, (2, 3, 4, 5, 8, 9)]\n",
      "[0.9006729365544925, (2, 3, 4, 5, 8, 10)]\n",
      "[0.8999322852859144, (2, 3, 4, 5, 8, 11)]\n",
      "[0.9007605346340115, (2, 3, 4, 5, 8, 12)]\n",
      "[0.9314373796220068, (2, 3, 4, 5, 8, 13)]\n",
      "[0.9096453306865087, (2, 3, 4, 5, 9, 10)]\n",
      "[0.9093458780687198, (2, 3, 4, 5, 9, 11)]\n",
      "[0.9113842408212168, (2, 3, 4, 5, 9, 12)]\n",
      "[0.9383523738547419, (2, 3, 4, 5, 9, 13)]\n",
      "[0.900538894044822, (2, 3, 4, 5, 10, 11)]\n",
      "[0.9010697835970344, (2, 3, 4, 5, 10, 12)]\n",
      "[0.932771609342274, (2, 3, 4, 5, 10, 13)]\n",
      "[0.9016699139945498, (2, 3, 4, 5, 11, 12)]\n",
      "[0.9322707848196636, (2, 3, 4, 5, 11, 13)]\n",
      "[0.9330034115725742, (2, 3, 4, 5, 12, 13)]\n",
      "[0.8964205953131936, (2, 3, 4, 6, 7, 8)]\n",
      "[0.9041619908711958, (2, 3, 4, 6, 7, 9)]\n",
      "[0.8972755711664098, (2, 3, 4, 6, 7, 10)]\n",
      "[0.8972613341117512, (2, 3, 4, 6, 7, 11)]\n",
      "[0.8971639670146783, (2, 3, 4, 6, 7, 12)]\n",
      "[0.9307222572994448, (2, 3, 4, 6, 7, 13)]\n",
      "[0.9041768885025965, (2, 3, 4, 6, 8, 9)]\n",
      "[0.8959149382820296, (2, 3, 4, 6, 8, 10)]\n",
      "[0.8962094173513139, (2, 3, 4, 6, 8, 11)]\n",
      "[0.8964994781287554, (2, 3, 4, 6, 8, 12)]\n",
      "[0.9306217003791648, (2, 3, 4, 6, 8, 13)]\n",
      "[0.9048459377675424, (2, 3, 4, 6, 9, 10)]\n",
      "[0.9040551463493249, (2, 3, 4, 6, 9, 11)]\n",
      "[0.9055711313270143, (2, 3, 4, 6, 9, 12)]\n",
      "[0.9368131771405999, (2, 3, 4, 6, 9, 13)]\n",
      "[0.8962591275226309, (2, 3, 4, 6, 10, 11)]\n",
      "[0.8972133906604091, (2, 3, 4, 6, 10, 12)]\n",
      "[0.9319914856573484, (2, 3, 4, 6, 10, 13)]\n",
      "[0.8977006650932111, (2, 3, 4, 6, 11, 12)]\n",
      "[0.9305553651839688, (2, 3, 4, 6, 11, 13)]\n",
      "[0.9321005812585789, (2, 3, 4, 6, 12, 13)]\n",
      "[0.9040305958939916, (2, 3, 4, 7, 8, 9)]\n",
      "[0.8974216903273391, (2, 3, 4, 7, 8, 10)]\n",
      "[0.8972289645090669, (2, 3, 4, 7, 8, 11)]\n",
      "[0.8978902666875677, (2, 3, 4, 7, 8, 12)]\n",
      "[0.9304418280497868, (2, 3, 4, 7, 8, 13)]\n",
      "[0.9048194126227177, (2, 3, 4, 7, 9, 10)]\n",
      "[0.9044115842087301, (2, 3, 4, 7, 9, 11)]\n",
      "[0.906390758486874, (2, 3, 4, 7, 9, 12)]\n",
      "[0.9373649252986841, (2, 3, 4, 7, 9, 13)]\n",
      "[0.8970457312807362, (2, 3, 4, 7, 10, 11)]\n",
      "[0.8986928624489445, (2, 3, 4, 7, 10, 12)]\n",
      "[0.93155612284237, (2, 3, 4, 7, 10, 13)]\n",
      "[0.8982317303309099, (2, 3, 4, 7, 11, 12)]\n",
      "[0.9306565014422363, (2, 3, 4, 7, 11, 13)]\n",
      "[0.932980847782186, (2, 3, 4, 7, 12, 13)]\n",
      "[0.9041569564909118, (2, 3, 4, 8, 9, 10)]\n",
      "[0.9036304257684551, (2, 3, 4, 8, 9, 11)]\n",
      "[0.9052634353495537, (2, 3, 4, 8, 9, 12)]\n",
      "[0.9372635224381931, (2, 3, 4, 8, 9, 13)]\n",
      "[0.8966678573504684, (2, 3, 4, 8, 10, 11)]\n",
      "[0.8971357741870861, (2, 3, 4, 8, 10, 12)]\n",
      "[0.9317081809811736, (2, 3, 4, 8, 10, 13)]\n",
      "[0.8977496976727861, (2, 3, 4, 8, 11, 12)]\n",
      "[0.9305081749596358, (2, 3, 4, 8, 11, 13)]\n",
      "[0.9317101261480246, (2, 3, 4, 8, 12, 13)]\n",
      "[0.9044444304120713, (2, 3, 4, 9, 10, 11)]\n",
      "[0.9057684325391653, (2, 3, 4, 9, 10, 12)]\n",
      "[0.9373792829319629, (2, 3, 4, 9, 10, 13)]\n",
      "[0.9060707079938137, (2, 3, 4, 9, 11, 12)]\n",
      "[0.9372737543313103, (2, 3, 4, 9, 11, 13)]\n",
      "[0.9386537226131724, (2, 3, 4, 9, 12, 13)]\n",
      "[0.8967146856128163, (2, 3, 4, 10, 11, 12)]\n",
      "[0.9319991716066527, (2, 3, 4, 10, 11, 13)]\n",
      "[0.9327171078125147, (2, 3, 4, 10, 12, 13)]\n",
      "[0.9320362120064976, (2, 3, 4, 11, 12, 13)]\n",
      "[0.8994113667936265, (2, 3, 5, 6, 7, 8)]\n",
      "[0.9087949551982726, (2, 3, 5, 6, 7, 9)]\n",
      "[0.9016483940003275, (2, 3, 5, 6, 7, 10)]\n",
      "[0.9013007849446396, (2, 3, 5, 6, 7, 11)]\n",
      "[0.9012897697770456, (2, 3, 5, 6, 7, 12)]\n",
      "[0.9319160109650027, (2, 3, 5, 6, 7, 13)]\n",
      "[0.9084263445727496, (2, 3, 5, 6, 8, 9)]\n",
      "[0.9003448727318368, (2, 3, 5, 6, 8, 10)]\n",
      "[0.8997065435350331, (2, 3, 5, 6, 8, 11)]\n",
      "[0.9002426927585943, (2, 3, 5, 6, 8, 12)]\n",
      "[0.9316084026230559, (2, 3, 5, 6, 8, 13)]\n",
      "[0.9094709320109935, (2, 3, 5, 6, 9, 10)]\n",
      "[0.9087620308401296, (2, 3, 5, 6, 9, 11)]\n",
      "[0.9104721223889364, (2, 3, 5, 6, 9, 12)]\n",
      "[0.937647782640504, (2, 3, 5, 6, 9, 13)]\n",
      "[0.9003594465443857, (2, 3, 5, 6, 10, 11)]\n",
      "[0.9007187113705093, (2, 3, 5, 6, 10, 12)]\n",
      "[0.9325446436944229, (2, 3, 5, 6, 10, 13)]\n",
      "[0.9005817249911587, (2, 3, 5, 6, 11, 12)]\n",
      "[0.9318496651899203, (2, 3, 5, 6, 11, 13)]\n",
      "[0.9329720197810382, (2, 3, 5, 6, 12, 13)]\n",
      "[0.9083482442792461, (2, 3, 5, 7, 8, 9)]\n",
      "[0.9013121400943767, (2, 3, 5, 7, 8, 10)]\n",
      "[0.900812470896223, (2, 3, 5, 7, 8, 11)]\n",
      "[0.9007713886116822, (2, 3, 5, 7, 8, 12)]\n",
      "[0.9315126027655098, (2, 3, 5, 7, 8, 13)]\n",
      "[0.9090991266788603, (2, 3, 5, 7, 9, 10)]\n",
      "[0.9091474571857472, (2, 3, 5, 7, 9, 11)]\n",
      "[0.9106694005004481, (2, 3, 5, 7, 9, 12)]\n",
      "[0.9381841944899734, (2, 3, 5, 7, 9, 13)]\n",
      "[0.9013570119279839, (2, 3, 5, 7, 10, 11)]\n",
      "[0.9016528232891126, (2, 3, 5, 7, 10, 12)]\n",
      "[0.9325971382351412, (2, 3, 5, 7, 10, 13)]\n",
      "[0.902210030378232, (2, 3, 5, 7, 11, 12)]\n",
      "[0.9316087932871702, (2, 3, 5, 7, 11, 13)]\n",
      "[0.933323491718115, (2, 3, 5, 7, 12, 13)]\n",
      "[0.9094988076623164, (2, 3, 5, 8, 9, 10)]\n",
      "[0.908579037405814, (2, 3, 5, 8, 9, 11)]\n",
      "[0.9101619268191051, (2, 3, 5, 8, 9, 12)]\n",
      "[0.93770062661564, (2, 3, 5, 8, 9, 13)]\n",
      "[0.9005223437912988, (2, 3, 5, 8, 10, 11)]\n",
      "[0.901086643669856, (2, 3, 5, 8, 10, 12)]\n",
      "[0.9322805729548825, (2, 3, 5, 8, 10, 13)]\n",
      "[0.900535601898944, (2, 3, 5, 8, 11, 12)]\n",
      "[0.9315293713687615, (2, 3, 5, 8, 11, 13)]\n",
      "[0.9327801106825623, (2, 3, 5, 8, 12, 13)]\n",
      "[0.9097401610940118, (2, 3, 5, 9, 10, 11)]\n",
      "[0.9108551665866198, (2, 3, 5, 9, 10, 12)]\n",
      "[0.9380155381940298, (2, 3, 5, 9, 10, 13)]\n",
      "[0.911161080048781, (2, 3, 5, 9, 11, 12)]\n",
      "[0.9377979532905524, (2, 3, 5, 9, 11, 13)]\n",
      "[0.9389972743476569, (2, 3, 5, 9, 12, 13)]\n",
      "[0.9014141783181454, (2, 3, 5, 10, 11, 12)]\n",
      "[0.9329965554517852, (2, 3, 5, 10, 11, 13)]\n",
      "[0.9332395235352624, (2, 3, 5, 10, 12, 13)]\n",
      "[0.9332906027339704, (2, 3, 5, 11, 12, 13)]\n",
      "[0.9025834173354916, (2, 3, 6, 7, 8, 9)]\n",
      "[0.8945537431185796, (2, 3, 6, 7, 8, 10)]\n",
      "[0.8954975770666586, (2, 3, 6, 7, 8, 11)]\n",
      "[0.8961179067046581, (2, 3, 6, 7, 8, 12)]\n",
      "[0.9298355239387016, (2, 3, 6, 7, 8, 13)]\n",
      "[0.9043259359543528, (2, 3, 6, 7, 9, 10)]\n",
      "[0.903855579129065, (2, 3, 6, 7, 9, 11)]\n",
      "[0.9049182941991033, (2, 3, 6, 7, 9, 12)]\n",
      "[0.9367730702279126, (2, 3, 6, 7, 9, 13)]\n",
      "[0.8953274860586079, (2, 3, 6, 7, 10, 11)]\n",
      "[0.8966167599121047, (2, 3, 6, 7, 10, 12)]\n",
      "[0.9311755379301971, (2, 3, 6, 7, 10, 13)]\n",
      "[0.8965567531518948, (2, 3, 6, 7, 11, 12)]\n",
      "[0.9304211762630095, (2, 3, 6, 7, 11, 13)]\n",
      "[0.9319144853938983, (2, 3, 6, 7, 12, 13)]\n",
      "[0.9029882104897128, (2, 3, 6, 8, 9, 10)]\n",
      "[0.9034966769506664, (2, 3, 6, 8, 9, 11)]\n",
      "[0.9047540248778525, (2, 3, 6, 8, 9, 12)]\n",
      "[0.9361028530697364, (2, 3, 6, 8, 9, 13)]\n",
      "[0.8944260402981545, (2, 3, 6, 8, 10, 11)]\n",
      "[0.8948511327630504, (2, 3, 6, 8, 10, 12)]\n",
      "[0.9308061620971675, (2, 3, 6, 8, 10, 13)]\n",
      "[0.8948925677744324, (2, 3, 6, 8, 11, 12)]\n",
      "[0.9298186555899667, (2, 3, 6, 8, 11, 13)]\n",
      "[0.9310864665426994, (2, 3, 6, 8, 12, 13)]\n",
      "[0.9030991670795565, (2, 3, 6, 9, 10, 11)]\n",
      "[0.9051397451980943, (2, 3, 6, 9, 10, 12)]\n",
      "[0.9372178183544919, (2, 3, 6, 9, 10, 13)]\n",
      "[0.9055092650394687, (2, 3, 6, 9, 11, 12)]\n",
      "[0.9361978344168616, (2, 3, 6, 9, 11, 13)]\n",
      "[0.9379106859042456, (2, 3, 6, 9, 12, 13)]\n",
      "[0.8953612722090092, (2, 3, 6, 10, 11, 12)]\n",
      "[0.9313738903383417, (2, 3, 6, 10, 11, 13)]\n",
      "[0.9318331774204026, (2, 3, 6, 10, 12, 13)]\n",
      "[0.9316006982054773, (2, 3, 6, 11, 12, 13)]\n",
      "[0.9038555748116297, (2, 3, 7, 8, 9, 10)]\n",
      "[0.9037990510181174, (2, 3, 7, 8, 9, 11)]\n",
      "[0.9050423300075383, (2, 3, 7, 8, 9, 12)]\n",
      "[0.9367592884680616, (2, 3, 7, 8, 9, 13)]\n",
      "[0.8956197943484439, (2, 3, 7, 8, 10, 11)]\n",
      "[0.8964389973317186, (2, 3, 7, 8, 10, 12)]\n",
      "[0.9313589830634934, (2, 3, 7, 8, 10, 13)]\n",
      "[0.8965682120810634, (2, 3, 7, 8, 11, 12)]\n",
      "[0.930047742765742, (2, 3, 7, 8, 11, 13)]\n",
      "[0.931529170899922, (2, 3, 7, 8, 12, 13)]\n",
      "[0.9045603426753885, (2, 3, 7, 9, 10, 11)]\n",
      "[0.9050801463525555, (2, 3, 7, 9, 10, 12)]\n",
      "[0.93743862977578, (2, 3, 7, 9, 10, 13)]\n",
      "[0.9059687692707659, (2, 3, 7, 9, 11, 12)]\n",
      "[0.9369713989334052, (2, 3, 7, 9, 11, 13)]\n",
      "[0.937977940158685, (2, 3, 7, 9, 12, 13)]\n",
      "[0.8970311099458004, (2, 3, 7, 10, 11, 12)]\n",
      "[0.9314647751094542, (2, 3, 7, 10, 11, 13)]\n",
      "[0.9322790561621563, (2, 3, 7, 10, 12, 13)]\n"
     ]
    },
    {
     "name": "stdout",
     "output_type": "stream",
     "text": [
      "[0.9322112395570741, (2, 3, 7, 11, 12, 13)]\n",
      "[0.9036624109442997, (2, 3, 8, 9, 10, 11)]\n",
      "[0.9040825089214177, (2, 3, 8, 9, 10, 12)]\n",
      "[0.9369064040153944, (2, 3, 8, 9, 10, 13)]\n",
      "[0.9051313792782153, (2, 3, 8, 9, 11, 12)]\n",
      "[0.9365012213555854, (2, 3, 8, 9, 11, 13)]\n",
      "[0.9380217593811903, (2, 3, 8, 9, 12, 13)]\n",
      "[0.8955788376682602, (2, 3, 8, 10, 11, 12)]\n",
      "[0.9312082893622765, (2, 3, 8, 10, 11, 13)]\n",
      "[0.9313929945481135, (2, 3, 8, 10, 12, 13)]\n",
      "[0.9307055589785407, (2, 3, 8, 11, 12, 13)]\n",
      "[0.9054967061568642, (2, 3, 9, 10, 11, 12)]\n",
      "[0.9376718888610366, (2, 3, 9, 10, 11, 13)]\n",
      "[0.9381646712975634, (2, 3, 9, 10, 12, 13)]\n",
      "[0.9382944853405111, (2, 3, 9, 11, 12, 13)]\n",
      "[0.9320300794861097, (2, 3, 10, 11, 12, 13)]\n",
      "[0.8758547967305332, (2, 4, 5, 6, 7, 8)]\n",
      "[0.8897751335194103, (2, 4, 5, 6, 7, 9)]\n",
      "[0.8769380221356865, (2, 4, 5, 6, 7, 10)]\n",
      "[0.8762568438761722, (2, 4, 5, 6, 7, 11)]\n",
      "[0.8794757360523267, (2, 4, 5, 6, 7, 12)]\n",
      "[0.9189880404300197, (2, 4, 5, 6, 7, 13)]\n",
      "[0.8885561052096363, (2, 4, 5, 6, 8, 9)]\n",
      "[0.8753938081601198, (2, 4, 5, 6, 8, 10)]\n",
      "[0.8741468993412831, (2, 4, 5, 6, 8, 11)]\n",
      "[0.8787441586202211, (2, 4, 5, 6, 8, 12)]\n",
      "[0.9183842635468584, (2, 4, 5, 6, 8, 13)]\n",
      "[0.8894698858277035, (2, 4, 5, 6, 9, 10)]\n",
      "[0.8887480211452446, (2, 4, 5, 6, 9, 11)]\n",
      "[0.8921513013361032, (2, 4, 5, 6, 9, 12)]\n",
      "[0.9282948892641103, (2, 4, 5, 6, 9, 13)]\n",
      "[0.8749319465622536, (2, 4, 5, 6, 10, 11)]\n",
      "[0.876387305481819, (2, 4, 5, 6, 10, 12)]\n",
      "[0.9198187480389801, (2, 4, 5, 6, 10, 13)]\n",
      "[0.8782751089438893, (2, 4, 5, 6, 11, 12)]\n",
      "[0.9186636772624424, (2, 4, 5, 6, 11, 13)]\n",
      "[0.9207147741292363, (2, 4, 5, 6, 12, 13)]\n",
      "[0.8897444096379035, (2, 4, 5, 7, 8, 9)]\n",
      "[0.8771077799525362, (2, 4, 5, 7, 8, 10)]\n"
     ]
    }
   ],
   "source": [
    "from itertools import combinations\n",
    "data_ml_minimize_roc_auc = []\n",
    "len_all = 0\n",
    "required_columns = [0, 1]\n",
    "for i in range(6, 13):\n",
    "    ls = list(combinations(range(2, 14), i))\n",
    "    #print(ls)\n",
    "    for j in ls:\n",
    "        data_ml_minimize_row = [0, 0]\n",
    "        data_ml_minimize_row[1] = j\n",
    "        \n",
    "        current_cols = list(j) + required_columns\n",
    "        #print(data_small.iloc[:, current_cols])\n",
    "        \n",
    "        \n",
    "        _data_small = data_small.iloc[:, current_cols]\n",
    "        _xgb_cl_small_labels_2 = XGBClassifier(random_state=42)\n",
    "        _xcv_small_labels_2 = StratifiedKFold(n_splits=5, random_state=42, shuffle=True)\n",
    "        _xgbcl_cv_score_labels_2 = cross_val_score(estimator=_xgb_cl_small_labels_2, X=_data_small, y=labels_2_small, cv=_xcv_small_labels_2, n_jobs=-1, scoring='roc_auc')\n",
    "        #print('roc_auc cv_score mean: ', _xgbcl_cv_score_labels_2.mean())\n",
    "        data_ml_minimize_row[0] = _xgbcl_cv_score_labels_2.mean()\n",
    "        print(data_ml_minimize_row)\n",
    "        \n",
    "        \n",
    "        data_ml_minimize_roc_auc.append(data_ml_minimize_row)\n",
    "        #break\n",
    "    #print(list(combinations(range(0, 6), i)) + required_columns)\n",
    "    #l = len(list(combinations(range(0, 6), i)))\n",
    "    #len_all += l\n",
    "    #break\n",
    "print(data_ml_minimize_roc_auc)\n",
    "#print(len_all)\n",
    "#print(len_all*13/60)\n",
    "#range(0,14)\n",
    "#data_small.iloc[:, [0+3, 1+3, 2+3, 3+3, 4+3, 5+3, 9, 13]]\n",
    "#data_small.iloc[:, [2]]"
   ]
  },
  {
   "cell_type": "code",
   "execution_count": 146,
   "metadata": {},
   "outputs": [
    {
     "name": "stdout",
     "output_type": "stream",
     "text": [
      "\n",
      "\t--Data--\n",
      "\n",
      "     depth, m        bk       GZ1       GZ2       GZ3       GZ4       GZ5  \\\n",
      "0  3042.4630  0.455779  0.774000  0.774000  0.332846  0.476545  0.774000   \n",
      "1  2412.8305  0.000000  0.157153  0.755472  0.453216  0.715147  0.000000   \n",
      "2  2522.5575  0.000000  0.172235  0.941742  0.525711  0.668600  0.000000   \n",
      "3  2396.3625  0.381248  0.246838  0.116913  0.732654  0.151299  0.165219   \n",
      "4  2399.0475  0.356867  0.226241  0.155473  0.613300  0.173949  0.297194   \n",
      "\n",
      "        GZ7       DGK      NKTD      NKTM      NKTR      ALPS  \n",
      "0  0.244898  0.123651  0.774000  0.799167  0.174639  0.727789  \n",
      "1  0.523432  0.388729  0.519233  0.799167  0.563573  0.111216  \n",
      "2  0.588924  0.515214  0.527139  0.799167  0.551152  0.172359  \n",
      "3  0.656955  0.445917  0.575175  0.799167  0.429433  0.253563  \n",
      "4  0.773218  0.392743  0.575725  0.799167  0.447169  0.959633  \n",
      "\n",
      "\t--Labels--\n",
      "\n",
      "        lith\n",
      "0        NK\n",
      "1  ARGILLIT\n",
      "2  ARGILLIT\n",
      "3  ARGILLIT\n",
      "4  ARGILLIT \n",
      "\n",
      "    goal\n",
      "0   0.0\n",
      "1   0.0\n",
      "2   0.0\n",
      "3   0.0\n",
      "4   0.0\n"
     ]
    }
   ],
   "source": [
    "import pandas as pd\n",
    "final_data = pd.read_csv(\"../data/train_clean.csv\", sep='|', usecols = range(1,14))\n",
    "final_labels_1 = pd.read_csv(\"../data/train_clean.csv\", sep='|', usecols = range(14,15))\n",
    "final_labels_2 = pd.read_csv(\"../data/train_clean.csv\", sep='|', usecols = range(15,16))\n",
    "final_data, final_labels_1, final_labels_2 = final_data.fillna(0), final_labels_1.fillna('Nan'), final_labels_2.fillna(0)\n",
    "print('\\n\\t--Data--\\n\\n', final_data.head())\n",
    "print('\\n\\t--Labels--\\n\\n', final_labels_1.head(), '\\n\\n', final_labels_2.head())"
   ]
  },
  {
   "cell_type": "code",
   "execution_count": 147,
   "metadata": {},
   "outputs": [
    {
     "name": "stdout",
     "output_type": "stream",
     "text": [
      "CPU times: user 8min 39s, sys: 2.38 s, total: 8min 42s\n",
      "Wall time: 8min 50s\n"
     ]
    }
   ],
   "source": [
    "%%time\n",
    "final_xgb_1 = XGBClassifier(random_state=42)\n",
    "final_xgb_1.fit(final_data, final_labels_1['lith'])"
   ]
  },
  {
   "cell_type": "code",
   "execution_count": 148,
   "metadata": {},
   "outputs": [
    {
     "name": "stdout",
     "output_type": "stream",
     "text": [
      "CPU times: user 44.5 s, sys: 230 ms, total: 44.7 s\n",
      "Wall time: 44.7 s\n"
     ]
    }
   ],
   "source": [
    "%%time\n",
    "final_xgb_2 = XGBClassifier(random_state=42)\n",
    "final_xgb_2.fit(final_data, final_labels_2['goal'])"
   ]
  },
  {
   "cell_type": "code",
   "execution_count": 151,
   "metadata": {},
   "outputs": [
    {
     "data": {
      "text/html": [
       "<div>\n",
       "<style scoped>\n",
       "    .dataframe tbody tr th:only-of-type {\n",
       "        vertical-align: middle;\n",
       "    }\n",
       "\n",
       "    .dataframe tbody tr th {\n",
       "        vertical-align: top;\n",
       "    }\n",
       "\n",
       "    .dataframe thead th {\n",
       "        text-align: right;\n",
       "    }\n",
       "</style>\n",
       "<table border=\"1\" class=\"dataframe\">\n",
       "  <thead>\n",
       "    <tr style=\"text-align: right;\">\n",
       "      <th></th>\n",
       "      <th>depth, m</th>\n",
       "      <th>bk</th>\n",
       "      <th>GZ1</th>\n",
       "      <th>GZ2</th>\n",
       "      <th>GZ3</th>\n",
       "      <th>GZ4</th>\n",
       "      <th>GZ5</th>\n",
       "      <th>GZ7</th>\n",
       "      <th>DGK</th>\n",
       "      <th>NKTD</th>\n",
       "      <th>NKTM</th>\n",
       "      <th>NKTR</th>\n",
       "      <th>ALPS</th>\n",
       "    </tr>\n",
       "  </thead>\n",
       "  <tbody>\n",
       "    <tr>\n",
       "      <th>0</th>\n",
       "      <td>2465.5460</td>\n",
       "      <td>0.665198</td>\n",
       "      <td>0.259688</td>\n",
       "      <td>0.865866</td>\n",
       "      <td>0.526683</td>\n",
       "      <td>0.116218</td>\n",
       "      <td>0.464870</td>\n",
       "      <td>0.124486</td>\n",
       "      <td>0.196296</td>\n",
       "      <td>0.483192</td>\n",
       "      <td>0.643774</td>\n",
       "      <td>0.376472</td>\n",
       "      <td>0.261831</td>\n",
       "    </tr>\n",
       "    <tr>\n",
       "      <th>1</th>\n",
       "      <td>2465.6355</td>\n",
       "      <td>0.115153</td>\n",
       "      <td>0.258287</td>\n",
       "      <td>0.161988</td>\n",
       "      <td>0.583114</td>\n",
       "      <td>0.122256</td>\n",
       "      <td>0.477795</td>\n",
       "      <td>0.118895</td>\n",
       "      <td>0.146578</td>\n",
       "      <td>0.491132</td>\n",
       "      <td>0.655735</td>\n",
       "      <td>0.359872</td>\n",
       "      <td>0.236470</td>\n",
       "    </tr>\n",
       "    <tr>\n",
       "      <th>2</th>\n",
       "      <td>2465.7250</td>\n",
       "      <td>0.155254</td>\n",
       "      <td>0.318849</td>\n",
       "      <td>0.125817</td>\n",
       "      <td>0.639544</td>\n",
       "      <td>0.128194</td>\n",
       "      <td>0.497212</td>\n",
       "      <td>0.111693</td>\n",
       "      <td>0.968615</td>\n",
       "      <td>0.499726</td>\n",
       "      <td>0.667695</td>\n",
       "      <td>0.343272</td>\n",
       "      <td>0.266756</td>\n",
       "    </tr>\n",
       "    <tr>\n",
       "      <th>3</th>\n",
       "      <td>2465.8145</td>\n",
       "      <td>0.125315</td>\n",
       "      <td>0.474215</td>\n",
       "      <td>0.149127</td>\n",
       "      <td>0.638636</td>\n",
       "      <td>0.128239</td>\n",
       "      <td>0.478265</td>\n",
       "      <td>0.987464</td>\n",
       "      <td>0.546126</td>\n",
       "      <td>0.492469</td>\n",
       "      <td>0.659642</td>\n",
       "      <td>0.341159</td>\n",
       "      <td>0.332568</td>\n",
       "    </tr>\n",
       "    <tr>\n",
       "      <th>4</th>\n",
       "      <td>2465.9040</td>\n",
       "      <td>0.953756</td>\n",
       "      <td>0.638341</td>\n",
       "      <td>0.172437</td>\n",
       "      <td>0.637663</td>\n",
       "      <td>0.113455</td>\n",
       "      <td>0.465892</td>\n",
       "      <td>0.858188</td>\n",
       "      <td>0.123651</td>\n",
       "      <td>0.485865</td>\n",
       "      <td>0.651513</td>\n",
       "      <td>0.339456</td>\n",
       "      <td>0.398383</td>\n",
       "    </tr>\n",
       "  </tbody>\n",
       "</table>\n",
       "</div>"
      ],
      "text/plain": [
       "    depth, m        bk       GZ1       GZ2       GZ3       GZ4       GZ5  \\\n",
       "0  2465.5460  0.665198  0.259688  0.865866  0.526683  0.116218  0.464870   \n",
       "1  2465.6355  0.115153  0.258287  0.161988  0.583114  0.122256  0.477795   \n",
       "2  2465.7250  0.155254  0.318849  0.125817  0.639544  0.128194  0.497212   \n",
       "3  2465.8145  0.125315  0.474215  0.149127  0.638636  0.128239  0.478265   \n",
       "4  2465.9040  0.953756  0.638341  0.172437  0.637663  0.113455  0.465892   \n",
       "\n",
       "        GZ7       DGK      NKTD      NKTM      NKTR      ALPS  \n",
       "0  0.124486  0.196296  0.483192  0.643774  0.376472  0.261831  \n",
       "1  0.118895  0.146578  0.491132  0.655735  0.359872  0.236470  \n",
       "2  0.111693  0.968615  0.499726  0.667695  0.343272  0.266756  \n",
       "3  0.987464  0.546126  0.492469  0.659642  0.341159  0.332568  \n",
       "4  0.858188  0.123651  0.485865  0.651513  0.339456  0.398383  "
      ]
     },
     "execution_count": 151,
     "metadata": {},
     "output_type": "execute_result"
    }
   ],
   "source": [
    "final_test = pd.read_csv(\"../data/test.csv\", sep='|', usecols = range(2,15))\n",
    "final_test.head()"
   ]
  },
  {
   "cell_type": "code",
   "execution_count": 152,
   "metadata": {},
   "outputs": [],
   "source": [
    "final_pred_1 = final_xgb_1.predict(final_test)\n",
    "final_pred_2 = final_xgb_2.predict(final_test)"
   ]
  },
  {
   "cell_type": "code",
   "execution_count": 205,
   "metadata": {},
   "outputs": [],
   "source": [
    "import csv\n",
    "test_for_id = pd.read_csv(\"../data/test.csv\", sep='|', usecols = [0,])\n",
    "df_result = pd.DataFrame({'id':test_for_id.id,'lith':final_pred_1, 'goal':final_pred_2.astype(int)})\n",
    "df_result.to_csv('../data/final_result.csv', index=False)"
   ]
  },
  {
   "cell_type": "code",
   "execution_count": 206,
   "metadata": {},
   "outputs": [
    {
     "name": "stdout",
     "output_type": "stream",
     "text": [
      "DENSE 1\n",
      "SAND 0\n",
      "SAND 0\n",
      "SAND 0\n"
     ]
    }
   ],
   "source": [
    "final_pred_2_ = final_pred_2.astype(int)\n",
    "for i, _ in enumerate(test_for_id.id[:10]):\n",
    "    if final_pred_1[i] == 'SAND' and final_pred_2_[i] == 0:\n",
    "        print(final_pred_1[i], final_pred_2_[i])\n",
    "    if final_pred_1[i] != 'SAND' and final_pred_2_[i] == 1:\n",
    "        print(final_pred_1[i], final_pred_2_[i])"
   ]
  },
  {
   "cell_type": "code",
   "execution_count": 211,
   "metadata": {},
   "outputs": [
    {
     "name": "stderr",
     "output_type": "stream",
     "text": [
      "/Users/mihailselezniov/anaconda3/lib/python3.7/site-packages/ipykernel_launcher.py:3: SettingWithCopyWarning: \n",
      "A value is trying to be set on a copy of a slice from a DataFrame\n",
      "\n",
      "See the caveats in the documentation: http://pandas.pydata.org/pandas-docs/stable/indexing.html#indexing-view-versus-copy\n",
      "  This is separate from the ipykernel package so we can avoid doing imports until\n",
      "/Users/mihailselezniov/anaconda3/lib/python3.7/site-packages/ipykernel_launcher.py:4: SettingWithCopyWarning: \n",
      "A value is trying to be set on a copy of a slice from a DataFrame\n",
      "\n",
      "See the caveats in the documentation: http://pandas.pydata.org/pandas-docs/stable/indexing.html#indexing-view-versus-copy\n",
      "  after removing the cwd from sys.path.\n"
     ]
    }
   ],
   "source": [
    "import numpy as np\n",
    "sand = ['SAND',]\n",
    "df_result['lith'][(df_result['lith'] != 'SAND')&(df_result['goal'] == 1)] = 'SAND'\n",
    "df_result['lith'][(df_result['lith'] == 'SAND')&(df_result['goal']==0)] = 'ARGILLIT'"
   ]
  },
  {
   "cell_type": "code",
   "execution_count": 213,
   "metadata": {},
   "outputs": [],
   "source": [
    "final_pred_2_ = final_pred_2.astype(int)\n",
    "for i, _ in enumerate(test_for_id.id[:]):\n",
    "    if df_result['lith'][i] == 'SAND' and df_result['goal'][i] == 0:\n",
    "        print(df_result['lith'][i], df_result['goal'][i])\n",
    "    if df_result['lith'][i] != 'SAND' and df_result['goal'][i] == 1:\n",
    "        print(df_result['lith'][i], df_result['goal'][i])"
   ]
  },
  {
   "cell_type": "code",
   "execution_count": 214,
   "metadata": {},
   "outputs": [],
   "source": [
    "df_result.to_csv('../data/final_result2.csv', index=False)"
   ]
  },
  {
   "cell_type": "code",
   "execution_count": 215,
   "metadata": {},
   "outputs": [],
   "source": [
    "import pandas as pd\n",
    "data = pd.read_csv(\"../data/train.csv\", sep='|', usecols = range(0,14))\n",
    "labels_1 = pd.read_csv(\"../data/train.csv\", sep='|', usecols = range(14,15))\n",
    "labels_2 = pd.read_csv(\"../data/train.csv\", sep='|', usecols = range(15,16))\n",
    "data, labels_1, labels_2 = data.fillna(0), labels_1.fillna('Nan'), labels_2.fillna(0)"
   ]
  },
  {
   "cell_type": "code",
   "execution_count": 216,
   "metadata": {},
   "outputs": [],
   "source": [
    "from sklearn.model_selection import train_test_split\n",
    "x_train, x_test, y_train, y_test = train_test_split(data, labels_2, test_size=0.3, random_state=42)"
   ]
  },
  {
   "cell_type": "code",
   "execution_count": 218,
   "metadata": {},
   "outputs": [
    {
     "name": "stderr",
     "output_type": "stream",
     "text": [
      "/Users/mihailselezniov/anaconda3/lib/python3.7/site-packages/sklearn/preprocessing/label.py:219: DataConversionWarning: A column-vector y was passed when a 1d array was expected. Please change the shape of y to (n_samples, ), for example using ravel().\n",
      "  y = column_or_1d(y, warn=True)\n",
      "/Users/mihailselezniov/anaconda3/lib/python3.7/site-packages/sklearn/preprocessing/label.py:252: DataConversionWarning: A column-vector y was passed when a 1d array was expected. Please change the shape of y to (n_samples, ), for example using ravel().\n",
      "  y = column_or_1d(y, warn=True)\n"
     ]
    },
    {
     "name": "stdout",
     "output_type": "stream",
     "text": [
      "CPU times: user 39.7 s, sys: 204 ms, total: 39.9 s\n",
      "Wall time: 40.2 s\n"
     ]
    }
   ],
   "source": [
    "%%time\n",
    "xgb = XGBClassifier(random_state=42)\n",
    "xgb.fit(x_train, y_train)"
   ]
  },
  {
   "cell_type": "code",
   "execution_count": 221,
   "metadata": {
    "scrolled": true
   },
   "outputs": [
    {
     "name": "stdout",
     "output_type": "stream",
     "text": [
      "XGBClassifier goal: 90.305%\n"
     ]
    }
   ],
   "source": [
    "from sklearn.metrics import accuracy_score\n",
    "y_pred = xgb.predict(x_test)\n",
    "accuracy = accuracy_score(y_test, y_pred)\n",
    "print(\"XGBClassifier goal: %.3f%%\" % (accuracy * 100.0))"
   ]
  },
  {
   "cell_type": "code",
   "execution_count": 223,
   "metadata": {},
   "outputs": [],
   "source": [
    "x_train_, x_test_, y_train_, y_test_ = train_test_split(data, labels_1, test_size=0.3, random_state=42)"
   ]
  },
  {
   "cell_type": "code",
   "execution_count": 224,
   "metadata": {},
   "outputs": [
    {
     "name": "stdout",
     "output_type": "stream",
     "text": [
      "CPU times: user 7min 47s, sys: 1.65 s, total: 7min 49s\n",
      "Wall time: 7min 54s\n"
     ]
    }
   ],
   "source": [
    "%%time\n",
    "xgb_ = XGBClassifier(random_state=42)\n",
    "xgb_.fit(x_train_, y_train_)"
   ]
  },
  {
   "cell_type": "code",
   "execution_count": 225,
   "metadata": {},
   "outputs": [
    {
     "name": "stdout",
     "output_type": "stream",
     "text": [
      "XGBClassifier lith: 78.096%\n"
     ]
    }
   ],
   "source": [
    "y_pred_ = xgb_.predict(x_test_)\n",
    "accuracy = accuracy_score(y_test_, y_pred_)\n",
    "print(\"XGBClassifier lith: %.3f%%\" % (accuracy * 100.0))"
   ]
  },
  {
   "cell_type": "code",
   "execution_count": 229,
   "metadata": {},
   "outputs": [],
   "source": [
    "y_pred_2 = []\n",
    "for i in range(len(y_pred_)):\n",
    "    if y_pred[i] == 0 and y_pred_[i] == 'SAND':\n",
    "        y_pred_2.append('ARGILLIT')\n",
    "    elif y_pred[i] == 1 and y_pred_[i] != 'SAND':\n",
    "        y_pred_2.append('SAND')\n",
    "    else:\n",
    "        y_pred_2.append(y_pred_[i])"
   ]
  },
  {
   "cell_type": "code",
   "execution_count": 230,
   "metadata": {},
   "outputs": [
    {
     "name": "stdout",
     "output_type": "stream",
     "text": [
      "XGBClassifier lith 2: 77.082%\n"
     ]
    }
   ],
   "source": [
    "accuracy = accuracy_score(y_test_, y_pred_2)\n",
    "print(\"XGBClassifier lith 2: %.3f%%\" % (accuracy * 100.0))"
   ]
  },
  {
   "cell_type": "code",
   "execution_count": null,
   "metadata": {},
   "outputs": [],
   "source": []
  }
 ],
 "metadata": {
  "kernelspec": {
   "display_name": "Python 3",
   "language": "python",
   "name": "python3"
  },
  "language_info": {
   "codemirror_mode": {
    "name": "ipython",
    "version": 3
   },
   "file_extension": ".py",
   "mimetype": "text/x-python",
   "name": "python",
   "nbconvert_exporter": "python",
   "pygments_lexer": "ipython3",
   "version": "3.7.1"
  }
 },
 "nbformat": 4,
 "nbformat_minor": 2
}
