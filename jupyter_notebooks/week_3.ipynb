{
 "cells": [
  {
   "cell_type": "code",
   "execution_count": 1,
   "metadata": {},
   "outputs": [],
   "source": [
    "import random\n",
    "import pandas as pd\n",
    "import numpy as np\n",
    "import seaborn as sns\n",
    "import matplotlib.pyplot as plt\n",
    "%matplotlib inline\n",
    "\n",
    "from scipy import stats\n",
    "from sklearn.preprocessing import LabelEncoder, StandardScaler\n",
    "from sklearn.model_selection import train_test_split\n",
    "from sklearn.preprocessing import OneHotEncoder\n",
    "from scipy.sparse import csr_matrix, hstack\n",
    "\n",
    "plt.style.use(['dark_background'])"
   ]
  },
  {
   "cell_type": "code",
   "execution_count": null,
   "metadata": {},
   "outputs": [],
   "source": []
  },
  {
   "cell_type": "markdown",
   "metadata": {},
   "source": [
    "## 1. Загрузим данные и слегка предобработаем"
   ]
  },
  {
   "cell_type": "code",
   "execution_count": 4,
   "metadata": {},
   "outputs": [],
   "source": [
    "orange_small_churn_data = pd.read_csv('orange_small_churn_data.train')\n",
    "orange_small_churn_labels = pd.read_csv('orange_small_churn_labels.train', header=None, names=['target'])"
   ]
  },
  {
   "cell_type": "code",
   "execution_count": null,
   "metadata": {},
   "outputs": [],
   "source": []
  },
  {
   "cell_type": "code",
   "execution_count": null,
   "metadata": {},
   "outputs": [],
   "source": []
  },
  {
   "cell_type": "code",
   "execution_count": null,
   "metadata": {},
   "outputs": [],
   "source": []
  },
  {
   "cell_type": "code",
   "execution_count": 5,
   "metadata": {},
   "outputs": [],
   "source": [
    "df_all = pd.concat([orange_small_churn_data, orange_small_churn_labels], axis=1, sort=False)"
   ]
  },
  {
   "cell_type": "code",
   "execution_count": null,
   "metadata": {},
   "outputs": [],
   "source": []
  },
  {
   "cell_type": "code",
   "execution_count": 6,
   "metadata": {},
   "outputs": [],
   "source": [
    "# дропнем пустые признаки\n",
    "df_all = df_all.dropna(axis=1, how='all')"
   ]
  },
  {
   "cell_type": "code",
   "execution_count": null,
   "metadata": {},
   "outputs": [],
   "source": []
  },
  {
   "cell_type": "code",
   "execution_count": 7,
   "metadata": {},
   "outputs": [],
   "source": [
    "# дропнем константные признаки\n",
    "nuniq_val = df_all.nunique()\n",
    "df_all = df_all.drop(nuniq_val[nuniq_val==1].index, axis=1)"
   ]
  },
  {
   "cell_type": "code",
   "execution_count": null,
   "metadata": {},
   "outputs": [],
   "source": []
  },
  {
   "cell_type": "code",
   "execution_count": 8,
   "metadata": {},
   "outputs": [],
   "source": [
    "num_col = df_all.drop('target', axis=1).dtypes[(df_all.dtypes==np.float64) | (df_all.dtypes==np.int64)].index\n",
    "category_col = df_all.dtypes[df_all.dtypes==object].index"
   ]
  },
  {
   "cell_type": "code",
   "execution_count": null,
   "metadata": {},
   "outputs": [],
   "source": []
  },
  {
   "cell_type": "markdown",
   "metadata": {},
   "source": [
    "## 2. Выделим train и test и продолжим дальше предобрабатывать данные"
   ]
  },
  {
   "cell_type": "code",
   "execution_count": 9,
   "metadata": {},
   "outputs": [
    {
     "data": {
      "text/plain": [
       "((28000, 207), (12000, 207), (28000L,), (12000L,))"
      ]
     },
     "execution_count": 9,
     "metadata": {},
     "output_type": "execute_result"
    }
   ],
   "source": [
    "X_train, X_test, y_train, y_test = train_test_split(df_all.drop('target', axis=1), df_all.target, test_size=0.3, stratify=df_all.target, random_state=42)\n",
    "X_train.shape, X_test.shape, y_train.shape, y_test.shape"
   ]
  },
  {
   "cell_type": "code",
   "execution_count": null,
   "metadata": {},
   "outputs": [],
   "source": []
  },
  {
   "cell_type": "code",
   "execution_count": 10,
   "metadata": {},
   "outputs": [
    {
     "data": {
      "text/plain": [
       "((28000L, 173L), (12000L, 173L))"
      ]
     },
     "execution_count": 10,
     "metadata": {},
     "output_type": "execute_result"
    }
   ],
   "source": [
    "## заполним пропуски\n",
    "\n",
    "# для численных - среднее по тренировочной выборке\n",
    "X_train[num_col] = X_train[num_col].fillna(X_train[num_col].mean())\n",
    "X_test[num_col] = X_test[num_col].fillna(X_train[num_col].mean())\n",
    "\n",
    "# и сделаем скелинг\n",
    "scaler = StandardScaler()\n",
    "X_train_num_scaled = scaler.fit_transform(X_train[num_col].values)\n",
    "X_test_num_scaled = scaler.transform(X_test[num_col].values)\n",
    "\n",
    "X_train_num_scaled.shape, X_test_num_scaled.shape"
   ]
  },
  {
   "cell_type": "code",
   "execution_count": null,
   "metadata": {},
   "outputs": [],
   "source": []
  },
  {
   "cell_type": "code",
   "execution_count": 11,
   "metadata": {},
   "outputs": [
    {
     "data": {
      "text/plain": [
       "((28000L, 51949L), (12000L, 51949L))"
      ]
     },
     "execution_count": 11,
     "metadata": {},
     "output_type": "execute_result"
    }
   ],
   "source": [
    "# для категориальных используем OHE, обученный на тренировочном наборе\n",
    "\n",
    "enc = OneHotEncoder(sparse=True, handle_unknown = 'ignore')\n",
    "X_train_cat_ohe = enc.fit_transform(X_train[category_col].fillna('-'))\n",
    "X_test_cat_ohe = enc.transform(X_test[category_col].fillna('-'))\n",
    "\n",
    "X_train_cat_ohe.shape, X_test_cat_ohe.shape"
   ]
  },
  {
   "cell_type": "code",
   "execution_count": null,
   "metadata": {},
   "outputs": [],
   "source": []
  },
  {
   "cell_type": "code",
   "execution_count": 12,
   "metadata": {},
   "outputs": [
    {
     "data": {
      "text/plain": [
       "((28000L, 52122L), (12000L, 52122L))"
      ]
     },
     "execution_count": 12,
     "metadata": {},
     "output_type": "execute_result"
    }
   ],
   "source": [
    "# соединим признаки в train и test\n",
    "\n",
    "X_train_final = csr_matrix(hstack([X_train_num_scaled, X_train_cat_ohe]))\n",
    "X_test_final = csr_matrix(hstack([X_test_num_scaled, X_test_cat_ohe]))\n",
    "\n",
    "X_train_final.shape, X_test_final.shape"
   ]
  },
  {
   "cell_type": "code",
   "execution_count": null,
   "metadata": {},
   "outputs": [],
   "source": []
  },
  {
   "cell_type": "markdown",
   "metadata": {},
   "source": [
    "## 4. Получим baselines "
   ]
  },
  {
   "cell_type": "code",
   "execution_count": 13,
   "metadata": {},
   "outputs": [],
   "source": [
    "from sklearn.linear_model import RidgeClassifier, LogisticRegression\n",
    "from sklearn.ensemble import RandomForestClassifier, GradientBoostingClassifier\n",
    "\n",
    "from sklearn.model_selection import cross_val_score, StratifiedKFold\n",
    "from sklearn.metrics import roc_auc_score, roc_curve, confusion_matrix,accuracy_score, classification_report\n",
    "from sklearn.metrics import precision_recall_curve, f1_score, recall_score, precision_score, log_loss"
   ]
  },
  {
   "cell_type": "code",
   "execution_count": null,
   "metadata": {},
   "outputs": [],
   "source": []
  },
  {
   "cell_type": "markdown",
   "metadata": {},
   "source": [
    "### 4.1 Линейная модель (ридж)"
   ]
  },
  {
   "cell_type": "code",
   "execution_count": 14,
   "metadata": {},
   "outputs": [],
   "source": [
    "rc = RidgeClassifier(random_state=42)\n",
    "cv = StratifiedKFold(n_splits=5, random_state=42, shuffle=True)"
   ]
  },
  {
   "cell_type": "code",
   "execution_count": null,
   "metadata": {},
   "outputs": [],
   "source": []
  },
  {
   "cell_type": "code",
   "execution_count": 15,
   "metadata": {},
   "outputs": [],
   "source": [
    "cv_score = cross_val_score(estimator=rc, X=X_train_final, y=y_train, cv=cv, n_jobs=-1, scoring='roc_auc')"
   ]
  },
  {
   "cell_type": "code",
   "execution_count": null,
   "metadata": {},
   "outputs": [],
   "source": []
  },
  {
   "cell_type": "code",
   "execution_count": 16,
   "metadata": {},
   "outputs": [
    {
     "name": "stdout",
     "output_type": "stream",
     "text": [
      "('roc_auc cv_score: ', array([0.67167655, 0.69559861, 0.66206205, 0.69479502, 0.67069719]))\n",
      "('roc_auc cv_score mean: ', 0.6789658862062481)\n"
     ]
    }
   ],
   "source": [
    "print('roc_auc cv_score: ', cv_score)\n",
    "print('roc_auc cv_score mean: ', cv_score.mean())"
   ]
  },
  {
   "cell_type": "code",
   "execution_count": null,
   "metadata": {},
   "outputs": [],
   "source": []
  },
  {
   "cell_type": "code",
   "execution_count": 17,
   "metadata": {},
   "outputs": [],
   "source": [
    "rc.fit(X_train_final, y_train)\n",
    "predict = rc.predict(X_test_final)\n",
    "decision = rc.decision_function(X_test_final)\n",
    "probab = np.exp(decision) / (1 + np.exp(decision))"
   ]
  },
  {
   "cell_type": "code",
   "execution_count": null,
   "metadata": {},
   "outputs": [],
   "source": []
  },
  {
   "cell_type": "code",
   "execution_count": 18,
   "metadata": {},
   "outputs": [
    {
     "name": "stdout",
     "output_type": "stream",
     "text": [
      "('accuracy: ', 0.9255)\n",
      "('logLoss:', 0.4150983823300894)\n",
      "('rocAuc:', 0.6848815920793269)\n",
      "              precision    recall  f1-score   support\n",
      "\n",
      "          -1       0.93      1.00      0.96     11107\n",
      "           1       0.00      0.00      0.00       893\n",
      "\n",
      "   micro avg       0.93      0.93      0.93     12000\n",
      "   macro avg       0.46      0.50      0.48     12000\n",
      "weighted avg       0.86      0.93      0.89     12000\n",
      "\n"
     ]
    }
   ],
   "source": [
    "print(\"accuracy: \", accuracy_score(y_test,predict))\n",
    "print('logLoss:', log_loss(y_test, probab))\n",
    "print('rocAuc:', roc_auc_score(y_test, probab))\n",
    "print(classification_report(y_test, predict))"
   ]
  },
  {
   "cell_type": "code",
   "execution_count": null,
   "metadata": {},
   "outputs": [],
   "source": []
  },
  {
   "cell_type": "markdown",
   "metadata": {},
   "source": [
    "### 4.2 Случайный лес"
   ]
  },
  {
   "cell_type": "code",
   "execution_count": 19,
   "metadata": {},
   "outputs": [],
   "source": [
    "rfcl = RandomForestClassifier(random_state=42, n_jobs=-1, class_weight={-1: 10, 1:1})"
   ]
  },
  {
   "cell_type": "code",
   "execution_count": null,
   "metadata": {},
   "outputs": [],
   "source": []
  },
  {
   "cell_type": "code",
   "execution_count": 20,
   "metadata": {},
   "outputs": [],
   "source": [
    "rfcl_cv_score = cross_val_score(estimator=rfcl, X=X_train_final, y=y_train, cv=cv, n_jobs=-1, scoring='roc_auc')"
   ]
  },
  {
   "cell_type": "code",
   "execution_count": null,
   "metadata": {},
   "outputs": [],
   "source": []
  },
  {
   "cell_type": "code",
   "execution_count": 21,
   "metadata": {},
   "outputs": [
    {
     "name": "stdout",
     "output_type": "stream",
     "text": [
      "('roc_auc cv_score: ', array([0.57554489, 0.56814757, 0.55019824, 0.5369171 , 0.56118468]))\n",
      "('roc_auc cv_score mean: ', 0.5583984944124538)\n"
     ]
    }
   ],
   "source": [
    "print('roc_auc cv_score: ', rfcl_cv_score)\n",
    "print('roc_auc cv_score mean: ', rfcl_cv_score.mean())"
   ]
  },
  {
   "cell_type": "code",
   "execution_count": null,
   "metadata": {},
   "outputs": [],
   "source": []
  },
  {
   "cell_type": "code",
   "execution_count": 22,
   "metadata": {},
   "outputs": [
    {
     "name": "stderr",
     "output_type": "stream",
     "text": [
      "C:\\Users\\Pavel\\Anaconda2\\lib\\site-packages\\sklearn\\ensemble\\forest.py:246: FutureWarning: The default value of n_estimators will change from 10 in version 0.20 to 100 in 0.22.\n",
      "  \"10 in version 0.20 to 100 in 0.22.\", FutureWarning)\n"
     ]
    }
   ],
   "source": [
    "rfcl.fit(X_train_final, y_train)\n",
    "rfcl_predict = rfcl.predict(X_test_final)\n",
    "rfcl_probabil = rfcl.predict_proba(X_test_final)"
   ]
  },
  {
   "cell_type": "code",
   "execution_count": null,
   "metadata": {},
   "outputs": [],
   "source": []
  },
  {
   "cell_type": "code",
   "execution_count": 23,
   "metadata": {},
   "outputs": [
    {
     "name": "stdout",
     "output_type": "stream",
     "text": [
      "('accuracy: ', 0.9244166666666667)\n",
      "('logLoss:', 1.513462037555319)\n",
      "('rocAuc:', 0.5801963915898602)\n",
      "              precision    recall  f1-score   support\n",
      "\n",
      "          -1       0.93      1.00      0.96     11107\n",
      "           1       0.25      0.01      0.02       893\n",
      "\n",
      "   micro avg       0.92      0.92      0.92     12000\n",
      "   macro avg       0.59      0.50      0.49     12000\n",
      "weighted avg       0.88      0.92      0.89     12000\n",
      "\n"
     ]
    }
   ],
   "source": [
    "print(\"accuracy: \", accuracy_score(y_test,rfcl_predict))\n",
    "print('logLoss:', log_loss(y_test, rfcl_probabil[:,1]))\n",
    "print('rocAuc:', roc_auc_score(y_test, rfcl_probabil[:,1]))\n",
    "print(classification_report(y_test, rfcl_predict))"
   ]
  },
  {
   "cell_type": "code",
   "execution_count": null,
   "metadata": {},
   "outputs": [],
   "source": []
  },
  {
   "cell_type": "markdown",
   "metadata": {},
   "source": [
    "### 4.3 Бустинг"
   ]
  },
  {
   "cell_type": "code",
   "execution_count": 24,
   "metadata": {},
   "outputs": [],
   "source": [
    "gb_cl = GradientBoostingClassifier(random_state=42)"
   ]
  },
  {
   "cell_type": "code",
   "execution_count": null,
   "metadata": {},
   "outputs": [],
   "source": []
  },
  {
   "cell_type": "code",
   "execution_count": 25,
   "metadata": {},
   "outputs": [],
   "source": [
    "gbcl_cv_score = cross_val_score(estimator=gb_cl, X=X_train_final, y=y_train, cv=cv, n_jobs=-1, scoring='roc_auc')"
   ]
  },
  {
   "cell_type": "code",
   "execution_count": null,
   "metadata": {},
   "outputs": [],
   "source": []
  },
  {
   "cell_type": "code",
   "execution_count": 26,
   "metadata": {},
   "outputs": [
    {
     "name": "stdout",
     "output_type": "stream",
     "text": [
      "('roc_auc cv_score: ', array([0.72226015, 0.75584532, 0.70575544, 0.75321085, 0.72807459]))\n",
      "('roc_auc cv_score mean: ', 0.7330292708841327)\n"
     ]
    }
   ],
   "source": [
    "print('roc_auc cv_score: ', gbcl_cv_score)\n",
    "print('roc_auc cv_score mean: ', gbcl_cv_score.mean())"
   ]
  },
  {
   "cell_type": "code",
   "execution_count": null,
   "metadata": {},
   "outputs": [],
   "source": []
  },
  {
   "cell_type": "code",
   "execution_count": 27,
   "metadata": {},
   "outputs": [],
   "source": [
    "gb_cl.fit(X_train_final, y_train)\n",
    "gbcl_predict = gb_cl.predict(X_test_final)\n",
    "gbcl_probabil = gb_cl.predict_proba(X_test_final)"
   ]
  },
  {
   "cell_type": "code",
   "execution_count": null,
   "metadata": {},
   "outputs": [],
   "source": []
  },
  {
   "cell_type": "code",
   "execution_count": 28,
   "metadata": {},
   "outputs": [
    {
     "name": "stdout",
     "output_type": "stream",
     "text": [
      "('accuracy: ', 0.9243333333333333)\n",
      "('logLoss:', 0.24131486182832643)\n",
      "('rocAuc:', 0.7328792280243354)\n",
      "              precision    recall  f1-score   support\n",
      "\n",
      "          -1       0.93      1.00      0.96     11107\n",
      "           1       0.27      0.01      0.02       893\n",
      "\n",
      "   micro avg       0.92      0.92      0.92     12000\n",
      "   macro avg       0.60      0.50      0.49     12000\n",
      "weighted avg       0.88      0.92      0.89     12000\n",
      "\n"
     ]
    }
   ],
   "source": [
    "print(\"accuracy: \", accuracy_score(y_test,gbcl_predict))\n",
    "print('logLoss:', log_loss(y_test, gbcl_probabil[:,1]))\n",
    "print('rocAuc:', roc_auc_score(y_test, gbcl_probabil[:,1]))\n",
    "print(classification_report(y_test, gbcl_predict))"
   ]
  },
  {
   "cell_type": "code",
   "execution_count": null,
   "metadata": {},
   "outputs": [],
   "source": []
  },
  {
   "cell_type": "markdown",
   "metadata": {},
   "source": [
    "    Среди 3 моделей бэйзлайнов -  самый большой rocAuc получился у градиентного бустинга (0.733) \n",
    "    Что касается других метрик (precision, recall, f1-score) их качество совсем низкое)  "
   ]
  }
 ],
 "metadata": {
  "kernelspec": {
   "display_name": "Python 3",
   "language": "python",
   "name": "python3"
  },
  "language_info": {
   "codemirror_mode": {
    "name": "ipython",
    "version": 3
   },
   "file_extension": ".py",
   "mimetype": "text/x-python",
   "name": "python",
   "nbconvert_exporter": "python",
   "pygments_lexer": "ipython3",
   "version": "3.7.1"
  }
 },
 "nbformat": 4,
 "nbformat_minor": 2
}
