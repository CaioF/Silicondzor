{
 "cells": [
  {
   "cell_type": "markdown",
   "metadata": {},
   "source": [
    "# Построение baseline-решений\n",
    "В этом задании вам предстоит построить несколько моделей и оценить их качество. Эти модели будут служить нам в качестве baseline-решений и пригодятся сразу для нескольких задач:\n",
    "1. Во-первых, на разработку baseline-модели не должно уходить много времени (это требование исходит из оценок затрат на проект в целом - большую часть времени все же нужно потратить на основное решение), процесс должен быть простым, на подавляющем большинстве этапов должны использоваться готовые протестированные инструменты. Все это приводит к тому, что baseline-модели - это дешевый способ сделать грубую оценку потенциально возможного качества модели, при построении которого вероятность допущения ошибок относительно невелика.\n",
    "2. Во-вторых, использование моделей разного типа при построении baseline'ов позволяет на раннем этапе сделать предположения о том, какие подходы являются наиболее перспективными и приоритизировать дальнейшие эксперименты.\n",
    "3. Наличие baseline-моделей позволяет оценить, какой прирост качества дают различные преобразования, усложнения, оптимизации и прочие активности, которые вы предпринимаете для построения финального решения.\n",
    "4. Наконец, если после построение сложного решения оценка его качества будет очень сильно отличаться от оценки качества baseline-моделей, то это будет хорошим поводом поискать в решении ошибки.\n",
    "\n",
    "Обучите 3 разные baseline-модели на полученных наборах данных и оцените их качество. На прошлой неделе вы выбрали методику оценки качества моделей на основе кросс-валидации, а также основную и вспомогательные метрики. Оцените с их помощью получившуюся модель. Обратите внимание, что под разными моделями понимаются именно разные алгоритмы классификации. Например, 2 модели, реализующие метод k ближайших соседей с разными k, будут считаться одним baseline-решением (хотя и с разными параметрами). Напоминаем, что отложенная выборка (hold-out dataset) не должна использоваться для построения и оценки baseline-моделей!\n",
    "\n",
    "Можно (но не обязательно) рассмотреть следующий набор алгоритмов:\n",
    "1. Линейная модель (например, реализация sklearn.linear_model.RidgeClassifier)\n",
    "2. Случайный лес (например, реализация sklearn.ensemble.RandomForestClassifier)\n",
    "3. Градиентный бустинг (например, реализация sklearn.ensemble.GradientBoostingClassifier)\n",
    "\n",
    "В качестве решения приложите получившийся jupyther notebook. Убедитесь, что в нем присутствуют:\n",
    "- все baseline-модели, которые вы построили;\n",
    "- качество всех построенных моделей оценено с помощью кросс-валидации, и это понятно из текста в jupyther notebook;\n",
    "- все модели оценены с помощью основной и дополнительных метрик качества.\n",
    "\n",
    "Задание будет оцениваться на основе jupyther notebook'а, который вам нужно будет приложить в качестве решения. Убедитесь, что он содержит всю проделанную вами работу, код написан аккуратно и понятно, его легко читать, а также в тексте notebook'а присутствуют необходимые для понимания проделанной вами работы комментарии."
   ]
  },
  {
   "cell_type": "markdown",
   "metadata": {},
   "source": [
    "Импортируем библиотеки"
   ]
  },
  {
   "cell_type": "code",
   "execution_count": 1,
   "metadata": {},
   "outputs": [],
   "source": [
    "import pandas as pd\n",
    "import random\n",
    "import numpy as np\n",
    "from scipy.sparse import coo_matrix, hstack\n",
    "from matplotlib import pyplot as plt\n",
    "from sklearn.model_selection import StratifiedKFold\n",
    "from sklearn.preprocessing import StandardScaler\n",
    "from sklearn.preprocessing import LabelEncoder\n",
    "from sklearn.preprocessing import OneHotEncoder\n",
    "\n",
    "from sklearn.metrics import roc_curve, precision_recall_curve, f1_score, roc_auc_score, recall_score, precision_score, log_loss\n",
    "\n",
    "from sklearn.linear_model import RidgeClassifier\n",
    "from sklearn.ensemble import RandomForestClassifier\n",
    "from sklearn.ensemble import GradientBoostingClassifier\n",
    "\n",
    "seed = 9202 # константа, сгенерированная и зафиксированная на 2-ой неделе\n",
    "first_categorial_index = 190"
   ]
  },
  {
   "cell_type": "code",
   "execution_count": null,
   "metadata": {},
   "outputs": [],
   "source": []
  },
  {
   "cell_type": "markdown",
   "metadata": {},
   "source": [
    "Загрузим train dataset, выделенный на предыдущей неделе"
   ]
  },
  {
   "cell_type": "code",
   "execution_count": 2,
   "metadata": {},
   "outputs": [
    {
     "name": "stdout",
     "output_type": "stream",
     "text": [
      "(27999, 230)\n",
      "(27999, 1)\n"
     ]
    }
   ],
   "source": [
    "churn_data_frame = pd.read_csv(\"churn_data_train.csv\", \",\")\n",
    "churn_labels_frame = pd.read_csv(\"churn_labels_train.csv\")\n",
    "print(churn_data_frame.shape)\n",
    "print(churn_labels_frame.shape)"
   ]
  },
  {
   "cell_type": "code",
   "execution_count": null,
   "metadata": {},
   "outputs": [],
   "source": []
  },
  {
   "cell_type": "code",
   "execution_count": null,
   "metadata": {},
   "outputs": [],
   "source": []
  },
  {
   "cell_type": "markdown",
   "metadata": {},
   "source": [
    "## Общая предобработка признаков"
   ]
  },
  {
   "cell_type": "code",
   "execution_count": 3,
   "metadata": {},
   "outputs": [],
   "source": [
    "def scale_frame(frame):\n",
    "    \"\"\"Функция масштабирает frame на отрезок [0;1]\"\"\"\n",
    "    scaler = StandardScaler()\n",
    "    scaled_matrix = scaler.fit_transform(frame.as_matrix())\n",
    "    return pd.DataFrame(scaled_matrix, columns=frame.columns)\n",
    "\n",
    "def split_frame(frame, n_columns, c_columns):\n",
    "    \"\"\"Функция разбивает фрейм на два числовой и категориальный, а также масштабирует значения и заполняет пропуски.\"\"\"\n",
    "    n_frame = frame[n_columns].copy()\n",
    "    c_frame = frame[c_columns].copy()\n",
    "    # Посчитаем средние по колонкам\n",
    "    numeric_means = n_frame.mean(axis=0, skipna=True)\n",
    "    # Оставим только те колонки, в которых среднее значение не равно NaN, т.к. в таких колонках совсем нет значений\n",
    "    numeric_means = numeric_means.dropna()\n",
    "    dropped_numeric_colums = n_frame.columns.drop(numeric_means.index)\n",
    "    n_frame = n_frame[list(numeric_means.index)]\n",
    "    # Заполним пропущенные численные значения средними\n",
    "    n_frame = n_frame.fillna(numeric_means, axis=0)\n",
    "    # Заполним пропущенные категориальные значения строками \"NaV\" (Not a value)\n",
    "    c_frame = c_frame.fillna(\"NaV\")\n",
    "    # Посчитаем количества уникальных значений по колонкам\n",
    "    cat_unique_counts = c_frame.nunique()\n",
    "    num_unique_counts = n_frame.nunique()\n",
    "    # Удалим колонки с одним уникальным значением\n",
    "    cat_columns_to_drop = cat_unique_counts[cat_unique_counts == 1].index\n",
    "    num_columns_to_drop = num_unique_counts[num_unique_counts == 1].index\n",
    "    c_frame = c_frame.drop(columns=cat_columns_to_drop)\n",
    "    n_frame = n_frame.drop(columns=num_columns_to_drop)\n",
    "    \n",
    "    dropped_columns = np.concatenate([\n",
    "        dropped_numeric_colums,\n",
    "        list(num_columns_to_drop),\n",
    "        list(cat_columns_to_drop)])\n",
    "    return (n_frame, c_frame, dropped_columns)"
   ]
  },
  {
   "cell_type": "code",
   "execution_count": null,
   "metadata": {},
   "outputs": [],
   "source": []
  },
  {
   "cell_type": "markdown",
   "metadata": {},
   "source": [
    "Разделим коллекции на группы - числовые и категориальные.\n",
    "Выполним начальные преобразования, которые мы делали на 1-й неделе\n",
    "- заполним пропущенные числовые значения средними по колонке\n",
    "- заполним пропущенные категориальные значения строками \"NaV\" (Not a Value)\n",
    "- удалим колонки без значений и с только одним уникальным значением, т.к. они не сыграют роли в модели\n",
    "\n",
    "Все эти действия производятся в функции split_frame (см. выше)"
   ]
  },
  {
   "cell_type": "code",
   "execution_count": 4,
   "metadata": {},
   "outputs": [],
   "source": [
    "numeric_columns = churn_data_frame.columns[:first_categorial_index]\n",
    "categorial_columns = churn_data_frame.columns[first_categorial_index:]\n",
    "\n",
    "numeric_frame, categorial_frame, dropped_columns = split_frame(\n",
    "    churn_data_frame,\n",
    "    numeric_columns,\n",
    "    categorial_columns)"
   ]
  },
  {
   "cell_type": "code",
   "execution_count": null,
   "metadata": {},
   "outputs": [],
   "source": []
  },
  {
   "cell_type": "markdown",
   "metadata": {},
   "source": [
    "Масштабируем числовые признаки"
   ]
  },
  {
   "cell_type": "code",
   "execution_count": 5,
   "metadata": {},
   "outputs": [
    {
     "name": "stderr",
     "output_type": "stream",
     "text": [
      "C:\\Users\\Pavel\\Anaconda2\\lib\\site-packages\\ipykernel_launcher.py:4: FutureWarning: Method .as_matrix will be removed in a future version. Use .values instead.\n",
      "  after removing the cwd from sys.path.\n"
     ]
    }
   ],
   "source": [
    "numeric_frame_scaled = scale_frame(numeric_frame)"
   ]
  },
  {
   "cell_type": "code",
   "execution_count": null,
   "metadata": {},
   "outputs": [],
   "source": []
  },
  {
   "cell_type": "markdown",
   "metadata": {},
   "source": [
    "Закодируем категориальные признаки значениями от 0 до n. Это в любом случае понадобится, т.к. например OneHotEncoder принимает на вход целочисленную матрицу."
   ]
  },
  {
   "cell_type": "code",
   "execution_count": 6,
   "metadata": {},
   "outputs": [],
   "source": [
    "def label_encode(X_categorial):\n",
    "    \"\"\" Функция кодирует категории числами от 0 до n, где n количество категорий в колонке. \"\"\"\n",
    "    X_num = np.empty(X_categorial.shape)\n",
    "    for column_number in range(X_categorial.shape[1]):\n",
    "        labelEncoder = LabelEncoder()\n",
    "        column = X_categorial[:,column_number]\n",
    "        for idx, val in enumerate(column):\n",
    "            if(not(isinstance(val, str))):\n",
    "                column[idx] = \"NaV\"\n",
    "        num_column = labelEncoder.fit_transform(column)\n",
    "        for row_number, val in enumerate(num_column):\n",
    "            X_num[row_number, column_number] = val\n",
    "    return X_num"
   ]
  },
  {
   "cell_type": "code",
   "execution_count": null,
   "metadata": {},
   "outputs": [],
   "source": []
  },
  {
   "cell_type": "code",
   "execution_count": 7,
   "metadata": {},
   "outputs": [
    {
     "name": "stderr",
     "output_type": "stream",
     "text": [
      "C:\\Users\\Pavel\\Anaconda2\\lib\\site-packages\\ipykernel_launcher.py:2: FutureWarning: Method .as_matrix will be removed in a future version. Use .values instead.\n",
      "  \n"
     ]
    }
   ],
   "source": [
    "categorial_frame_labeled = pd.DataFrame(\n",
    "    label_encode(categorial_frame.as_matrix()),\n",
    "    columns=categorial_frame.columns)"
   ]
  },
  {
   "cell_type": "code",
   "execution_count": null,
   "metadata": {},
   "outputs": [],
   "source": []
  },
  {
   "cell_type": "code",
   "execution_count": null,
   "metadata": {},
   "outputs": [],
   "source": []
  },
  {
   "cell_type": "markdown",
   "metadata": {},
   "source": [
    "## Организация оценки качества"
   ]
  },
  {
   "cell_type": "markdown",
   "metadata": {},
   "source": [
    "Функция ниже разбивает выборку на несколько стратифицированных фолдов. После этого по каждому из фолдов строит модель, используя model_factory и обучает её. На полученной обученной модели функция строит предсказания и по ним считает F-меру.\n",
    "Функция возвращает усредненное по всем фолдам значение F-меры. По умолчанию установлено 5 фолдов."
   ]
  },
  {
   "cell_type": "code",
   "execution_count": 8,
   "metadata": {},
   "outputs": [],
   "source": [
    "def stratifiedKFold_fscore(X, y, model_factory, seed, folds_count = 5):\n",
    "    \"\"\" Функция разбивает набор данных на folds_count, считает F-меру на каждом фолде и возвращает усредненное по фолдам значение. \"\"\"\n",
    "    skf = StratifiedKFold(n_splits=folds_count, shuffle=True, random_state=seed)\n",
    "    f_score_sum = 0\n",
    "    # Функция также возвращает модель, показавшую лучшее качество, её метрики и разделение данных\n",
    "    # Разделение данных нужно для того, чтобы строить метрики модели на данных, на которых она не обучалась.\n",
    "    best_model = None\n",
    "    best_score = 0\n",
    "    best_precision = 0\n",
    "    best_recall = 0\n",
    "    best_table = None\n",
    "    best_split = None\n",
    "    for train_indices, test_indices in skf.split(X, y):\n",
    "        X_train = X.tocsc()[train_indices]\n",
    "        X_test = X.tocsc()[test_indices]\n",
    "        y_train = y[train_indices]\n",
    "        y_test = y[test_indices]\n",
    "        model = model_factory()\n",
    "        # Обучим модель\n",
    "        model.fit(X_train, y_train)\n",
    "        # Построим предсказания для расчета оценки\n",
    "        y_predicted = model.predict(X_test)\n",
    "        fscore = f1_score(y_test, y_predicted)\n",
    "        if(best_model is None or best_score < fscore):\n",
    "            # В случае, если модель лучше предыдущих сохраним её\n",
    "            # оценку, модель, матрицу ошибок и разделение данных\n",
    "            best_score = fscore\n",
    "            best_model = model\n",
    "            best_split = (X_train, y_train, X_test, y_test)\n",
    "        f_score_sum += fscore    \n",
    "    return (\n",
    "        float(f_score_sum)/float(folds_count),\n",
    "        best_model,\n",
    "        best_score,\n",
    "        best_split)"
   ]
  },
  {
   "cell_type": "code",
   "execution_count": null,
   "metadata": {},
   "outputs": [],
   "source": []
  },
  {
   "cell_type": "code",
   "execution_count": null,
   "metadata": {},
   "outputs": [],
   "source": []
  },
  {
   "cell_type": "markdown",
   "metadata": {},
   "source": [
    "## Построение baseline моделей\n",
    "Для обработки категориальных признаков при построении baseline модели будем использовать OneHotEncoder и LabelEncoder.\n",
    "Эти методы крайне просты. Другие методы обработки категориальных признаков несколько более сложны и не укладываются в рамки построения baseline модели.\n",
    "\n",
    "Закодируем категориальныее признаки с помощью OneHotEncoder и объединим матрицы вещественных и бинарных признаков."
   ]
  },
  {
   "cell_type": "code",
   "execution_count": 9,
   "metadata": {},
   "outputs": [
    {
     "name": "stderr",
     "output_type": "stream",
     "text": [
      "C:\\Users\\Pavel\\Anaconda2\\lib\\site-packages\\ipykernel_launcher.py:2: FutureWarning: Method .as_matrix will be removed in a future version. Use .values instead.\n",
      "  \n",
      "C:\\Users\\Pavel\\Anaconda2\\lib\\site-packages\\sklearn\\preprocessing\\_encoders.py:368: FutureWarning: The handling of integer data will change in version 0.22. Currently, the categories are determined based on the range [0, max(values)], while in the future they will be determined based on the unique values.\n",
      "If you want the future behaviour and silence this warning, you can specify \"categories='auto'\".\n",
      "In case you used a LabelEncoder before this OneHotEncoder to convert the categories to integers, then you can now use the OneHotEncoder directly.\n",
      "  warnings.warn(msg, FutureWarning)\n",
      "C:\\Users\\Pavel\\Anaconda2\\lib\\site-packages\\ipykernel_launcher.py:3: FutureWarning: Method .as_matrix will be removed in a future version. Use .values instead.\n",
      "  This is separate from the ipykernel package so we can avoid doing imports until\n",
      "C:\\Users\\Pavel\\Anaconda2\\lib\\site-packages\\ipykernel_launcher.py:4: FutureWarning: Method .as_matrix will be removed in a future version. Use .values instead.\n",
      "  after removing the cwd from sys.path.\n"
     ]
    }
   ],
   "source": [
    "one_hot = OneHotEncoder()\n",
    "cat_mtx = one_hot.fit_transform(categorial_frame_labeled.as_matrix())\n",
    "X_one_hot = hstack([coo_matrix(numeric_frame_scaled.as_matrix()), cat_mtx])\n",
    "y = churn_labels_frame.as_matrix().flatten()"
   ]
  },
  {
   "cell_type": "code",
   "execution_count": null,
   "metadata": {},
   "outputs": [],
   "source": []
  },
  {
   "cell_type": "markdown",
   "metadata": {},
   "source": [
    "Линейная модель"
   ]
  },
  {
   "cell_type": "code",
   "execution_count": 10,
   "metadata": {},
   "outputs": [
    {
     "name": "stderr",
     "output_type": "stream",
     "text": [
      "C:\\Users\\Pavel\\Anaconda2\\lib\\site-packages\\sklearn\\metrics\\classification.py:1143: UndefinedMetricWarning: F-score is ill-defined and being set to 0.0 due to no predicted samples.\n",
      "  'precision', 'predicted', average, warn_for)\n"
     ]
    },
    {
     "name": "stdout",
     "output_type": "stream",
     "text": [
      "0.0\n",
      "Wall time: 1min 28s\n"
     ]
    }
   ],
   "source": [
    "%%time \n",
    "ridge_one_hot = stratifiedKFold_fscore(X_one_hot, y, RidgeClassifier, seed)\n",
    "print(ridge_one_hot[0])"
   ]
  },
  {
   "cell_type": "code",
   "execution_count": null,
   "metadata": {},
   "outputs": [],
   "source": []
  },
  {
   "cell_type": "markdown",
   "metadata": {},
   "source": [
    "Случайный лес"
   ]
  },
  {
   "cell_type": "code",
   "execution_count": 11,
   "metadata": {},
   "outputs": [
    {
     "name": "stderr",
     "output_type": "stream",
     "text": [
      "C:\\Users\\Pavel\\Anaconda2\\lib\\site-packages\\sklearn\\ensemble\\forest.py:246: FutureWarning: The default value of n_estimators will change from 10 in version 0.20 to 100 in 0.22.\n",
      "  \"10 in version 0.20 to 100 in 0.22.\", FutureWarning)\n"
     ]
    },
    {
     "name": "stdout",
     "output_type": "stream",
     "text": [
      "0.00570546342529\n",
      "Wall time: 34.2 s\n"
     ]
    }
   ],
   "source": [
    "%%time\n",
    "random_forest_one_hot = stratifiedKFold_fscore(X_one_hot, y, RandomForestClassifier, seed)\n",
    "print(random_forest_one_hot[0])"
   ]
  },
  {
   "cell_type": "code",
   "execution_count": null,
   "metadata": {},
   "outputs": [],
   "source": []
  },
  {
   "cell_type": "markdown",
   "metadata": {},
   "source": [
    "Бустинг"
   ]
  },
  {
   "cell_type": "code",
   "execution_count": 12,
   "metadata": {},
   "outputs": [
    {
     "name": "stdout",
     "output_type": "stream",
     "text": [
      "0.022450884124\n",
      "Wall time: 10min 19s\n"
     ]
    }
   ],
   "source": [
    "%%time\n",
    "gradient_boosting_one_hot = stratifiedKFold_fscore(X_one_hot, y, GradientBoostingClassifier, seed)\n",
    "print(gradient_boosting_one_hot[0])"
   ]
  },
  {
   "cell_type": "code",
   "execution_count": null,
   "metadata": {},
   "outputs": [],
   "source": []
  },
  {
   "cell_type": "markdown",
   "metadata": {},
   "source": [
    "Объединим матрицы вещественных и категориальных признаков, закодированных целыми числами"
   ]
  },
  {
   "cell_type": "code",
   "execution_count": 13,
   "metadata": {},
   "outputs": [
    {
     "name": "stderr",
     "output_type": "stream",
     "text": [
      "C:\\Users\\Pavel\\Anaconda2\\lib\\site-packages\\ipykernel_launcher.py:1: FutureWarning: Method .as_matrix will be removed in a future version. Use .values instead.\n",
      "  \"\"\"Entry point for launching an IPython kernel.\n"
     ]
    }
   ],
   "source": [
    "X_labeled = coo_matrix(pd.concat([numeric_frame_scaled, categorial_frame_labeled], axis=1, ignore_index=False).as_matrix())"
   ]
  },
  {
   "cell_type": "code",
   "execution_count": null,
   "metadata": {},
   "outputs": [],
   "source": []
  },
  {
   "cell_type": "markdown",
   "metadata": {},
   "source": [
    "Случайный лес"
   ]
  },
  {
   "cell_type": "code",
   "execution_count": 14,
   "metadata": {},
   "outputs": [
    {
     "name": "stdout",
     "output_type": "stream",
     "text": [
      "0.00379156515562\n",
      "Wall time: 23.3 s\n"
     ]
    }
   ],
   "source": [
    "%%time\n",
    "random_forest_labeled = stratifiedKFold_fscore(X_labeled, y, RandomForestClassifier, seed)\n",
    "print(random_forest_labeled[0])"
   ]
  },
  {
   "cell_type": "code",
   "execution_count": null,
   "metadata": {},
   "outputs": [],
   "source": []
  },
  {
   "cell_type": "markdown",
   "metadata": {},
   "source": [
    "Бустинг"
   ]
  },
  {
   "cell_type": "code",
   "execution_count": 15,
   "metadata": {},
   "outputs": [
    {
     "name": "stdout",
     "output_type": "stream",
     "text": [
      "0.0314652862786\n",
      "Wall time: 2min 18s\n"
     ]
    }
   ],
   "source": [
    "%%time\n",
    "gradient_boosting_labeled = stratifiedKFold_fscore(X_labeled, y, GradientBoostingClassifier, seed)\n",
    "print(gradient_boosting_labeled[0])"
   ]
  },
  {
   "cell_type": "code",
   "execution_count": null,
   "metadata": {},
   "outputs": [],
   "source": []
  },
  {
   "cell_type": "markdown",
   "metadata": {},
   "source": [
    "Линейная модель"
   ]
  },
  {
   "cell_type": "code",
   "execution_count": 16,
   "metadata": {},
   "outputs": [
    {
     "name": "stdout",
     "output_type": "stream",
     "text": [
      "0.0\n",
      "Wall time: 2min 47s\n"
     ]
    }
   ],
   "source": [
    "%%time\n",
    "ridge_labeled = stratifiedKFold_fscore(X_labeled, y, RidgeClassifier, seed)\n",
    "print(ridge_labeled[0])"
   ]
  },
  {
   "cell_type": "code",
   "execution_count": null,
   "metadata": {},
   "outputs": [],
   "source": []
  },
  {
   "cell_type": "markdown",
   "metadata": {},
   "source": [
    "Сравним получившиеся оценки объединив их в таблицу"
   ]
  },
  {
   "cell_type": "code",
   "execution_count": 17,
   "metadata": {},
   "outputs": [
    {
     "data": {
      "text/html": [
       "<div>\n",
       "<style scoped>\n",
       "    .dataframe tbody tr th:only-of-type {\n",
       "        vertical-align: middle;\n",
       "    }\n",
       "\n",
       "    .dataframe tbody tr th {\n",
       "        vertical-align: top;\n",
       "    }\n",
       "\n",
       "    .dataframe thead th {\n",
       "        text-align: right;\n",
       "    }\n",
       "</style>\n",
       "<table border=\"1\" class=\"dataframe\">\n",
       "  <thead>\n",
       "    <tr style=\"text-align: right;\">\n",
       "      <th></th>\n",
       "      <th>One hot mean</th>\n",
       "      <th>Labeled mean</th>\n",
       "      <th>One hot best</th>\n",
       "      <th>Labeled best</th>\n",
       "    </tr>\n",
       "  </thead>\n",
       "  <tbody>\n",
       "    <tr>\n",
       "      <th>Ridge</th>\n",
       "      <td>0.000000</td>\n",
       "      <td>0.000000</td>\n",
       "      <td>0.000000</td>\n",
       "      <td>0.000000</td>\n",
       "    </tr>\n",
       "    <tr>\n",
       "      <th>Random forest</th>\n",
       "      <td>0.005705</td>\n",
       "      <td>0.003792</td>\n",
       "      <td>0.014184</td>\n",
       "      <td>0.009434</td>\n",
       "    </tr>\n",
       "    <tr>\n",
       "      <th>Gradient boosting</th>\n",
       "      <td>0.022451</td>\n",
       "      <td>0.031465</td>\n",
       "      <td>0.032941</td>\n",
       "      <td>0.041190</td>\n",
       "    </tr>\n",
       "  </tbody>\n",
       "</table>\n",
       "</div>"
      ],
      "text/plain": [
       "                   One hot mean  Labeled mean  One hot best  Labeled best\n",
       "Ridge                  0.000000      0.000000      0.000000      0.000000\n",
       "Random forest          0.005705      0.003792      0.014184      0.009434\n",
       "Gradient boosting      0.022451      0.031465      0.032941      0.041190"
      ]
     },
     "execution_count": 17,
     "metadata": {},
     "output_type": "execute_result"
    }
   ],
   "source": [
    "score_table = pd.DataFrame(\n",
    "    [\n",
    "        [ridge_one_hot[0], ridge_labeled[0], ridge_one_hot[2], ridge_labeled[2]],\n",
    "        [random_forest_one_hot[0], random_forest_labeled[0], random_forest_one_hot[2], random_forest_labeled[2]],\n",
    "        [gradient_boosting_one_hot[0], gradient_boosting_labeled[0], gradient_boosting_one_hot[2], gradient_boosting_labeled[2]]\n",
    "    ],\n",
    "    index=[\"Ridge\", \"Random forest\", \"Gradient boosting\"],\n",
    "    columns=[\"One hot mean\", \"Labeled mean\", \"One hot best\", \"Labeled best\"])\n",
    "score_table"
   ]
  },
  {
   "cell_type": "code",
   "execution_count": null,
   "metadata": {},
   "outputs": [],
   "source": []
  },
  {
   "cell_type": "code",
   "execution_count": 32,
   "metadata": {},
   "outputs": [
    {
     "data": {
      "text/plain": [
       "(0.031465286278597,\n",
       " GradientBoostingClassifier(criterion='friedman_mse', init=None,\n",
       "               learning_rate=0.1, loss='deviance', max_depth=3,\n",
       "               max_features=None, max_leaf_nodes=None,\n",
       "               min_impurity_decrease=0.0, min_impurity_split=None,\n",
       "               min_samples_leaf=1, min_samples_split=2,\n",
       "               min_weight_fraction_leaf=0.0, n_estimators=100,\n",
       "               n_iter_no_change=None, presort='auto', random_state=None,\n",
       "               subsample=1.0, tol=0.0001, validation_fraction=0.1,\n",
       "               verbose=0, warm_start=False),\n",
       " 0.04118993135011442,\n",
       " (<22399x210 sparse matrix of type '<type 'numpy.float64'>'\n",
       "  \twith 3253157 stored elements in Compressed Sparse Column format>,\n",
       "  array([-1, -1, -1, ..., -1,  1, -1], dtype=int64),\n",
       "  <5600x210 sparse matrix of type '<type 'numpy.float64'>'\n",
       "  \twith 813535 stored elements in Compressed Sparse Column format>,\n",
       "  array([-1, -1, -1, ..., -1, -1, -1], dtype=int64)))"
      ]
     },
     "execution_count": 32,
     "metadata": {},
     "output_type": "execute_result"
    }
   ],
   "source": [
    "gradient_boosting_labeled"
   ]
  },
  {
   "cell_type": "code",
   "execution_count": null,
   "metadata": {},
   "outputs": [],
   "source": []
  },
  {
   "cell_type": "markdown",
   "metadata": {},
   "source": [
    "Результаты построениея моделей достаточно предсказуемы. Качество предсказания никакое. Для линейных моделей оно не отличимо от нуля. OneHot обработка признаков проигрывает Labeled обработке и для случайного леса, и для градиентного бустинга. Как видно из таблицы, лучший результат показала модель с использованием градиентного бустинга и LabelEncoder. \n",
    "\n",
    "## Дополнительные метрики качества\n",
    "\n",
    "Для каждого типа baseline модели возьмем лучшее решение и сравним эти решения на основе основной (F-мера) и дополнительных (precision, recall, log loss, roc auc score) метрик качества."
   ]
  },
  {
   "cell_type": "code",
   "execution_count": 18,
   "metadata": {},
   "outputs": [],
   "source": [
    "def predict_ridge_proba(X, model):\n",
    "    \"\"\" Функция возвращает вероятности предсказаний для класса churn модель Ridge \"\"\"\n",
    "    # Поскольку RidgeClassifier не обладает функцией predict_proba приходится считать его вручную\n",
    "    # Подробнее можно посмотреть здесь:\n",
    "    # https://www.codesd.com/item/scikit-learn-ridge-classifier-extract-class-probabilities.html\n",
    "    func = model.decision_function(X)\n",
    "    return np.exp(func) / (1 + np.exp(func))\n",
    "\n",
    "def predict_model_proba(X, model):\n",
    "    \"\"\" Функция возвращает вероятности предсказаний для класса churn \"\"\"\n",
    "    return list(zip(*model.predict_proba(X)))[1]\n",
    "\n",
    "def get_model_data(model_with_data):\n",
    "    \"\"\" Функция принимает на вход результат stratifiedKFold_fscore и возвращает только модель и её X_test и y_test \"\"\"\n",
    "    model = model_with_data[1]\n",
    "    split = model_with_data[3]\n",
    "    X = split[2]\n",
    "    y = split[3]\n",
    "    return (model,X,y)\n",
    "\n",
    "def calculate_metrics(model_with_data, predict_probabilities):\n",
    "    \"\"\" Посчитаем метрики качества для модели \"\"\"\n",
    "    model, X, y = get_model_data(model_with_data)\n",
    "    predictions = model.predict(X)\n",
    "    probabilities = predict_probabilities(X, model)\n",
    "    # Считаем F-меру, precision и recall\n",
    "    fscore = f1_score(y, predictions)\n",
    "    precision = precision_score(y, predictions)\n",
    "    recall = recall_score(y, predictions)\n",
    "    # Считаем Log loss\n",
    "    logLoss = log_loss(y, probabilities)\n",
    "    # Считаем roc auc score\n",
    "    rocAuc = roc_auc_score(y, probabilities)\n",
    "    return (precision,recall,fscore,logLoss,rocAuc)"
   ]
  },
  {
   "cell_type": "code",
   "execution_count": null,
   "metadata": {},
   "outputs": [],
   "source": []
  },
  {
   "cell_type": "markdown",
   "metadata": {},
   "source": [
    "Посчитаем метрики качества и сведем их в одну таблицу"
   ]
  },
  {
   "cell_type": "code",
   "execution_count": 19,
   "metadata": {},
   "outputs": [
    {
     "data": {
      "text/html": [
       "<div>\n",
       "<style scoped>\n",
       "    .dataframe tbody tr th:only-of-type {\n",
       "        vertical-align: middle;\n",
       "    }\n",
       "\n",
       "    .dataframe tbody tr th {\n",
       "        vertical-align: top;\n",
       "    }\n",
       "\n",
       "    .dataframe thead th {\n",
       "        text-align: right;\n",
       "    }\n",
       "</style>\n",
       "<table border=\"1\" class=\"dataframe\">\n",
       "  <thead>\n",
       "    <tr style=\"text-align: right;\">\n",
       "      <th></th>\n",
       "      <th>Precision</th>\n",
       "      <th>Recall</th>\n",
       "      <th>F-Score</th>\n",
       "      <th>Log Loss</th>\n",
       "      <th>Roc Auc</th>\n",
       "    </tr>\n",
       "  </thead>\n",
       "  <tbody>\n",
       "    <tr>\n",
       "      <th>Ridge</th>\n",
       "      <td>0.00</td>\n",
       "      <td>0.000000</td>\n",
       "      <td>0.000000</td>\n",
       "      <td>0.415260</td>\n",
       "      <td>0.678090</td>\n",
       "    </tr>\n",
       "    <tr>\n",
       "      <th>Random forest</th>\n",
       "      <td>0.25</td>\n",
       "      <td>0.004808</td>\n",
       "      <td>0.009434</td>\n",
       "      <td>0.926280</td>\n",
       "      <td>0.627162</td>\n",
       "    </tr>\n",
       "    <tr>\n",
       "      <th>Gradient boosting</th>\n",
       "      <td>0.45</td>\n",
       "      <td>0.021583</td>\n",
       "      <td>0.041190</td>\n",
       "      <td>0.236842</td>\n",
       "      <td>0.741169</td>\n",
       "    </tr>\n",
       "  </tbody>\n",
       "</table>\n",
       "</div>"
      ],
      "text/plain": [
       "                   Precision    Recall   F-Score  Log Loss   Roc Auc\n",
       "Ridge                   0.00  0.000000  0.000000  0.415260  0.678090\n",
       "Random forest           0.25  0.004808  0.009434  0.926280  0.627162\n",
       "Gradient boosting       0.45  0.021583  0.041190  0.236842  0.741169"
      ]
     },
     "execution_count": 19,
     "metadata": {},
     "output_type": "execute_result"
    }
   ],
   "source": [
    "score_table = pd.DataFrame(\n",
    "    [\n",
    "        calculate_metrics(ridge_one_hot, predict_ridge_proba),\n",
    "        calculate_metrics(random_forest_labeled, predict_model_proba),\n",
    "        calculate_metrics(gradient_boosting_labeled, predict_model_proba)\n",
    "    ],\n",
    "    index=[\"Ridge\", \"Random forest\", \"Gradient boosting\"],\n",
    "    columns=[\"Precision\", \"Recall\", \"F-Score\", \"Log Loss\", \"Roc Auc\"])\n",
    "score_table"
   ]
  },
  {
   "cell_type": "code",
   "execution_count": null,
   "metadata": {},
   "outputs": [],
   "source": []
  },
  {
   "cell_type": "markdown",
   "metadata": {},
   "source": [
    "Видно, что в основном плохие оценки получаются из-за низкого значения метрики recall. Значение метрики precision также оставляет желать лучшего, но все-таки значительно лучше, чем recall.\n",
    "\n",
    "## Графики\n",
    "\n",
    "Посмотрим, что происходит с моделями по графикам."
   ]
  },
  {
   "cell_type": "code",
   "execution_count": 20,
   "metadata": {},
   "outputs": [],
   "source": [
    "def transform_to_chart_model(label, model_with_data, predict_probabilities):\n",
    "    \"\"\" Функция принимает на вход заголовок, результат функции stratifiedKFold_fscore и функцию, считающую вероятности\n",
    "    и возвращает заголовок, вектор ответов и вектор вероятностей для построения графиков \"\"\"\n",
    "    model, X, y = get_model_data(model_with_data)\n",
    "    probabilities = predict_probabilities(X, model)\n",
    "    return (label, y, probabilities)\n",
    "\n",
    "def charts_row(model_charts, chart_builder, figsize=(11, 4)):\n",
    "    \"\"\" Функция принимает данные для построения графиков и логику построения одного графика и строит графики в одну строку \"\"\"\n",
    "    fig, axes = plt.subplots(\n",
    "        nrows=1,\n",
    "        ncols=len(model_charts),\n",
    "        figsize=figsize,\n",
    "        sharey=True)\n",
    "    for i, chart_data in enumerate(model_charts):\n",
    "        ax = axes[i]\n",
    "        chart_builder(chart_data, ax, i)\n",
    "    plt.show()\n",
    "    \n",
    "def scatter(chart_data, ax, ax_index, T=0.5):\n",
    "    \"\"\" Функция строит график распределения вероятностей по классам \"\"\"\n",
    "    label, actual, predicted = chart_data\n",
    "    ax.scatter(actual, predicted)\n",
    "    ax.set_xlabel(\"Labels\")\n",
    "    if ax_index == 0:\n",
    "        ax.set_ylabel(\"Predicted probabilities\")\n",
    "    ax.set_title(label)\n",
    "    ax.plot([-1.1, 1.2], [T, T])\n",
    "    ax.axis([-1.1, 1.1, -0.1, 1.1])\n",
    "    \n",
    "def precision_recal_thresh(chart_data, ax, ax_index):\n",
    "    \"\"\" Функция строит графики значений precision и recall в зависимости от порога \"\"\"\n",
    "    label, actual, predicted = chart_data\n",
    "    prec, rec, thresh = precision_recall_curve(actual, predicted)\n",
    "    min_len = min([len(prec),len(rec),len(thresh)])\n",
    "    ax.plot(thresh[:min_len], prec[:min_len], label=\"precision\")\n",
    "    ax.plot(thresh[:min_len], rec[:min_len], label=\"recall\")\n",
    "    ax.legend(loc=1)\n",
    "    ax.set_xlabel(\"threshold\")\n",
    "    ax.set_title(label)\n",
    "    \n",
    "def auc_prc(chart_data, ax, ax_index):\n",
    "    \"\"\" Функция строит график AUC PRC (зависимость precision от recall)\"\"\"\n",
    "    label, actual, predicted = chart_data\n",
    "    prec, rec, thresh = precision_recall_curve(actual, predicted)\n",
    "    min_len = min([len(prec),len(rec),len(thresh)])\n",
    "    ax.plot(rec[:min_len], prec[:min_len])\n",
    "    ax.set_xlabel(\"recall\")\n",
    "    if ax_index == 0:\n",
    "        ax.set_ylabel(\"precision\")\n",
    "    ax.set_title(label)\n",
    "\n",
    "def calc_min_distance (actual,predicted):\n",
    "    \"\"\" Функция считает минимальное расстояние до точки [0;1] для AUC ROC \"\"\"\n",
    "    fpr,tpr,thr = roc_curve(actual,predicted)\n",
    "    distance,fpr_v,tpr_v,thr_v = min(zip(np.sqrt((1.-tpr)**2+fpr**2),fpr,tpr,thr), key=lambda d:d[0])\n",
    "    return (distance,fpr_v,tpr_v,thr_v)\n",
    "    \n",
    "def auc_roc(chart_data, ax, ax_index):\n",
    "    \"\"\" Функция строит кривую AUC ROC и отмечает точку, соответствующую минимальному расстоянию до точки [0;1] \"\"\"\n",
    "    label, actual, predicted = chart_data\n",
    "    fpr, tpr, thr = roc_curve(actual, predicted)\n",
    "    min_dist,min_fpr,min_tpr,_ = calc_min_distance(actual, predicted)\n",
    "    ax.plot(fpr, tpr, label=\"ROC AUC curve\")\n",
    "    ax.scatter(min_fpr,min_tpr,color=\"red\")\n",
    "    ax.set_xlabel(\"false positive rate\")\n",
    "    if ax_index == 0:\n",
    "        ax.set_ylabel(\"true positive rate\")\n",
    "    ax.legend(loc=4)\n",
    "    ax.set_title(label)"
   ]
  },
  {
   "cell_type": "code",
   "execution_count": null,
   "metadata": {},
   "outputs": [],
   "source": []
  },
  {
   "cell_type": "markdown",
   "metadata": {},
   "source": [
    "Подготовим модель для построения графиков"
   ]
  },
  {
   "cell_type": "code",
   "execution_count": 21,
   "metadata": {},
   "outputs": [],
   "source": [
    "chart_models = [transform_to_chart_model(t, m, pp) for t, m, pp in zip(\n",
    "    [\"Ridge One Hot\", \"Random forest labeled\", \"Gradient boosting labeled\"],\n",
    "    [ridge_one_hot, random_forest_labeled, gradient_boosting_labeled],\n",
    "    [predict_ridge_proba, lambda x, m: list(zip(*m.predict_proba(x)))[1], lambda x, m: list(zip(*m.predict_proba(x)))[1]]\n",
    ")]"
   ]
  },
  {
   "cell_type": "code",
   "execution_count": null,
   "metadata": {},
   "outputs": [],
   "source": []
  },
  {
   "cell_type": "code",
   "execution_count": null,
   "metadata": {},
   "outputs": [],
   "source": []
  },
  {
   "cell_type": "markdown",
   "metadata": {},
   "source": [
    "### Графики распределения вероятностей класса churn по реальным значениям меток классов"
   ]
  },
  {
   "cell_type": "code",
   "execution_count": 22,
   "metadata": {},
   "outputs": [
    {
     "data": {
      "image/png": "[encoded data removed]",
      "text/plain": [
       "<Figure size 792x288 with 3 Axes>"
      ]
     },
     "metadata": {
      "needs_background": "light"
     },
     "output_type": "display_data"
    }
   ],
   "source": [
    "charts_row(chart_models, scatter)"
   ]
  },
  {
   "cell_type": "code",
   "execution_count": 26,
   "metadata": {},
   "outputs": [],
   "source": [
    " model1, X1, y1 = get_model_data(gradient_boosting_labeled)"
   ]
  },
  {
   "cell_type": "code",
   "execution_count": 39,
   "metadata": {},
   "outputs": [
    {
     "data": {
      "text/plain": [
       "GradientBoostingClassifier(criterion='friedman_mse', init=None,\n",
       "              learning_rate=0.1, loss='deviance', max_depth=3,\n",
       "              max_features=None, max_leaf_nodes=None,\n",
       "              min_impurity_decrease=0.0, min_impurity_split=None,\n",
       "              min_samples_leaf=1, min_samples_split=2,\n",
       "              min_weight_fraction_leaf=0.0, n_estimators=100,\n",
       "              n_iter_no_change=None, presort='auto', random_state=None,\n",
       "              subsample=1.0, tol=0.0001, validation_fraction=0.1,\n",
       "              verbose=0, warm_start=False)"
      ]
     },
     "execution_count": 39,
     "metadata": {},
     "output_type": "execute_result"
    }
   ],
   "source": [
    "predict1 = pd.DataFrame(kg_predict_probabilities, columns=[\"result\"])"
   ]
  },
  {
   "cell_type": "code",
   "execution_count": 40,
   "metadata": {},
   "outputs": [
    {
     "ename": "ValueError",
     "evalue": "too many values to unpack",
     "output_type": "error",
     "traceback": [
      "\u001b[1;31m---------------------------------------------------------------------------\u001b[0m",
      "\u001b[1;31mValueError\u001b[0m                                Traceback (most recent call last)",
      "\u001b[1;32m<ipython-input-40-352c56a583e5>\u001b[0m in \u001b[0;36m<module>\u001b[1;34m()\u001b[0m\n\u001b[1;32m----> 1\u001b[1;33m \u001b[0mcharts_row\u001b[0m\u001b[1;33m(\u001b[0m\u001b[0mchart_models1\u001b[0m\u001b[1;33m,\u001b[0m\u001b[0mscatter\u001b[0m\u001b[1;33m)\u001b[0m\u001b[1;33m\u001b[0m\u001b[0m\n\u001b[0m",
      "\u001b[1;32m<ipython-input-20-f882630d1c37>\u001b[0m in \u001b[0;36mcharts_row\u001b[1;34m(model_charts, chart_builder, figsize)\u001b[0m\n\u001b[0;32m     15\u001b[0m     \u001b[1;32mfor\u001b[0m \u001b[0mi\u001b[0m\u001b[1;33m,\u001b[0m \u001b[0mchart_data\u001b[0m \u001b[1;32min\u001b[0m \u001b[0menumerate\u001b[0m\u001b[1;33m(\u001b[0m\u001b[0mmodel_charts\u001b[0m\u001b[1;33m)\u001b[0m\u001b[1;33m:\u001b[0m\u001b[1;33m\u001b[0m\u001b[0m\n\u001b[0;32m     16\u001b[0m         \u001b[0max\u001b[0m \u001b[1;33m=\u001b[0m \u001b[0maxes\u001b[0m\u001b[1;33m[\u001b[0m\u001b[0mi\u001b[0m\u001b[1;33m]\u001b[0m\u001b[1;33m\u001b[0m\u001b[0m\n\u001b[1;32m---> 17\u001b[1;33m         \u001b[0mchart_builder\u001b[0m\u001b[1;33m(\u001b[0m\u001b[0mchart_data\u001b[0m\u001b[1;33m,\u001b[0m \u001b[0max\u001b[0m\u001b[1;33m,\u001b[0m \u001b[0mi\u001b[0m\u001b[1;33m)\u001b[0m\u001b[1;33m\u001b[0m\u001b[0m\n\u001b[0m\u001b[0;32m     18\u001b[0m     \u001b[0mplt\u001b[0m\u001b[1;33m.\u001b[0m\u001b[0mshow\u001b[0m\u001b[1;33m(\u001b[0m\u001b[1;33m)\u001b[0m\u001b[1;33m\u001b[0m\u001b[0m\n\u001b[0;32m     19\u001b[0m \u001b[1;33m\u001b[0m\u001b[0m\n",
      "\u001b[1;32m<ipython-input-20-f882630d1c37>\u001b[0m in \u001b[0;36mscatter\u001b[1;34m(chart_data, ax, ax_index, T)\u001b[0m\n\u001b[0;32m     20\u001b[0m \u001b[1;32mdef\u001b[0m \u001b[0mscatter\u001b[0m\u001b[1;33m(\u001b[0m\u001b[0mchart_data\u001b[0m\u001b[1;33m,\u001b[0m \u001b[0max\u001b[0m\u001b[1;33m,\u001b[0m \u001b[0max_index\u001b[0m\u001b[1;33m,\u001b[0m \u001b[0mT\u001b[0m\u001b[1;33m=\u001b[0m\u001b[1;36m0.5\u001b[0m\u001b[1;33m)\u001b[0m\u001b[1;33m:\u001b[0m\u001b[1;33m\u001b[0m\u001b[0m\n\u001b[0;32m     21\u001b[0m     \u001b[1;34m\"\"\" Функция строит график распределения вероятностей по классам \"\"\"\u001b[0m\u001b[1;33m\u001b[0m\u001b[0m\n\u001b[1;32m---> 22\u001b[1;33m     \u001b[0mlabel\u001b[0m\u001b[1;33m,\u001b[0m \u001b[0mactual\u001b[0m\u001b[1;33m,\u001b[0m \u001b[0mpredicted\u001b[0m \u001b[1;33m=\u001b[0m \u001b[0mchart_data\u001b[0m\u001b[1;33m\u001b[0m\u001b[0m\n\u001b[0m\u001b[0;32m     23\u001b[0m     \u001b[0max\u001b[0m\u001b[1;33m.\u001b[0m\u001b[0mscatter\u001b[0m\u001b[1;33m(\u001b[0m\u001b[0mactual\u001b[0m\u001b[1;33m,\u001b[0m \u001b[0mpredicted\u001b[0m\u001b[1;33m)\u001b[0m\u001b[1;33m\u001b[0m\u001b[0m\n\u001b[0;32m     24\u001b[0m     \u001b[0max\u001b[0m\u001b[1;33m.\u001b[0m\u001b[0mset_xlabel\u001b[0m\u001b[1;33m(\u001b[0m\u001b[1;34m\"Labels\"\u001b[0m\u001b[1;33m)\u001b[0m\u001b[1;33m\u001b[0m\u001b[0m\n",
      "\u001b[1;31mValueError\u001b[0m: too many values to unpack"
     ]
    },
    {
     "data": {
      "image/png": "[encoded data removed]",
      "text/plain": [
       "<Figure size 792x288 with 3 Axes>"
      ]
     },
     "metadata": {
      "needs_background": "light"
     },
     "output_type": "display_data"
    }
   ],
   "source": [
    "charts_row(chart_models1,scatter)"
   ]
  },
  {
   "cell_type": "code",
   "execution_count": null,
   "metadata": {},
   "outputs": [],
   "source": []
  },
  {
   "cell_type": "code",
   "execution_count": 28,
   "metadata": {},
   "outputs": [
    {
     "data": {
      "text/plain": [
       "<5600x210 sparse matrix of type '<type 'numpy.float64'>'\n",
       "\twith 813535 stored elements in Compressed Sparse Column format>"
      ]
     },
     "execution_count": 28,
     "metadata": {},
     "output_type": "execute_result"
    }
   ],
   "source": [
    "X1"
   ]
  },
  {
   "cell_type": "code",
   "execution_count": 31,
   "metadata": {},
   "outputs": [
    {
     "name": "stdout",
     "output_type": "stream",
     "text": [
      "[-1 -1 -1 ... -1 -1 -1]\n"
     ]
    }
   ],
   "source": [
    "print(y1)"
   ]
  },
  {
   "cell_type": "code",
   "execution_count": null,
   "metadata": {},
   "outputs": [],
   "source": []
  },
  {
   "cell_type": "code",
   "execution_count": 44,
   "metadata": {},
   "outputs": [],
   "source": [
    "label1, y1, probabilities1 = transform_to_chart_model(\"Gradient boosting labeled\", gradient_boosting_labeled, lambda x, m: list(zip(*m.predict_proba(x)))[1])"
   ]
  },
  {
   "cell_type": "code",
   "execution_count": 50,
   "metadata": {},
   "outputs": [
    {
     "data": {
      "text/plain": [
       "(0.054625921665497644,\n",
       " 0.04571390219147263,\n",
       " 0.05252751611892502,\n",
       " 0.015278093837796687,\n",
       " 0.024711533403474643,\n",
       " 0.06818202684721344,\n",
       " 0.06933729981494444,\n",
       " 0.06156556591449988,\n",
       " 0.06952101282885642,\n",
       " 0.05291364593228094,\n",
       " 0.06029454438692466,\n",
       " 0.04831261868703332,\n",
       " 0.08570479856271102,\n",
       " 0.08853914261991451,\n",
       " 0.25126938501403473,\n",
       " 0.06380408533154601,\n",
       " 0.03763081881970122,\n",
       " 0.058467885193857025,\n",
       " 0.032288722542083315,\n",
       " 0.19878674652730363,\n",
       " 0.040848622309761155,\n",
       " 0.08229351388370458,\n",
       " 0.04532399972105023,\n",
       " 0.08408993971447155,\n",
       " 0.2658636494280059,\n",
       " 0.014715597896155994,\n",
       " 0.08049460882402482,\n",
       " 0.07938910006928948,\n",
       " 0.10597379602842591,\n",
       " 0.18062266919381204,\n",
       " 0.05976194431252207,\n",
       " 0.03716400923786535,\n",
       " 0.05553018421490106,\n",
       " 0.0866323346047191,\n",
       " 0.03510100136477008,\n",
       " 0.062091359394281065,\n",
       " 0.18145772693167142,\n",
       " 0.018883186565505423,\n",
       " 0.009703356543208117,\n",
       " 0.07586521813751539,\n",
       " 0.06275133028038468,\n",
       " 0.10352003081154962,\n",
       " 0.026303715285463627,\n",
       " 0.021026957743902206,\n",
       " 0.13328001833484682,\n",
       " 0.04456428050137745,\n",
       " 0.07582965881090427,\n",
       " 0.07457978023034,\n",
       " 0.06500771640947692,\n",
       " 0.06585836838698508,\n",
       " 0.07005478742466856,\n",
       " 0.02921636762995836,\n",
       " 0.18842475847883183,\n",
       " 0.034053736523986355,\n",
       " 0.04677918712401803,\n",
       " 0.038413847659612796,\n",
       " 0.055953227225403274,\n",
       " 0.022206505807865602,\n",
       " 0.020221990829278117,\n",
       " 0.04491022360593848,\n",
       " 0.10575337635803929,\n",
       " 0.15858314266154286,\n",
       " 0.2482073389296958,\n",
       " 0.07298407532449588,\n",
       " 0.05108320850303307,\n",
       " 0.026950183248210885,\n",
       " 0.08436154701562282,\n",
       " 0.07927006471704233,\n",
       " 0.2224326370395943,\n",
       " 0.0841959474346588,\n",
       " 0.24805752298344033,\n",
       " 0.026794975196017652,\n",
       " 0.20910221155517117,\n",
       " 0.06879007681958098,\n",
       " 0.0176309516949503,\n",
       " 0.0715056862443743,\n",
       " 0.06192864313886469,\n",
       " 0.014558563893088863,\n",
       " 0.09345242555393932,\n",
       " 0.051773965071626016,\n",
       " 0.03158060814551709,\n",
       " 0.05457272135497751,\n",
       " 0.0571067729004297,\n",
       " 0.0598130096324459,\n",
       " 0.044591198431367315,\n",
       " 0.06950670763416375,\n",
       " 0.02522991705522163,\n",
       " 0.05720599476983952,\n",
       " 0.1558979474647571,\n",
       " 0.09015256466313351,\n",
       " 0.05231812454770862,\n",
       " 0.0573229071031459,\n",
       " 0.03770396889745156,\n",
       " 0.07678766062748171,\n",
       " 0.06651067960677341,\n",
       " 0.0387399838019549,\n",
       " 0.12572309851200614,\n",
       " 0.012314120195161257,\n",
       " 0.23828317570733482,\n",
       " 0.13842738403933227,\n",
       " 0.16909585213237574,\n",
       " 0.04848147563912297,\n",
       " 0.016788830449563762,\n",
       " 0.0672060729363666,\n",
       " 0.03017064187617021,\n",
       " 0.15097423602500212,\n",
       " 0.2084415842456853,\n",
       " 0.11645504068351174,\n",
       " 0.07056547694854916,\n",
       " 0.06046637980834066,\n",
       " 0.02746235591966479,\n",
       " 0.051310380501492524,\n",
       " 0.06808239152279866,\n",
       " 0.05218820055113785,\n",
       " 0.04182213190835855,\n",
       " 0.050701911065282594,\n",
       " 0.02772783291676631,\n",
       " 0.05320029823817713,\n",
       " 0.32332936249500327,\n",
       " 0.019361806422543173,\n",
       " 0.09779732814286747,\n",
       " 0.044799268524734114,\n",
       " 0.022230133177155276,\n",
       " 0.026643378023979234,\n",
       " 0.05241170037887998,\n",
       " 0.02861637130283245,\n",
       " 0.10071680473348726,\n",
       " 0.06945831366618438,\n",
       " 0.5091283719250684,\n",
       " 0.18396102275837314,\n",
       " 0.09802107483459677,\n",
       " 0.06943379246051151,\n",
       " 0.060708382206062374,\n",
       " 0.04306397141156257,\n",
       " 0.02978000631480407,\n",
       " 0.04929054631546732,\n",
       " 0.017769253288225564,\n",
       " 0.08313197357878029,\n",
       " 0.071846828185811,\n",
       " 0.05911125625898879,\n",
       " 0.032201756157185984,\n",
       " 0.05854127654997597,\n",
       " 0.06314030461192138,\n",
       " 0.045840382577969234,\n",
       " 0.017129401263826873,\n",
       " 0.07494736189876053,\n",
       " 0.07649445575812598,\n",
       " 0.03673629616654737,\n",
       " 0.025289580017981483,\n",
       " 0.05118093809429164,\n",
       " 0.044723987926565456,\n",
       " 0.06551808410941516,\n",
       " 0.017527750873007078,\n",
       " 0.02453121936270367,\n",
       " 0.014683210442830802,\n",
       " 0.1953744730412371,\n",
       " 0.05703413835203106,\n",
       " 0.1666176236059561,\n",
       " 0.17874334227547103,\n",
       " 0.02703965970686,\n",
       " 0.06443269831052979,\n",
       " 0.07299118856387987,\n",
       " 0.06740003936709506,\n",
       " 0.07168269387366129,\n",
       " 0.030824411631272447,\n",
       " 0.029405776609467422,\n",
       " 0.016024915034347175,\n",
       " 0.03032680161230302,\n",
       " 0.10649228426449264,\n",
       " 0.29156906339157773,\n",
       " 0.08649701476044964,\n",
       " 0.014918846763110505,\n",
       " 0.08416351935283287,\n",
       " 0.0501965915942822,\n",
       " 0.034267770221282925,\n",
       " 0.0459514058584667,\n",
       " 0.06105508919844839,\n",
       " 0.022736686727306415,\n",
       " 0.08358448395880524,\n",
       " 0.04273671162804286,\n",
       " 0.02272584773952245,\n",
       " 0.05992013265492157,\n",
       " 0.09620622893459932,\n",
       " 0.04961951653145136,\n",
       " 0.05582120655717162,\n",
       " 0.05586771635075514,\n",
       " 0.07687353517390293,\n",
       " 0.06363858720689822,\n",
       " 0.03522978214179122,\n",
       " 0.03915434066514857,\n",
       " 0.20311946806215925,\n",
       " 0.14841938539516777,\n",
       " 0.14565132927919947,\n",
       " 0.017769783930189843,\n",
       " 0.0621791420846215,\n",
       " 0.08499742579493967,\n",
       " 0.031774800434583805,\n",
       " 0.02807422574257341,\n",
       " 0.05530578369647479,\n",
       " 0.01350399761642764,\n",
       " 0.2087146234328537,\n",
       " 0.0423864320586738,\n",
       " 0.14748178128581008,\n",
       " 0.12091675138217914,\n",
       " 0.026185512949658908,\n",
       " 0.08888025659950213,\n",
       " 0.03320810888980432,\n",
       " 0.009799137075548374,\n",
       " 0.17368711091093675,\n",
       " 0.05208820455013366,\n",
       " 0.021390254612882003,\n",
       " 0.025334918027455477,\n",
       " 0.05606444818007076,\n",
       " 0.0650755019647192,\n",
       " 0.11368673141919139,\n",
       " 0.26086997571421067,\n",
       " 0.07112428239942538,\n",
       " 0.10932029033169147,\n",
       " 0.07975105679276394,\n",
       " 0.1696713201755417,\n",
       " 0.026976391425523435,\n",
       " 0.06594337564694056,\n",
       " 0.009338090213755815,\n",
       " 0.08290675969409432,\n",
       " 0.055797166038104404,\n",
       " 0.044437387795106496,\n",
       " 0.07604011015143484,\n",
       " 0.22935324589856929,\n",
       " 0.28390170518758806,\n",
       " 0.018472027092880035,\n",
       " 0.0665461208593533,\n",
       " 0.07014481556031754,\n",
       " 0.05248841791419887,\n",
       " 0.06542504672908267,\n",
       " 0.03040988728142501,\n",
       " 0.1205702932527584,\n",
       " 0.013728043624526759,\n",
       " 0.012756131012845985,\n",
       " 0.07854895234092711,\n",
       " 0.06814535455842849,\n",
       " 0.05820857397745658,\n",
       " 0.16915280156116314,\n",
       " 0.07007202725191286,\n",
       " 0.029708580447358014,\n",
       " 0.07738358777042637,\n",
       " 0.06442504754977338,\n",
       " 0.04868124148088657,\n",
       " 0.086187202820985,\n",
       " 0.03902476175251131,\n",
       " 0.15336339445067831,\n",
       " 0.031123572383390093,\n",
       " 0.06490817795543317,\n",
       " 0.11499197988658892,\n",
       " 0.03228415119718308,\n",
       " 0.030928752749589745,\n",
       " 0.06172226331180344,\n",
       " 0.04926228532309443,\n",
       " 0.022461491303646566,\n",
       " 0.09676493371891101,\n",
       " 0.042441991889582455,\n",
       " 0.10838140496068892,\n",
       " 0.0988267628958306,\n",
       " 0.045304905481014734,\n",
       " 0.03188118244948952,\n",
       " 0.03332714923923692,\n",
       " 0.051762658748209886,\n",
       " 0.017441462020466748,\n",
       " 0.06868505777729449,\n",
       " 0.021297473357690742,\n",
       " 0.09290676875618897,\n",
       " 0.03169248749436017,\n",
       " 0.0554415247202502,\n",
       " 0.22124765205268346,\n",
       " 0.009831517231608033,\n",
       " 0.01258352218508884,\n",
       " 0.06008732783056539,\n",
       " 0.0495531363487966,\n",
       " 0.12273064160129726,\n",
       " 0.054369169708035014,\n",
       " 0.04916255833130423,\n",
       " 0.039203933255369715,\n",
       " 0.12336310012819397,\n",
       " 0.02488711426812397,\n",
       " 0.026386152455481766,\n",
       " 0.029497789635613666,\n",
       " 0.050459506269990795,\n",
       " 0.07855987130140193,\n",
       " 0.18897668237547688,\n",
       " 0.018303710368142344,\n",
       " 0.024091203876771824,\n",
       " 0.09392293329415896,\n",
       " 0.10298937660661361,\n",
       " 0.08531825952931621,\n",
       " 0.03441455535986231,\n",
       " 0.04068594362716629,\n",
       " 0.04581408176441361,\n",
       " 0.12095726763872919,\n",
       " 0.08289791990953385,\n",
       " 0.037844043654573604,\n",
       " 0.12617439268340777,\n",
       " 0.02334695023906562,\n",
       " 0.08843241734259127,\n",
       " 0.045708866497829945,\n",
       " 0.04262709001405339,\n",
       " 0.07449121511202188,\n",
       " 0.019171519211906015,\n",
       " 0.037948148696163704,\n",
       " 0.016124624029212782,\n",
       " 0.13112818114417485,\n",
       " 0.08154983430290495,\n",
       " 0.0882101614707677,\n",
       " 0.07521483019913586,\n",
       " 0.06931650241039307,\n",
       " 0.11441395507144349,\n",
       " 0.19057768187815777,\n",
       " 0.04998916199487121,\n",
       " 0.05899174629017609,\n",
       " 0.09256405708722704,\n",
       " 0.036194448589648424,\n",
       " 0.09658321834402862,\n",
       " 0.03220423707172,\n",
       " 0.013018179704648053,\n",
       " 0.060565578629414966,\n",
       " 0.128272445641863,\n",
       " 0.0914029654771619,\n",
       " 0.025972352201299932,\n",
       " 0.10933909358508359,\n",
       " 0.04466799060623025,\n",
       " 0.08047022642020532,\n",
       " 0.11272617600294077,\n",
       " 0.06570498149182359,\n",
       " 0.21524843345391872,\n",
       " 0.2919695322705153,\n",
       " 0.023498345891472573,\n",
       " 0.05443110747272881,\n",
       " 0.014525429595926983,\n",
       " 0.04310129159858222,\n",
       " 0.1323024830825591,\n",
       " 0.07625692337974461,\n",
       " 0.02312753308705197,\n",
       " 0.12268538923342057,\n",
       " 0.06900446895890974,\n",
       " 0.19764275129761458,\n",
       " 0.0486096407066574,\n",
       " 0.061678803959953045,\n",
       " 0.028222225838751506,\n",
       " 0.06488928119351917,\n",
       " 0.02492353566829728,\n",
       " 0.03808090775686976,\n",
       " 0.11139717916611595,\n",
       " 0.03391382340946596,\n",
       " 0.06348261984565842,\n",
       " 0.1063779649159504,\n",
       " 0.07606281923721707,\n",
       " 0.2690613948719132,\n",
       " 0.05685247505803081,\n",
       " 0.02326919038706911,\n",
       " 0.11078133844098378,\n",
       " 0.11570986723784557,\n",
       " 0.07368134038992297,\n",
       " 0.023331426259081012,\n",
       " 0.021489532116489105,\n",
       " 0.05625279661400516,\n",
       " 0.08305644870810959,\n",
       " 0.032493268454706986,\n",
       " 0.012851674798096043,\n",
       " 0.13976680853278134,\n",
       " 0.027761169084019374,\n",
       " 0.018109270211472836,\n",
       " 0.015559937028505944,\n",
       " 0.3293101947170083,\n",
       " 0.03488909460475637,\n",
       " 0.05657459135694857,\n",
       " 0.028354203167644264,\n",
       " 0.03977889598134701,\n",
       " 0.4770203713667428,\n",
       " 0.060264243203098984,\n",
       " 0.017157233160601765,\n",
       " 0.051486831882852614,\n",
       " 0.11845465541721356,\n",
       " 0.015672715450885236,\n",
       " 0.02731208207138696,\n",
       " 0.1418241871014725,\n",
       " 0.07119420022349571,\n",
       " 0.07007210072082601,\n",
       " 0.0956973886572967,\n",
       " 0.05691124159817948,\n",
       " 0.06047146832798579,\n",
       " 0.060398830223272144,\n",
       " 0.10380686931793608,\n",
       " 0.06252048975942484,\n",
       " 0.014249295575739845,\n",
       " 0.10966627646560258,\n",
       " 0.0637753786911624,\n",
       " 0.08506244839958282,\n",
       " 0.07446022353431168,\n",
       " 0.3159936297045811,\n",
       " 0.035743642729743834,\n",
       " 0.057065989667515866,\n",
       " 0.05588775737934016,\n",
       " 0.06459394350327897,\n",
       " 0.07801566898425677,\n",
       " 0.07173969658500089,\n",
       " 0.04984424853842748,\n",
       " 0.08886870115517354,\n",
       " 0.05226911727811505,\n",
       " 0.016353748218279836,\n",
       " 0.05943006656273809,\n",
       " 0.08105017964308527,\n",
       " 0.0967698486693052,\n",
       " 0.13658846128910146,\n",
       " 0.03133853757583065,\n",
       " 0.03925889087184548,\n",
       " 0.025304012438166355,\n",
       " 0.04116391665698294,\n",
       " 0.06514257899797227,\n",
       " 0.026557207998320797,\n",
       " 0.05910397768457467,\n",
       " 0.031141845900022308,\n",
       " 0.03588700488561099,\n",
       " 0.03132613590410754,\n",
       " 0.014825751636330795,\n",
       " 0.155915549713553,\n",
       " 0.018081912160662336,\n",
       " 0.11409385073161189,\n",
       " 0.08637820830095669,\n",
       " 0.1112041722448276,\n",
       " 0.07521205217003885,\n",
       " 0.030319286769818914,\n",
       " 0.18064193715538948,\n",
       " 0.0350578891201618,\n",
       " 0.10933817241083064,\n",
       " 0.045455925772410935,\n",
       " 0.053257994916799715,\n",
       " 0.024319205041450763,\n",
       " 0.05317288109335935,\n",
       " 0.07671817215620447,\n",
       " 0.03669482978347386,\n",
       " 0.03598726630381622,\n",
       " 0.03285546174516321,\n",
       " 0.016688342420048522,\n",
       " 0.05486080352666842,\n",
       " 0.057622815702571946,\n",
       " 0.057187799553231854,\n",
       " 0.47304058598192517,\n",
       " 0.04363491996081459,\n",
       " 0.0316055057445294,\n",
       " 0.019102784465867773,\n",
       " 0.026994483710007018,\n",
       " 0.030958996654007417,\n",
       " 0.05604531473600446,\n",
       " 0.060312836485186185,\n",
       " 0.06522736269603195,\n",
       " 0.05570926479893565,\n",
       " 0.1960627220397181,\n",
       " 0.04657898933230097,\n",
       " 0.021834177461596518,\n",
       " 0.08029841551243343,\n",
       " 0.041392231117001535,\n",
       " 0.02862605196610356,\n",
       " 0.06464914353689258,\n",
       " 0.030015747043203558,\n",
       " 0.026284738425065422,\n",
       " 0.021819471948157254,\n",
       " 0.07057386679690546,\n",
       " 0.17047101731316824,\n",
       " 0.042980736968162875,\n",
       " 0.14428716764550875,\n",
       " 0.06831675050057856,\n",
       " 0.013660594802743073,\n",
       " 0.08513168015462123,\n",
       " 0.010917112543232658,\n",
       " 0.049509873087410915,\n",
       " 0.026421970562238495,\n",
       " 0.2832848121431972,\n",
       " 0.07124993614523703,\n",
       " 0.048106693698705245,\n",
       " 0.10229079803114076,\n",
       " 0.0374398082800914,\n",
       " 0.04642516832725487,\n",
       " 0.061468546790513334,\n",
       " 0.02170963851436528,\n",
       " 0.05843831685950435,\n",
       " 0.09125818194333803,\n",
       " 0.3152586838747816,\n",
       " 0.2565647325436404,\n",
       " 0.02760450567182022,\n",
       " 0.03022538590145637,\n",
       " 0.05619765282953943,\n",
       " 0.1368227047030046,\n",
       " 0.10902247340707492,\n",
       " 0.06825508740973112,\n",
       " 0.023754469984431325,\n",
       " 0.06917266558860255,\n",
       " 0.03832258398508573,\n",
       " 0.07211776889439485,\n",
       " 0.023690143885093023,\n",
       " 0.0875635296021473,\n",
       " 0.0661019458054473,\n",
       " 0.015693485554487734,\n",
       " 0.03546917265687803,\n",
       " 0.050616258133352375,\n",
       " 0.10795852027081658,\n",
       " 0.12132525990915272,\n",
       " 0.04300969515549062,\n",
       " 0.06157433268223998,\n",
       " 0.04768161979575951,\n",
       " 0.04031082260667793,\n",
       " 0.11584000745562682,\n",
       " 0.03778590359998678,\n",
       " 0.03012673226923778,\n",
       " 0.1321973413816652,\n",
       " 0.04745527806542419,\n",
       " 0.04351469387308625,\n",
       " 0.056179799063557266,\n",
       " 0.014617972301045869,\n",
       " 0.07850402388171805,\n",
       " 0.04515092036291719,\n",
       " 0.02930479025876839,\n",
       " 0.07000405583312022,\n",
       " 0.04201927690075769,\n",
       " 0.028767079357968444,\n",
       " 0.13733398881247516,\n",
       " 0.06350067758019014,\n",
       " 0.041632922390097256,\n",
       " 0.1107993985769923,\n",
       " 0.11390908494734986,\n",
       " 0.042920288357648724,\n",
       " 0.26430459625231945,\n",
       " 0.11731517498751902,\n",
       " 0.0396354555255718,\n",
       " 0.04428848586231208,\n",
       " 0.09346470286813428,\n",
       " 0.049907965799860204,\n",
       " 0.06043527815082603,\n",
       " 0.09583692521411129,\n",
       " 0.13427494017537372,\n",
       " 0.07497738311769225,\n",
       " 0.039014997894134644,\n",
       " 0.1713423360527817,\n",
       " 0.020581506427906186,\n",
       " 0.03247015278981905,\n",
       " 0.09763656590830558,\n",
       " 0.022242650021247878,\n",
       " 0.029714214007450532,\n",
       " 0.23798898439761823,\n",
       " 0.1338751950963955,\n",
       " 0.028288965616889313,\n",
       " 0.01959546080531149,\n",
       " 0.03887368975490591,\n",
       " 0.02103584098477876,\n",
       " 0.048509434133308875,\n",
       " 0.06826142086766407,\n",
       " 0.10926540874918855,\n",
       " 0.07097451898139213,\n",
       " 0.04102155146099601,\n",
       " 0.09388227034904484,\n",
       " 0.04153144519286791,\n",
       " 0.07067320142537062,\n",
       " 0.029456298523638357,\n",
       " 0.021381645641036163,\n",
       " 0.08621399447318268,\n",
       " 0.057321594944246705,\n",
       " 0.09164738389075866,\n",
       " 0.017993226602435356,\n",
       " 0.05857284651969011,\n",
       " 0.04501033292179054,\n",
       " 0.05531887902766566,\n",
       " 0.05421062788683377,\n",
       " 0.014105282940185366,\n",
       " 0.044225595638377364,\n",
       " 0.025631355597169975,\n",
       " 0.03343402357953788,\n",
       " 0.07709568353211727,\n",
       " 0.07163249906435994,\n",
       " 0.09507892523533491,\n",
       " 0.03331251288317614,\n",
       " 0.019559481370193067,\n",
       " 0.018976374053201038,\n",
       " 0.10159595517603422,\n",
       " 0.028351126531174473,\n",
       " 0.02688491913091739,\n",
       " 0.04346419491729905,\n",
       " 0.05680356312140449,\n",
       " 0.10583334302691849,\n",
       " 0.04280880287094751,\n",
       " 0.0760627243555838,\n",
       " 0.07923969754390024,\n",
       " 0.05385023714060537,\n",
       " 0.03219308671846421,\n",
       " 0.07064922167416715,\n",
       " 0.020261812470408123,\n",
       " 0.09358441997924753,\n",
       " 0.07643538485245412,\n",
       " 0.10210813709716389,\n",
       " 0.038321806604749195,\n",
       " 0.07088915038467611,\n",
       " 0.1812687887071101,\n",
       " 0.0460781798494445,\n",
       " 0.047103017523371926,\n",
       " 0.173285537720531,\n",
       " 0.11281199785403642,\n",
       " 0.04994916100802001,\n",
       " 0.029162872506297663,\n",
       " 0.02600292443370353,\n",
       " 0.10773388800978927,\n",
       " 0.08642016642142161,\n",
       " 0.015745464470503314,\n",
       " 0.019168242172779536,\n",
       " 0.05214977282310028,\n",
       " 0.05202851438021097,\n",
       " 0.07558307237592321,\n",
       " 0.058825920119172107,\n",
       " 0.03358235211814356,\n",
       " 0.11490756286912186,\n",
       " 0.055126908547211195,\n",
       " 0.023306775026679393,\n",
       " 0.08511738304554013,\n",
       " 0.023305426265829196,\n",
       " 0.040591986625696526,\n",
       " 0.0643047676613845,\n",
       " 0.05920648258081906,\n",
       " 0.11273175388828896,\n",
       " 0.02413584097260462,\n",
       " 0.044043308970661645,\n",
       " 0.05578989294910065,\n",
       " 0.0635612639855145,\n",
       " 0.07900920857782964,\n",
       " 0.022558462610990888,\n",
       " 0.24269558783525502,\n",
       " 0.10470940101113836,\n",
       " 0.055363413097266514,\n",
       " 0.0740969565865355,\n",
       " 0.19982192946576277,\n",
       " 0.021268574023220105,\n",
       " 0.19327108727529524,\n",
       " 0.015703519836837238,\n",
       " 0.09816402016292794,\n",
       " 0.030085517326380193,\n",
       " 0.02327038012695847,\n",
       " 0.044379228480669365,\n",
       " 0.06468227520448322,\n",
       " 0.060977801178175466,\n",
       " 0.07496790982979223,\n",
       " 0.06214955428014752,\n",
       " 0.22232585663811077,\n",
       " 0.0422235092493737,\n",
       " 0.18205833000642077,\n",
       " 0.08531176905950125,\n",
       " 0.026206592583161117,\n",
       " 0.10308661939758612,\n",
       " 0.02067473675224922,\n",
       " 0.024125854969397998,\n",
       " 0.04387234563730037,\n",
       " 0.041750663862390854,\n",
       " 0.040052308871751076,\n",
       " 0.022168605814315893,\n",
       " 0.03234066100862621,\n",
       " 0.034587215633600454,\n",
       " 0.01978722903499531,\n",
       " 0.05539980541218524,\n",
       " 0.0465797355273159,\n",
       " 0.3272836360154678,\n",
       " 0.07831445519142796,\n",
       " 0.05615516738093493,\n",
       " 0.04103094976375114,\n",
       " 0.08135023115406767,\n",
       " 0.045253984479139614,\n",
       " 0.023527690994312515,\n",
       " 0.07799460262784519,\n",
       " 0.1000068831945952,\n",
       " 0.0300140613280779,\n",
       " 0.07690216714724728,\n",
       " 0.06360342975821934,\n",
       " 0.10286899240926492,\n",
       " 0.06289993776795143,\n",
       " 0.036713682920342966,\n",
       " 0.019931945025441232,\n",
       " 0.13297850278125772,\n",
       " 0.017688074878734365,\n",
       " 0.043783019867412405,\n",
       " 0.014142827779097436,\n",
       " 0.2089537982644573,\n",
       " 0.1054332050350638,\n",
       " 0.020733262619532605,\n",
       " 0.06309095848735069,\n",
       " 0.06472189750672502,\n",
       " 0.36604892480521656,\n",
       " 0.036927781018070656,\n",
       " 0.03337951798693565,\n",
       " 0.015815185614656734,\n",
       " 0.08223343833389683,\n",
       " 0.06968454865307737,\n",
       " 0.052582024035558644,\n",
       " 0.09889536548670214,\n",
       " 0.17191367420391454,\n",
       " 0.018633791325489237,\n",
       " 0.08698080646108153,\n",
       " 0.04160007604194642,\n",
       " 0.1664947087533277,\n",
       " 0.3417776982861127,\n",
       " 0.037149064763272815,\n",
       " 0.046530558662281896,\n",
       " 0.05819565975942927,\n",
       " 0.107246698041812,\n",
       " 0.08591580085279436,\n",
       " 0.13875553965644144,\n",
       " 0.046578970404004,\n",
       " 0.12271642676682482,\n",
       " 0.030126549034525555,\n",
       " 0.034610311771641034,\n",
       " 0.05551292156297193,\n",
       " 0.06043830882544298,\n",
       " 0.1529759720121476,\n",
       " 0.11444010879208642,\n",
       " 0.08126641683912154,\n",
       " 0.36597421495519694,\n",
       " 0.011562753547493775,\n",
       " 0.013592767803721515,\n",
       " 0.04248770832961608,\n",
       " 0.059015487479854356,\n",
       " 0.07480872675000222,\n",
       " 0.03191930587300684,\n",
       " 0.049610292855003534,\n",
       " 0.07499230229849514,\n",
       " 0.05568016795224488,\n",
       " 0.07023467995528755,\n",
       " 0.017718945268201808,\n",
       " 0.0858478401588178,\n",
       " 0.027681001934318016,\n",
       " 0.03659177665334673,\n",
       " 0.12985458062124697,\n",
       " 0.17226475589658913,\n",
       " 0.039523591269914754,\n",
       " 0.08284568503486188,\n",
       " 0.06422556757033158,\n",
       " 0.0751147998163653,\n",
       " 0.023627580980766626,\n",
       " 0.04838880459282134,\n",
       " 0.07741885981346407,\n",
       " 0.015251552357779271,\n",
       " 0.03891291615140614,\n",
       " 0.08086042032461437,\n",
       " 0.07958120848232338,\n",
       " 0.07235646132183993,\n",
       " 0.08170402568732855,\n",
       " 0.07100160308422554,\n",
       " 0.01872722723190745,\n",
       " 0.05830970730903841,\n",
       " 0.43390195531468717,\n",
       " 0.13369524355592097,\n",
       " 0.08442412892371537,\n",
       " 0.11229512625981923,\n",
       " 0.05922767912587089,\n",
       " 0.06174246124170952,\n",
       " 0.027636313301426137,\n",
       " 0.01396165998061885,\n",
       " 0.06892715477540515,\n",
       " 0.012184454818585076,\n",
       " 0.08092745168222078,\n",
       " 0.011405810834167588,\n",
       " 0.13794341684883119,\n",
       " 0.12133621068946472,\n",
       " 0.05530437630659435,\n",
       " 0.02980560773165192,\n",
       " 0.028677697107923186,\n",
       " 0.11232026308620545,\n",
       " 0.09546349877511798,\n",
       " 0.08462301151557602,\n",
       " 0.10092334826224669,\n",
       " 0.020976716333029593,\n",
       " 0.08927006730329051,\n",
       " 0.13818501091633628,\n",
       " 0.0139593116728876,\n",
       " 0.10940142589063434,\n",
       " 0.1243741052900972,\n",
       " 0.03183235038282435,\n",
       " 0.01991963014377154,\n",
       " 0.22206704942287955,\n",
       " 0.11427313915476679,\n",
       " 0.026083903281074385,\n",
       " 0.017593796476110746,\n",
       " 0.15383117691795642,\n",
       " 0.04541982119062511,\n",
       " 0.10701091403953787,\n",
       " 0.07222092363144457,\n",
       " 0.04073080885125242,\n",
       " 0.09937400331360582,\n",
       " 0.20565293631626924,\n",
       " 0.013833918705542094,\n",
       " 0.020493438484308336,\n",
       " 0.05219715139756576,\n",
       " 0.08266242945930072,\n",
       " 0.03528961625465348,\n",
       " 0.04840006684148555,\n",
       " 0.10758345879264988,\n",
       " 0.040273505729832265,\n",
       " 0.1496976031651188,\n",
       " 0.050982012711935414,\n",
       " 0.022672937644545962,\n",
       " 0.07779955351038423,\n",
       " 0.13021727054563298,\n",
       " 0.015854815330044264,\n",
       " 0.031283161726942635,\n",
       " 0.05500185135415358,\n",
       " 0.19985355446951328,\n",
       " 0.08728754966089172,\n",
       " 0.10213713044968628,\n",
       " 0.3518135120309399,\n",
       " 0.07375086185356931,\n",
       " 0.026465827665268785,\n",
       " 0.014403378984598092,\n",
       " 0.19077803925765782,\n",
       " 0.04933037857877361,\n",
       " 0.06352235068572938,\n",
       " 0.07281920294894632,\n",
       " 0.057461927715835526,\n",
       " 0.014985273289916098,\n",
       " 0.0196417585014922,\n",
       " 0.03771588938535574,\n",
       " 0.043621144561601766,\n",
       " 0.042866551696333875,\n",
       " 0.026007186833501443,\n",
       " 0.05264307388955207,\n",
       " 0.13012769589119771,\n",
       " 0.0612792969352447,\n",
       " 0.023354716791292487,\n",
       " 0.06952542044237188,\n",
       " 0.10430729645155742,\n",
       " 0.015781430865048098,\n",
       " 0.06287200654864183,\n",
       " 0.011153012504858884,\n",
       " 0.05425626507603624,\n",
       " 0.018274309567171194,\n",
       " 0.0759035575148974,\n",
       " 0.1255322971462979,\n",
       " 0.032257539951415136,\n",
       " 0.03434976383921796,\n",
       " 0.05342510387057374,\n",
       " 0.04862597167106008,\n",
       " 0.15856280874872455,\n",
       " 0.046254519936636034,\n",
       " 0.028073134467092278,\n",
       " 0.09001842329911451,\n",
       " 0.03213766939869829,\n",
       " 0.055549679943836104,\n",
       " 0.05692762954233471,\n",
       " 0.03435148030164138,\n",
       " 0.06817465822068075,\n",
       " 0.055364276080111366,\n",
       " 0.11532807153495872,\n",
       " 0.027968044569730142,\n",
       " 0.06978138164600192,\n",
       " 0.030491754997494222,\n",
       " 0.06321228920233599,\n",
       " 0.059443953331484424,\n",
       " 0.0726620111596201,\n",
       " 0.08219308565284167,\n",
       " 0.06782575588824014,\n",
       " 0.024869151095982842,\n",
       " 0.170010217029457,\n",
       " 0.0660409529470463,\n",
       " 0.04433002473012544,\n",
       " 0.02477814936645292,\n",
       " 0.021738981906315173,\n",
       " 0.016822277183396742,\n",
       " 0.06928245802683783,\n",
       " 0.05301974971080556,\n",
       " 0.06152548128209167,\n",
       " 0.3483006375674877,\n",
       " 0.06918980083612102,\n",
       " 0.2331808848649989,\n",
       " 0.22223870039415258,\n",
       " 0.06413342747658404,\n",
       " 0.28660015803315503,\n",
       " 0.05020463743277021,\n",
       " 0.06228839815184503,\n",
       " 0.16451757130584913,\n",
       " 0.06693904090202482,\n",
       " 0.0960590915686298,\n",
       " 0.024931054707701537,\n",
       " 0.06218086164682975,\n",
       " 0.05441712271715931,\n",
       " 0.02354487625593715,\n",
       " 0.02155378722961144,\n",
       " 0.011897631908021643,\n",
       " 0.03270625471805222,\n",
       " 0.04149885618868574,\n",
       " 0.042850490101093354,\n",
       " 0.12370552045068851,\n",
       " 0.02042395258406088,\n",
       " 0.08758858379229274,\n",
       " 0.016975608501957735,\n",
       " 0.08440607871685885,\n",
       " 0.13330324770540658,\n",
       " 0.010471606278013294,\n",
       " 0.12698404279692102,\n",
       " 0.07776689219757148,\n",
       " 0.040945132762315976,\n",
       " 0.24122687627448602,\n",
       " 0.02246334815117976,\n",
       " 0.06439587144770878,\n",
       " 0.09121594313421817,\n",
       " 0.21818494547007053,\n",
       " 0.07452544320134365,\n",
       " 0.058355524759300996,\n",
       " 0.049523636085478114,\n",
       " 0.0684110252631198,\n",
       " 0.01785213660723824,\n",
       " 0.04308008703450979,\n",
       " 0.03390319942251551,\n",
       " 0.022136819822286182,\n",
       " 0.03394821082462877,\n",
       " 0.058116222757878824,\n",
       " 0.04253006697750704,\n",
       " 0.05135113499604233,\n",
       " 0.10804581777339282,\n",
       " 0.013406508186636464,\n",
       " 0.020902790008793942,\n",
       " 0.09363503761416324,\n",
       " 0.04652679222780335,\n",
       " 0.01975714525677316,\n",
       " 0.05649865925642907,\n",
       " 0.02664833849243074,\n",
       " 0.030892140912154326,\n",
       " 0.015684465568809938,\n",
       " 0.11432825408770839,\n",
       " 0.023144330051603518,\n",
       " 0.06578519665577967,\n",
       " 0.11102700366238472,\n",
       " 0.078317356276569,\n",
       " 0.07066038757541913,\n",
       " 0.03358871108113852,\n",
       " 0.05711351036412822,\n",
       " 0.05384560137140655,\n",
       " 0.02504079394036651,\n",
       " 0.0264760351914439,\n",
       " 0.05922476742361216,\n",
       " 0.08562099750270086,\n",
       " 0.1949365891497126,\n",
       " 0.023454898072913472,\n",
       " 0.0713708452927059,\n",
       " 0.06028615815520418,\n",
       " 0.0736417641694768,\n",
       " 0.0386802941971437,\n",
       " 0.011243427087820893,\n",
       " 0.04929819522069377,\n",
       " 0.07109578842497279,\n",
       " 0.073047139213576,\n",
       " 0.06689087407969496,\n",
       " 0.02425923405059175,\n",
       " 0.062014334608546405,\n",
       " 0.18682408570586165,\n",
       " 0.05627489715382284,\n",
       " 0.16635785205198864,\n",
       " 0.07839194322053356,\n",
       " 0.031402662002698895,\n",
       " 0.022331883930968698,\n",
       " 0.10024474056937689,\n",
       " 0.09264778277429654,\n",
       " 0.08020952672437734,\n",
       " 0.13497899651190046,\n",
       " 0.0224862671994773,\n",
       " 0.02469457705059527,\n",
       " 0.04083414359404827,\n",
       " 0.05983250850911405,\n",
       " 0.03265853297736775,\n",
       " 0.07018480200607466,\n",
       " 0.04457500174019102,\n",
       " 0.022111658777319288,\n",
       " 0.09914992981090494,\n",
       " 0.06232004478094142,\n",
       " 0.10856894647033023,\n",
       " 0.01759056839062394,\n",
       " 0.07115898419649148,\n",
       " 0.06950780335763197,\n",
       " 0.04025505068636154,\n",
       " 0.07989763704030722,\n",
       " 0.10975100730862648,\n",
       " 0.06198257588377937,\n",
       " 0.04847868036655217,\n",
       " 0.16886368755972986,\n",
       " 0.0735518678028806,\n",
       " 0.41324785494736743,\n",
       " 0.09142236394319653,\n",
       " 0.028048139951926353,\n",
       " 0.031741025939150666,\n",
       " 0.04530593706482427,\n",
       " 0.03614436133953197,\n",
       " 0.09383247206007544,\n",
       " 0.0979594384024923,\n",
       " 0.02060931588974643,\n",
       " 0.056161753581690455,\n",
       " 0.06995077141066379,\n",
       " 0.15967469999237663,\n",
       " 0.0437716997270763,\n",
       " 0.05925954852351749,\n",
       " 0.017519394599706035,\n",
       " 0.19024822567318042,\n",
       " 0.06281466561480069,\n",
       " ...)"
      ]
     },
     "execution_count": 50,
     "metadata": {},
     "output_type": "execute_result"
    }
   ],
   "source": [
    "probabilities1"
   ]
  },
  {
   "cell_type": "code",
   "execution_count": null,
   "metadata": {},
   "outputs": [],
   "source": []
  },
  {
   "cell_type": "code",
   "execution_count": 48,
   "metadata": {},
   "outputs": [
    {
     "data": {
      "text/plain": [
       "array([-1, -1, -1, ..., -1, -1, -1], dtype=int64)"
      ]
     },
     "execution_count": 48,
     "metadata": {},
     "output_type": "execute_result"
    }
   ],
   "source": [
    "y1"
   ]
  },
  {
   "cell_type": "code",
   "execution_count": 49,
   "metadata": {},
   "outputs": [
    {
     "ename": "AttributeError",
     "evalue": "'tuple' object has no attribute 'to_csv'",
     "output_type": "error",
     "traceback": [
      "\u001b[1;31m---------------------------------------------------------------------------\u001b[0m",
      "\u001b[1;31mAttributeError\u001b[0m                            Traceback (most recent call last)",
      "\u001b[1;32m<ipython-input-49-f8975a305af4>\u001b[0m in \u001b[0;36m<module>\u001b[1;34m()\u001b[0m\n\u001b[1;32m----> 1\u001b[1;33m \u001b[0mprobabilities1\u001b[0m\u001b[1;33m.\u001b[0m\u001b[0mto_csv\u001b[0m\u001b[1;33m(\u001b[0m\u001b[1;34m\"probabilities1\"\u001b[0m\u001b[1;33m,\u001b[0m \u001b[0mindex\u001b[0m\u001b[1;33m=\u001b[0m\u001b[0mTrue\u001b[0m\u001b[1;33m,\u001b[0m \u001b[0mindex_label\u001b[0m\u001b[1;33m=\u001b[0m\u001b[1;34m\"prob\"\u001b[0m\u001b[1;33m)\u001b[0m\u001b[1;33m\u001b[0m\u001b[0m\n\u001b[0m",
      "\u001b[1;31mAttributeError\u001b[0m: 'tuple' object has no attribute 'to_csv'"
     ]
    }
   ],
   "source": [
    "probabilities1.to_csv(\"probabilities1\", index=True, index_label=\"prob\")"
   ]
  },
  {
   "cell_type": "code",
   "execution_count": 53,
   "metadata": {},
   "outputs": [],
   "source": [
    "prob1 = pd.Series(probabilities1)"
   ]
  },
  {
   "cell_type": "code",
   "execution_count": 54,
   "metadata": {},
   "outputs": [
    {
     "data": {
      "text/plain": [
       "0       0.054626\n",
       "1       0.045714\n",
       "2       0.052528\n",
       "3       0.015278\n",
       "4       0.024712\n",
       "5       0.068182\n",
       "6       0.069337\n",
       "7       0.061566\n",
       "8       0.069521\n",
       "9       0.052914\n",
       "10      0.060295\n",
       "11      0.048313\n",
       "12      0.085705\n",
       "13      0.088539\n",
       "14      0.251269\n",
       "15      0.063804\n",
       "16      0.037631\n",
       "17      0.058468\n",
       "18      0.032289\n",
       "19      0.198787\n",
       "20      0.040849\n",
       "21      0.082294\n",
       "22      0.045324\n",
       "23      0.084090\n",
       "24      0.265864\n",
       "25      0.014716\n",
       "26      0.080495\n",
       "27      0.079389\n",
       "28      0.105974\n",
       "29      0.180623\n",
       "          ...   \n",
       "5570    0.130037\n",
       "5571    0.012106\n",
       "5572    0.107991\n",
       "5573    0.042586\n",
       "5574    0.067274\n",
       "5575    0.025655\n",
       "5576    0.080415\n",
       "5577    0.026121\n",
       "5578    0.023038\n",
       "5579    0.077024\n",
       "5580    0.090843\n",
       "5581    0.046208\n",
       "5582    0.085935\n",
       "5583    0.018788\n",
       "5584    0.030248\n",
       "5585    0.153096\n",
       "5586    0.028286\n",
       "5587    0.013996\n",
       "5588    0.042353\n",
       "5589    0.162119\n",
       "5590    0.095904\n",
       "5591    0.121140\n",
       "5592    0.035445\n",
       "5593    0.192580\n",
       "5594    0.081300\n",
       "5595    0.044545\n",
       "5596    0.029507\n",
       "5597    0.118769\n",
       "5598    0.040806\n",
       "5599    0.053872\n",
       "Length: 5600, dtype: float64"
      ]
     },
     "execution_count": 54,
     "metadata": {},
     "output_type": "execute_result"
    }
   ],
   "source": [
    "prob1"
   ]
  },
  {
   "cell_type": "code",
   "execution_count": 55,
   "metadata": {},
   "outputs": [],
   "source": [
    "lab1 = pd.Series(y1)"
   ]
  },
  {
   "cell_type": "code",
   "execution_count": 56,
   "metadata": {},
   "outputs": [
    {
     "data": {
      "text/plain": [
       "0      -1\n",
       "1      -1\n",
       "2      -1\n",
       "3      -1\n",
       "4      -1\n",
       "5      -1\n",
       "6      -1\n",
       "7      -1\n",
       "8      -1\n",
       "9      -1\n",
       "10     -1\n",
       "11     -1\n",
       "12     -1\n",
       "13     -1\n",
       "14      1\n",
       "15     -1\n",
       "16     -1\n",
       "17     -1\n",
       "18     -1\n",
       "19     -1\n",
       "20     -1\n",
       "21     -1\n",
       "22     -1\n",
       "23     -1\n",
       "24     -1\n",
       "25     -1\n",
       "26     -1\n",
       "27     -1\n",
       "28     -1\n",
       "29     -1\n",
       "       ..\n",
       "5570    1\n",
       "5571   -1\n",
       "5572   -1\n",
       "5573   -1\n",
       "5574    1\n",
       "5575   -1\n",
       "5576    1\n",
       "5577   -1\n",
       "5578   -1\n",
       "5579   -1\n",
       "5580   -1\n",
       "5581   -1\n",
       "5582   -1\n",
       "5583   -1\n",
       "5584   -1\n",
       "5585   -1\n",
       "5586   -1\n",
       "5587   -1\n",
       "5588   -1\n",
       "5589   -1\n",
       "5590   -1\n",
       "5591   -1\n",
       "5592   -1\n",
       "5593   -1\n",
       "5594   -1\n",
       "5595   -1\n",
       "5596   -1\n",
       "5597   -1\n",
       "5598   -1\n",
       "5599   -1\n",
       "Length: 5600, dtype: int64"
      ]
     },
     "execution_count": 56,
     "metadata": {},
     "output_type": "execute_result"
    }
   ],
   "source": [
    "lab1"
   ]
  },
  {
   "cell_type": "code",
   "execution_count": null,
   "metadata": {},
   "outputs": [],
   "source": []
  },
  {
   "cell_type": "code",
   "execution_count": null,
   "metadata": {},
   "outputs": [],
   "source": []
  },
  {
   "cell_type": "code",
   "execution_count": null,
   "metadata": {},
   "outputs": [],
   "source": []
  },
  {
   "cell_type": "code",
   "execution_count": null,
   "metadata": {},
   "outputs": [],
   "source": []
  },
  {
   "cell_type": "code",
   "execution_count": null,
   "metadata": {},
   "outputs": [],
   "source": []
  },
  {
   "cell_type": "code",
   "execution_count": 35,
   "metadata": {},
   "outputs": [
    {
     "name": "stdout",
     "output_type": "stream",
     "text": [
      "('Gradient boosting labeled', array([-1, -1, -1, ..., -1, -1, -1], dtype=int64), (0.054625921665497644, 0.04571390219147263, 0.05252751611892502, 0.015278093837796687, 0.024711533403474643, 0.06818202684721344, 0.06933729981494444, 0.06156556591449988, 0.06952101282885642, 0.05291364593228094, 0.06029454438692466, 0.04831261868703332, 0.08570479856271102, 0.08853914261991451, 0.25126938501403473, 0.06380408533154601, 0.03763081881970122, 0.058467885193857025, 0.032288722542083315, 0.19878674652730363, 0.040848622309761155, 0.08229351388370458, 0.04532399972105023, 0.08408993971447155, 0.2658636494280059, 0.014715597896155994, 0.08049460882402482, 0.07938910006928948, 0.10597379602842591, 0.18062266919381204, 0.05976194431252207, 0.03716400923786535, 0.05553018421490106, 0.0866323346047191, 0.03510100136477008, 0.062091359394281065, 0.18145772693167142, 0.018883186565505423, 0.009703356543208117, 0.07586521813751539, 0.06275133028038468, 0.10352003081154962, 0.026303715285463627, 0.021026957743902206, 0.13328001833484682, 0.04456428050137745, 0.07582965881090427, 0.07457978023034, 0.06500771640947692, 0.06585836838698508, 0.07005478742466856, 0.02921636762995836, 0.18842475847883183, 0.034053736523986355, 0.04677918712401803, 0.038413847659612796, 0.055953227225403274, 0.022206505807865602, 0.020221990829278117, 0.04491022360593848, 0.10575337635803929, 0.15858314266154286, 0.2482073389296958, 0.07298407532449588, 0.05108320850303307, 0.026950183248210885, 0.08436154701562282, 0.07927006471704233, 0.2224326370395943, 0.0841959474346588, 0.24805752298344033, 0.026794975196017652, 0.20910221155517117, 0.06879007681958098, 0.0176309516949503, 0.0715056862443743, 0.06192864313886469, 0.014558563893088863, 0.09345242555393932, 0.051773965071626016, 0.03158060814551709, 0.05457272135497751, 0.0571067729004297, 0.0598130096324459, 0.044591198431367315, 0.06950670763416375, 0.02522991705522163, 0.05720599476983952, 0.1558979474647571, 0.09015256466313351, 0.05231812454770862, 0.0573229071031459, 0.03770396889745156, 0.07678766062748171, 0.06651067960677341, 0.0387399838019549, 0.12572309851200614, 0.012314120195161257, 0.23828317570733482, 0.13842738403933227, 0.16909585213237574, 0.04848147563912297, 0.016788830449563762, 0.0672060729363666, 0.03017064187617021, 0.15097423602500212, 0.2084415842456853, 0.11645504068351174, 0.07056547694854916, 0.06046637980834066, 0.02746235591966479, 0.051310380501492524, 0.06808239152279866, 0.05218820055113785, 0.04182213190835855, 0.050701911065282594, 0.02772783291676631, 0.05320029823817713, 0.32332936249500327, 0.019361806422543173, 0.09779732814286747, 0.044799268524734114, 0.022230133177155276, 0.026643378023979234, 0.05241170037887998, 0.02861637130283245, 0.10071680473348726, 0.06945831366618438, 0.5091283719250684, 0.18396102275837314, 0.09802107483459677, 0.06943379246051151, 0.060708382206062374, 0.04306397141156257, 0.02978000631480407, 0.04929054631546732, 0.017769253288225564, 0.08313197357878029, 0.071846828185811, 0.05911125625898879, 0.032201756157185984, 0.05854127654997597, 0.06314030461192138, 0.045840382577969234, 0.017129401263826873, 0.07494736189876053, 0.07649445575812598, 0.03673629616654737, 0.025289580017981483, 0.05118093809429164, 0.044723987926565456, 0.06551808410941516, 0.017527750873007078, 0.02453121936270367, 0.014683210442830802, 0.1953744730412371, 0.05703413835203106, 0.1666176236059561, 0.17874334227547103, 0.02703965970686, 0.06443269831052979, 0.07299118856387987, 0.06740003936709506, 0.07168269387366129, 0.030824411631272447, 0.029405776609467422, 0.016024915034347175, 0.03032680161230302, 0.10649228426449264, 0.29156906339157773, 0.08649701476044964, 0.014918846763110505, 0.08416351935283287, 0.0501965915942822, 0.034267770221282925, 0.0459514058584667, 0.06105508919844839, 0.022736686727306415, 0.08358448395880524, 0.04273671162804286, 0.02272584773952245, 0.05992013265492157, 0.09620622893459932, 0.04961951653145136, 0.05582120655717162, 0.05586771635075514, 0.07687353517390293, 0.06363858720689822, 0.03522978214179122, 0.03915434066514857, 0.20311946806215925, 0.14841938539516777, 0.14565132927919947, 0.017769783930189843, 0.0621791420846215, 0.08499742579493967, 0.031774800434583805, 0.02807422574257341, 0.05530578369647479, 0.01350399761642764, 0.2087146234328537, 0.0423864320586738, 0.14748178128581008, 0.12091675138217914, 0.026185512949658908, 0.08888025659950213, 0.03320810888980432, 0.009799137075548374, 0.17368711091093675, 0.05208820455013366, 0.021390254612882003, 0.025334918027455477, 0.05606444818007076, 0.0650755019647192, 0.11368673141919139, 0.26086997571421067, 0.07112428239942538, 0.10932029033169147, 0.07975105679276394, 0.1696713201755417, 0.026976391425523435, 0.06594337564694056, 0.009338090213755815, 0.08290675969409432, 0.055797166038104404, 0.044437387795106496, 0.07604011015143484, 0.22935324589856929, 0.28390170518758806, 0.018472027092880035, 0.0665461208593533, 0.07014481556031754, 0.05248841791419887, 0.06542504672908267, 0.03040988728142501, 0.1205702932527584, 0.013728043624526759, 0.012756131012845985, 0.07854895234092711, 0.06814535455842849, 0.05820857397745658, 0.16915280156116314, 0.07007202725191286, 0.029708580447358014, 0.07738358777042637, 0.06442504754977338, 0.04868124148088657, 0.086187202820985, 0.03902476175251131, 0.15336339445067831, 0.031123572383390093, 0.06490817795543317, 0.11499197988658892, 0.03228415119718308, 0.030928752749589745, 0.06172226331180344, 0.04926228532309443, 0.022461491303646566, 0.09676493371891101, 0.042441991889582455, 0.10838140496068892, 0.0988267628958306, 0.045304905481014734, 0.03188118244948952, 0.03332714923923692, 0.051762658748209886, 0.017441462020466748, 0.06868505777729449, 0.021297473357690742, 0.09290676875618897, 0.03169248749436017, 0.0554415247202502, 0.22124765205268346, 0.009831517231608033, 0.01258352218508884, 0.06008732783056539, 0.0495531363487966, 0.12273064160129726, 0.054369169708035014, 0.04916255833130423, 0.039203933255369715, 0.12336310012819397, 0.02488711426812397, 0.026386152455481766, 0.029497789635613666, 0.050459506269990795, 0.07855987130140193, 0.18897668237547688, 0.018303710368142344, 0.024091203876771824, 0.09392293329415896, 0.10298937660661361, 0.08531825952931621, 0.03441455535986231, 0.04068594362716629, 0.04581408176441361, 0.12095726763872919, 0.08289791990953385, 0.037844043654573604, 0.12617439268340777, 0.02334695023906562, 0.08843241734259127, 0.045708866497829945, 0.04262709001405339, 0.07449121511202188, 0.019171519211906015, 0.037948148696163704, 0.016124624029212782, 0.13112818114417485, 0.08154983430290495, 0.0882101614707677, 0.07521483019913586, 0.06931650241039307, 0.11441395507144349, 0.19057768187815777, 0.04998916199487121, 0.05899174629017609, 0.09256405708722704, 0.036194448589648424, 0.09658321834402862, 0.03220423707172, 0.013018179704648053, 0.060565578629414966, 0.128272445641863, 0.0914029654771619, 0.025972352201299932, 0.10933909358508359, 0.04466799060623025, 0.08047022642020532, 0.11272617600294077, 0.06570498149182359, 0.21524843345391872, 0.2919695322705153, 0.023498345891472573, 0.05443110747272881, 0.014525429595926983, 0.04310129159858222, 0.1323024830825591, 0.07625692337974461, 0.02312753308705197, 0.12268538923342057, 0.06900446895890974, 0.19764275129761458, 0.0486096407066574, 0.061678803959953045, 0.028222225838751506, 0.06488928119351917, 0.02492353566829728, 0.03808090775686976, 0.11139717916611595, 0.03391382340946596, 0.06348261984565842, 0.1063779649159504, 0.07606281923721707, 0.2690613948719132, 0.05685247505803081, 0.02326919038706911, 0.11078133844098378, 0.11570986723784557, 0.07368134038992297, 0.023331426259081012, 0.021489532116489105, 0.05625279661400516, 0.08305644870810959, 0.032493268454706986, 0.012851674798096043, 0.13976680853278134, 0.027761169084019374, 0.018109270211472836, 0.015559937028505944, 0.3293101947170083, 0.03488909460475637, 0.05657459135694857, 0.028354203167644264, 0.03977889598134701, 0.4770203713667428, 0.060264243203098984, 0.017157233160601765, 0.051486831882852614, 0.11845465541721356, 0.015672715450885236, 0.02731208207138696, 0.1418241871014725, 0.07119420022349571, 0.07007210072082601, 0.0956973886572967, 0.05691124159817948, 0.06047146832798579, 0.060398830223272144, 0.10380686931793608, 0.06252048975942484, 0.014249295575739845, 0.10966627646560258, 0.0637753786911624, 0.08506244839958282, 0.07446022353431168, 0.3159936297045811, 0.035743642729743834, 0.057065989667515866, 0.05588775737934016, 0.06459394350327897, 0.07801566898425677, 0.07173969658500089, 0.04984424853842748, 0.08886870115517354, 0.05226911727811505, 0.016353748218279836, 0.05943006656273809, 0.08105017964308527, 0.0967698486693052, 0.13658846128910146, 0.03133853757583065, 0.03925889087184548, 0.025304012438166355, 0.04116391665698294, 0.06514257899797227, 0.026557207998320797, 0.05910397768457467, 0.031141845900022308, 0.03588700488561099, 0.03132613590410754, 0.014825751636330795, 0.155915549713553, 0.018081912160662336, 0.11409385073161189, 0.08637820830095669, 0.1112041722448276, 0.07521205217003885, 0.030319286769818914, 0.18064193715538948, 0.0350578891201618, 0.10933817241083064, 0.045455925772410935, 0.053257994916799715, 0.024319205041450763, 0.05317288109335935, 0.07671817215620447, 0.03669482978347386, 0.03598726630381622, 0.03285546174516321, 0.016688342420048522, 0.05486080352666842, 0.057622815702571946, 0.057187799553231854, 0.47304058598192517, 0.04363491996081459, 0.0316055057445294, 0.019102784465867773, 0.026994483710007018, 0.030958996654007417, 0.05604531473600446, 0.060312836485186185, 0.06522736269603195, 0.05570926479893565, 0.1960627220397181, 0.04657898933230097, 0.021834177461596518, 0.08029841551243343, 0.041392231117001535, 0.02862605196610356, 0.06464914353689258, 0.030015747043203558, 0.026284738425065422, 0.021819471948157254, 0.07057386679690546, 0.17047101731316824, 0.042980736968162875, 0.14428716764550875, 0.06831675050057856, 0.013660594802743073, 0.08513168015462123, 0.010917112543232658, 0.049509873087410915, 0.026421970562238495, 0.2832848121431972, 0.07124993614523703, 0.048106693698705245, 0.10229079803114076, 0.0374398082800914, 0.04642516832725487, 0.061468546790513334, 0.02170963851436528, 0.05843831685950435, 0.09125818194333803, 0.3152586838747816, 0.2565647325436404, 0.02760450567182022, 0.03022538590145637, 0.05619765282953943, 0.1368227047030046, 0.10902247340707492, 0.06825508740973112, 0.023754469984431325, 0.06917266558860255, 0.03832258398508573, 0.07211776889439485, 0.023690143885093023, 0.0875635296021473, 0.0661019458054473, 0.015693485554487734, 0.03546917265687803, 0.050616258133352375, 0.10795852027081658, 0.12132525990915272, 0.04300969515549062, 0.06157433268223998, 0.04768161979575951, 0.04031082260667793, 0.11584000745562682, 0.03778590359998678, 0.03012673226923778, 0.1321973413816652, 0.04745527806542419, 0.04351469387308625, 0.056179799063557266, 0.014617972301045869, 0.07850402388171805, 0.04515092036291719, 0.02930479025876839, 0.07000405583312022, 0.04201927690075769, 0.028767079357968444, 0.13733398881247516, 0.06350067758019014, 0.041632922390097256, 0.1107993985769923, 0.11390908494734986, 0.042920288357648724, 0.26430459625231945, 0.11731517498751902, 0.0396354555255718, 0.04428848586231208, 0.09346470286813428, 0.049907965799860204, 0.06043527815082603, 0.09583692521411129, 0.13427494017537372, 0.07497738311769225, 0.039014997894134644, 0.1713423360527817, 0.020581506427906186, 0.03247015278981905, 0.09763656590830558, 0.022242650021247878, 0.029714214007450532, 0.23798898439761823, 0.1338751950963955, 0.028288965616889313, 0.01959546080531149, 0.03887368975490591, 0.02103584098477876, 0.048509434133308875, 0.06826142086766407, 0.10926540874918855, 0.07097451898139213, 0.04102155146099601, 0.09388227034904484, 0.04153144519286791, 0.07067320142537062, 0.029456298523638357, 0.021381645641036163, 0.08621399447318268, 0.057321594944246705, 0.09164738389075866, 0.017993226602435356, 0.05857284651969011, 0.04501033292179054, 0.05531887902766566, 0.05421062788683377, 0.014105282940185366, 0.044225595638377364, 0.025631355597169975, 0.03343402357953788, 0.07709568353211727, 0.07163249906435994, 0.09507892523533491, 0.03331251288317614, 0.019559481370193067, 0.018976374053201038, 0.10159595517603422, 0.028351126531174473, 0.02688491913091739, 0.04346419491729905, 0.05680356312140449, 0.10583334302691849, 0.04280880287094751, 0.0760627243555838, 0.07923969754390024, 0.05385023714060537, 0.03219308671846421, 0.07064922167416715, 0.020261812470408123, 0.09358441997924753, 0.07643538485245412, 0.10210813709716389, 0.038321806604749195, 0.07088915038467611, 0.1812687887071101, 0.0460781798494445, 0.047103017523371926, 0.173285537720531, 0.11281199785403642, 0.04994916100802001, 0.029162872506297663, 0.02600292443370353, 0.10773388800978927, 0.08642016642142161, 0.015745464470503314, 0.019168242172779536, 0.05214977282310028, 0.05202851438021097, 0.07558307237592321, 0.058825920119172107, 0.03358235211814356, 0.11490756286912186, 0.055126908547211195, 0.023306775026679393, 0.08511738304554013, 0.023305426265829196, 0.040591986625696526, 0.0643047676613845, 0.05920648258081906, 0.11273175388828896, 0.02413584097260462, 0.044043308970661645, 0.05578989294910065, 0.0635612639855145, 0.07900920857782964, 0.022558462610990888, 0.24269558783525502, 0.10470940101113836, 0.055363413097266514, 0.0740969565865355, 0.19982192946576277, 0.021268574023220105, 0.19327108727529524, 0.015703519836837238, 0.09816402016292794, 0.030085517326380193, 0.02327038012695847, 0.044379228480669365, 0.06468227520448322, 0.060977801178175466, 0.07496790982979223, 0.06214955428014752, 0.22232585663811077, 0.0422235092493737, 0.18205833000642077, 0.08531176905950125, 0.026206592583161117, 0.10308661939758612, 0.02067473675224922, 0.024125854969397998, 0.04387234563730037, 0.041750663862390854, 0.040052308871751076, 0.022168605814315893, 0.03234066100862621, 0.034587215633600454, 0.01978722903499531, 0.05539980541218524, 0.0465797355273159, 0.3272836360154678, 0.07831445519142796, 0.05615516738093493, 0.04103094976375114, 0.08135023115406767, 0.045253984479139614, 0.023527690994312515, 0.07799460262784519, 0.1000068831945952, 0.0300140613280779, 0.07690216714724728, 0.06360342975821934, 0.10286899240926492, 0.06289993776795143, 0.036713682920342966, 0.019931945025441232, 0.13297850278125772, 0.017688074878734365, 0.043783019867412405, 0.014142827779097436, 0.2089537982644573, 0.1054332050350638, 0.020733262619532605, 0.06309095848735069, 0.06472189750672502, 0.36604892480521656, 0.036927781018070656, 0.03337951798693565, 0.015815185614656734, 0.08223343833389683, 0.06968454865307737, 0.052582024035558644, 0.09889536548670214, 0.17191367420391454, 0.018633791325489237, 0.08698080646108153, 0.04160007604194642, 0.1664947087533277, 0.3417776982861127, 0.037149064763272815, 0.046530558662281896, 0.05819565975942927, 0.107246698041812, 0.08591580085279436, 0.13875553965644144, 0.046578970404004, 0.12271642676682482, 0.030126549034525555, 0.034610311771641034, 0.05551292156297193, 0.06043830882544298, 0.1529759720121476, 0.11444010879208642, 0.08126641683912154, 0.36597421495519694, 0.011562753547493775, 0.013592767803721515, 0.04248770832961608, 0.059015487479854356, 0.07480872675000222, 0.03191930587300684, 0.049610292855003534, 0.07499230229849514, 0.05568016795224488, 0.07023467995528755, 0.017718945268201808, 0.0858478401588178, 0.027681001934318016, 0.03659177665334673, 0.12985458062124697, 0.17226475589658913, 0.039523591269914754, 0.08284568503486188, 0.06422556757033158, 0.0751147998163653, 0.023627580980766626, 0.04838880459282134, 0.07741885981346407, 0.015251552357779271, 0.03891291615140614, 0.08086042032461437, 0.07958120848232338, 0.07235646132183993, 0.08170402568732855, 0.07100160308422554, 0.01872722723190745, 0.05830970730903841, 0.43390195531468717, 0.13369524355592097, 0.08442412892371537, 0.11229512625981923, 0.05922767912587089, 0.06174246124170952, 0.027636313301426137, 0.01396165998061885, 0.06892715477540515, 0.012184454818585076, 0.08092745168222078, 0.011405810834167588, 0.13794341684883119, 0.12133621068946472, 0.05530437630659435, 0.02980560773165192, 0.028677697107923186, 0.11232026308620545, 0.09546349877511798, 0.08462301151557602, 0.10092334826224669, 0.020976716333029593, 0.08927006730329051, 0.13818501091633628, 0.0139593116728876, 0.10940142589063434, 0.1243741052900972, 0.03183235038282435, 0.01991963014377154, 0.22206704942287955, 0.11427313915476679, 0.026083903281074385, 0.017593796476110746, 0.15383117691795642, 0.04541982119062511, 0.10701091403953787, 0.07222092363144457, 0.04073080885125242, 0.09937400331360582, 0.20565293631626924, 0.013833918705542094, 0.020493438484308336, 0.05219715139756576, 0.08266242945930072, 0.03528961625465348, 0.04840006684148555, 0.10758345879264988, 0.040273505729832265, 0.1496976031651188, 0.050982012711935414, 0.022672937644545962, 0.07779955351038423, 0.13021727054563298, 0.015854815330044264, 0.031283161726942635, 0.05500185135415358, 0.19985355446951328, 0.08728754966089172, 0.10213713044968628, 0.3518135120309399, 0.07375086185356931, 0.026465827665268785, 0.014403378984598092, 0.19077803925765782, 0.04933037857877361, 0.06352235068572938, 0.07281920294894632, 0.057461927715835526, 0.014985273289916098, 0.0196417585014922, 0.03771588938535574, 0.043621144561601766, 0.042866551696333875, 0.026007186833501443, 0.05264307388955207, 0.13012769589119771, 0.0612792969352447, 0.023354716791292487, 0.06952542044237188, 0.10430729645155742, 0.015781430865048098, 0.06287200654864183, 0.011153012504858884, 0.05425626507603624, 0.018274309567171194, 0.0759035575148974, 0.1255322971462979, 0.032257539951415136, 0.03434976383921796, 0.05342510387057374, 0.04862597167106008, 0.15856280874872455, 0.046254519936636034, 0.028073134467092278, 0.09001842329911451, 0.03213766939869829, 0.055549679943836104, 0.05692762954233471, 0.03435148030164138, 0.06817465822068075, 0.055364276080111366, 0.11532807153495872, 0.027968044569730142, 0.06978138164600192, 0.030491754997494222, 0.06321228920233599, 0.059443953331484424, 0.0726620111596201, 0.08219308565284167, 0.06782575588824014, 0.024869151095982842, 0.170010217029457, 0.0660409529470463, 0.04433002473012544, 0.02477814936645292, 0.021738981906315173, 0.016822277183396742, 0.06928245802683783, 0.05301974971080556, 0.06152548128209167, 0.3483006375674877, 0.06918980083612102, 0.2331808848649989, 0.22223870039415258, 0.06413342747658404, 0.28660015803315503, 0.05020463743277021, 0.06228839815184503, 0.16451757130584913, 0.06693904090202482, 0.0960590915686298, 0.024931054707701537, 0.06218086164682975, 0.05441712271715931, 0.02354487625593715, 0.02155378722961144, 0.011897631908021643, 0.03270625471805222, 0.04149885618868574, 0.042850490101093354, 0.12370552045068851, 0.02042395258406088, 0.08758858379229274, 0.016975608501957735, 0.08440607871685885, 0.13330324770540658, 0.010471606278013294, 0.12698404279692102, 0.07776689219757148, 0.040945132762315976, 0.24122687627448602, 0.02246334815117976, 0.06439587144770878, 0.09121594313421817, 0.21818494547007053, 0.07452544320134365, 0.058355524759300996, 0.049523636085478114, 0.0684110252631198, 0.01785213660723824, 0.04308008703450979, 0.03390319942251551, 0.022136819822286182, 0.03394821082462877, 0.058116222757878824, 0.04253006697750704, 0.05135113499604233, 0.10804581777339282, 0.013406508186636464, 0.020902790008793942, 0.09363503761416324, 0.04652679222780335, 0.01975714525677316, 0.05649865925642907, 0.02664833849243074, 0.030892140912154326, 0.015684465568809938, 0.11432825408770839, 0.023144330051603518, 0.06578519665577967, 0.11102700366238472, 0.078317356276569, 0.07066038757541913, 0.03358871108113852, 0.05711351036412822, 0.05384560137140655, 0.02504079394036651, 0.0264760351914439, 0.05922476742361216, 0.08562099750270086, 0.1949365891497126, 0.023454898072913472, 0.0713708452927059, 0.06028615815520418, 0.0736417641694768, 0.0386802941971437, 0.011243427087820893, 0.04929819522069377, 0.07109578842497279, 0.073047139213576, 0.06689087407969496, 0.02425923405059175, 0.062014334608546405, 0.18682408570586165, 0.05627489715382284, 0.16635785205198864, 0.07839194322053356, 0.031402662002698895, 0.022331883930968698, 0.10024474056937689, 0.09264778277429654, 0.08020952672437734, 0.13497899651190046, 0.0224862671994773, 0.02469457705059527, 0.04083414359404827, 0.05983250850911405, 0.03265853297736775, 0.07018480200607466, 0.04457500174019102, 0.022111658777319288, 0.09914992981090494, 0.06232004478094142, 0.10856894647033023, 0.01759056839062394, 0.07115898419649148, 0.06950780335763197, 0.04025505068636154, 0.07989763704030722, 0.10975100730862648, 0.06198257588377937, 0.04847868036655217, 0.16886368755972986, 0.0735518678028806, 0.41324785494736743, 0.09142236394319653, 0.028048139951926353, 0.031741025939150666, 0.04530593706482427, 0.03614436133953197, 0.09383247206007544, 0.0979594384024923, 0.02060931588974643, 0.056161753581690455, 0.06995077141066379, 0.15967469999237663, 0.0437716997270763, 0.05925954852351749, 0.017519394599706035, 0.19024822567318042, 0.06281466561480069, 0.10437324421456269, 0.0398301274362556, 0.10065139583177858, 0.024383291808887368, 0.09062545951441621, 0.05309308679174787, 0.055844817942624844, 0.07740971180332742, 0.07389622718555783, 0.08812500486312735, 0.014969794995671127, 0.05232745212622377, 0.05230586573748557, 0.019155783626777688, 0.07436971237845265, 0.10820720937886767, 0.08953998667578417, 0.05617090843512395, 0.11358921318403072, 0.014532997861189523, 0.061520293144463035, 0.11010096811211391, 0.05817642393618692, 0.06414169213391564, 0.029019192255931175, 0.0984087004206281, 0.024902325621832432, 0.025032171026668465, 0.10773388800978927, 0.016840720968790104, 0.05577052962868792, 0.030435235467527924, 0.032136822822792455, 0.051042369394045814, 0.06264184777996926, 0.057002553198428, 0.06080888410039592, 0.010334765899140013, 0.1757783118267203, 0.012240329724927822, 0.029118695952685517, 0.06168389787001217, 0.07317432751403219, 0.020873955516405817, 0.03621373016900952, 0.03317991914894421, 0.01962000766399444, 0.08302078099220066, 0.025259904678537715, 0.040930192746450246, 0.020517914388867787, 0.019348928772728025, 0.04690043317677722, 0.10088900502309522, 0.05938663395477271, 0.09239222955780758, 0.08971065464874131, 0.10803395844616108, 0.08672771358462655, 0.047924121177324745, 0.09316540869888595, 0.020920529387249392, 0.12806692465803182, 0.020677177300143967, 0.1516878700982771, 0.20009934730610116, 0.13743434682128386, 0.08946996719136074, 0.10250791760767128, 0.062315560699572406, 0.07520633658973386, 0.024438417076441663, 0.0773020371580233, 0.03793063743708716, 0.01580460915314502, 0.02783350240286826, 0.030937148213394473, 0.09489009505850131, 0.054360106272559265, 0.044645950549272784, 0.07170337157035472, 0.059228222794649295, 0.024415662929717682, 0.07130423526854408, 0.12189030446513965, 0.08328226241986252, 0.05059536326651543, 0.01936633960709323, 0.03517378719067465, 0.07364558648290574, 0.03925902794702598, 0.02420494692487871, 0.21886129507045268, 0.056259460167177186, 0.07010486634413537, 0.020078368904426186, 0.029087174606336988, 0.13167961603978864, 0.07568799873800465, 0.024600144169229732, 0.0444980577129311, 0.23106654583135763, 0.051565965392245436, 0.13207710015418447, 0.05276760111998041, 0.08329590761876066, 0.043960701458007206, 0.04513751516273498, 0.01823722266106249, 0.06444366008605687, 0.03168004998987959, 0.044708672570346955, 0.07432291460160545, 0.07931492564174987, 0.04774621026956027, 0.021164807939320535, 0.07871057543657002, 0.058709822594394924, 0.15199352495409146, 0.031611119443302076, 0.04979378666590855, 0.04963792849080631, 0.07541362483492049, 0.14534788305770627, 0.1622385797428414, 0.14249179867559883, 0.16318518670906537, 0.015838701973566696, 0.07192096014394761, 0.09608436796084158, 0.0692432833186245, 0.034471230805647776, 0.04048647963927913, 0.01688568337459402, 0.07314466626220274, 0.03469830718593583, 0.03277940421864213, 0.019941959449080646, 0.02540257183830877, 0.031042236182879233, 0.044003515934192904, 0.03563062977699127, 0.019140996242170992, 0.08837718644881284, 0.0733625954088815, 0.050580687759238026, 0.07904701685043393, 0.06467194751584529, 0.06463958098432435, 0.09035604059372528, 0.2062042234661679, 0.20659118187352438, 0.047460660349152015, 0.03563700226174578, 0.04121762688534545, 0.05072608066709016, 0.16059370469622736, 0.02069600640626303, 0.04984846033531536, 0.15069982704953488, 0.03482313666589689, 0.06618721640639706, 0.04625016497097012, 0.025319047207697683, 0.019668789379362756, 0.1247272251792464, 0.06093861705287241, 0.05652632332712013, 0.028510438994827685, 0.2632077233040209, 0.034222920583342205, 0.03188321560023631, 0.03430788718060449, 0.09495622350250314, 0.07504225429996168, 0.04865829151789434, 0.08654384496053906, 0.026455438837850537, 0.045741404282349435, 0.17345110846979947, 0.19925304450733036, 0.013019026758378039, 0.25242830018076573, 0.14073315031678915, 0.055497896017704024, 0.029136036917712427, 0.048788685484855085, 0.027588880162606508, 0.05068281487057255, 0.020068838584720375, 0.019003471292918725, 0.13552797909445663, 0.03559187655940179, 0.03176883125631989, 0.04301601577605392, 0.02610616784510479, 0.062054026472017715, 0.07599513945806814, 0.09462742752104848, 0.059321422476823246, 0.03468828378149169, 0.11044004830018682, 0.011713477790971769, 0.03852916757323601, 0.05223386049717804, 0.07175315244787131, 0.029155959686775403, 0.11950232536902455, 0.020934456387814476, 0.08422683606982229, 0.03650099122821081, 0.07588122362219034, 0.07488487338729609, 0.021139506509033085, 0.19052014513985308, 0.0901644829764129, 0.026135508345322085, 0.1831153237117987, 0.1257532309491485, 0.04141530329389997, 0.08584430378848118, 0.07666181162178788, 0.05731071234740502, 0.06762727104554028, 0.07393147753083236, 0.013492998554683472, 0.14095575160112697, 0.03391209056958535, 0.09132240646795436, 0.07509928239684625, 0.10403598514544045, 0.0758147879088174, 0.07115421944623886, 0.02807513826202911, 0.16327374958631555, 0.1545905198570525, 0.06881677992681448, 0.05001093306025655, 0.04036153775550754, 0.1039973609021194, 0.02931599512798003, 0.06250093604053361, 0.0438769638251506, 0.07187941662987443, 0.40127313558261735, 0.1987004825340508, 0.012814425876018267, 0.04052479406086416, 0.15568586783014232, 0.04492658004223997, 0.02492368345674184, 0.06806347979327522, 0.14467273028790006, 0.029886320713819005, 0.05863513528498733, 0.07912116167870037, 0.10213247793073948, 0.026521087494747637, 0.05866383019787122, 0.05910449213202107, 0.033460439694887774, 0.05401259097714289, 0.028540295607072254, 0.023497037241367452, 0.16839706006197402, 0.11848927396373668, 0.028689084178427852, 0.07241500762703111, 0.1817919700209707, 0.025898730077659485, 0.055142874444297635, 0.08279797701538309, 0.05194975344907187, 0.03985992070967697, 0.009801163144255077, 0.042143257452457575, 0.1360298562920225, 0.038850261622712615, 0.021014203028756628, 0.07605876476131365, 0.023763751235062, 0.040398522281638954, 0.01954514462120883, 0.06208586380270642, 0.0830299263340559, 0.06093629607086844, 0.05377124987257154, 0.1032039478041529, 0.016821957861482408, 0.08793188980350275, 0.09240251464726404, 0.03511351450007266, 0.03573438768012081, 0.02211884170680183, 0.06416594827400239, 0.03057458532975444, 0.1005667785215483, 0.03689454301930554, 0.04938496274102668, 0.048070300137558516, 0.020683427928628297, 0.48413459475483367, 0.054041773045367766, 0.09378017921164414, 0.05822629025485646, 0.07826076858664757, 0.034298077641541816, 0.0580650818264848, 0.029728095187177495, 0.01693650994277788, 0.15247477208384172, 0.01742963923295052, 0.017905056902005907, 0.06337071953838497, 0.09602456391345271, 0.05966436480540368, 0.06849320793150493, 0.021944511801151884, 0.015014820521289253, 0.038349149197059174, 0.08722775232579062, 0.06662405164449163, 0.03043860358734197, 0.2783568719471716, 0.02786816607218182, 0.013871494679639888, 0.12050357605148727, 0.06330841459170404, 0.14551263110385895, 0.05603517587562575, 0.09160502346194013, 0.027770473079472075, 0.09416496260125333, 0.05128491263416315, 0.02549081387164028, 0.0791743970368646, 0.0775531238422716, 0.024507758161759766, 0.04438338520409941, 0.029400222906894632, 0.040833730863380935, 0.051291104250505065, 0.021224792444065117, 0.06761762140641142, 0.05750499868598248, 0.018057403931979285, 0.2856438477247599, 0.12809353907903262, 0.06941209962473242, 0.016773582077982633, 0.048514888497678765, 0.04720297609102722, 0.05305248671297705, 0.15248785568525627, 0.06636226707772498, 0.023216933567907935, 0.059152669439803726, 0.08277106178999809, 0.02024956755222771, 0.042847457609912654, 0.013994189250676935, 0.04182117291839827, 0.06309270391126426, 0.027757186254073918, 0.06769557456343998, 0.06134173780349787, 0.10736565432528399, 0.04581896947041405, 0.05224295214996373, 0.061678932914291544, 0.0740051505203566, 0.10460633068848997, 0.02608540948961227, 0.022645611527673335, 0.040484719077250514, 0.08141482780860308, 0.1546823163817319, 0.052245619113793426, 0.1374118035983253, 0.12954999991114394, 0.08561339729607798, 0.10128076327898132, 0.090574739580049, 0.05736788884959139, 0.12182598700484948, 0.07785155101801264, 0.015484819711627209, 0.06485260833196534, 0.03835802365476325, 0.06473892193201858, 0.06522905323799386, 0.2005989307606766, 0.028970706997837607, 0.07299173234958782, 0.14252329253701831, 0.3218241492102334, 0.05366173766799602, 0.11026036007618191, 0.09955241142693373, 0.028840628967993727, 0.031013469596077013, 0.046596523100807724, 0.042926918344691874, 0.1883056124458966, 0.024433424965191266, 0.16754289905638278, 0.08975685028668144, 0.11571744445946369, 0.0331048345356572, 0.12152190075956396, 0.022656480531714533, 0.03213701825077623, 0.03041643457703547, 0.049820893102795985, 0.07976896108983152, 0.10400035170080484, 0.08718605275299131, 0.09493031272144413, 0.05385052204478905, 0.07478173690648741, 0.06916912380027504, 0.07554157704473012, 0.0543416273541794, 0.08324267366182005, 0.05151472933216944, 0.05525316651680241, 0.08987778289012728, 0.06668222117856253, 0.06635479138572258, 0.11062101793010387, 0.038255933876624335, 0.05758623050200793, 0.26191931479667807, 0.062176110637587524, 0.33367843081833676, 0.030439958444054976, 0.05608524137546834, 0.03823492041592213, 0.023385428455302417, 0.07067521974943773, 0.02969119422612673, 0.09239835527166815, 0.06561364760362069, 0.07619745490908371, 0.12277939053616352, 0.06768323757133943, 0.019005950197389855, 0.052861278364119677, 0.055352720341753446, 0.13722963420819181, 0.011830588726624895, 0.03948959932591131, 0.034644961577241125, 0.05506709055332546, 0.09313632668478714, 0.05425568934759648, 0.16120539667032663, 0.02430548087809362, 0.01844562016632181, 0.035269045419494265, 0.07712662136989697, 0.054781582424648895, 0.3982757255146072, 0.05481892131251305, 0.0681601556753312, 0.03632739577679255, 0.08351352283243997, 0.05547389454406729, 0.051282690568306456, 0.0771415654039728, 0.14869745989509678, 0.037481677150566654, 0.023397038675182426, 0.025480424996594465, 0.037543555905022515, 0.04384367419536016, 0.14317679821081697, 0.11940283459328836, 0.06099616846599488, 0.06906554239618438, 0.021220844145285984, 0.11807441617690048, 0.07797950140002981, 0.04602916029468853, 0.019971628256453777, 0.0728941529311828, 0.04967487012348278, 0.07975273293793123, 0.06972395658565789, 0.07930822412613413, 0.20720761063115484, 0.1559902483817789, 0.1612634185570923, 0.09329489428608187, 0.12374941003928584, 0.06722122813816976, 0.03216574056739731, 0.025209152183081552, 0.08543068994969796, 0.016983477658405757, 0.0844946332996842, 0.037809790684379216, 0.09155349901364607, 0.268984527879568, 0.09246781992464218, 0.27479933342786855, 0.055685719396969424, 0.12906494367409876, 0.017215448890571295, 0.14819732981714448, 0.22252206008922767, 0.016071879500473348, 0.09957497668835161, 0.05372607120488154, 0.06753746062844464, 0.04008181273270278, 0.018133749338204046, 0.03691089734183515, 0.04002405299151967, 0.03121226761926767, 0.15835978344724763, 0.12490992796178654, 0.024802040946625997, 0.12819873204923213, 0.031149170114635225, 0.06443846037559305, 0.11734493108505432, 0.061631408026732934, 0.07180642021152614, 0.05763825586777953, 0.030867132368088617, 0.07683884354414933, 0.040760497088912606, 0.06395219023230056, 0.032356908090742466, 0.08273522175329406, 0.11253727205834896, 0.020540749190530234, 0.025557233683039412, 0.03924913243207457, 0.06971367152330832, 0.06447744440042366, 0.055196534552774054, 0.09177793907845466, 0.0365906822785709, 0.2792338248679078, 0.08287895714575742, 0.0470019185206911, 0.06961186839022675, 0.017058333042412156, 0.08229064822193533, 0.07771919260663246, 0.08403148149308319, 0.0632810673614085, 0.2216020745397502, 0.02500024622322893, 0.05528440648123089, 0.12551368290825796, 0.058022226363919814, 0.04746328793021358, 0.0971327821283643, 0.3956675537697759, 0.06617986252560468, 0.021137260927408048, 0.4754572896708945, 0.015792827295633326, 0.11854550497749741, 0.11843200556747728, 0.10106390013587396, 0.3071882257755314, 0.10808283350551563, 0.17771444166143818, 0.21658323504754606, 0.05884748377891979, 0.09628246511306547, 0.11061381485244466, 0.1456789343243271, 0.022445469553629038, 0.04622775390910211, 0.043374157750570845, 0.04511831917818682, 0.21675034447746866, 0.058041448819671576, 0.09012098338770302, 0.05226649511813062, 0.0876697815076741, 0.025305064323101298, 0.05674810102671557, 0.019358155455052855, 0.02456412583292563, 0.04428830020996839, 0.03956644043055441, 0.07324898831501482, 0.07023100650672302, 0.022205058086343366, 0.06702596216115274, 0.167540515326209, 0.042042536422633545, 0.07958200152849122, 0.018305856933666154, 0.019452572381341206, 0.053722996225693, 0.020846203599174738, 0.020190256468977253, 0.03473380293330598, 0.03132026654134367, 0.05293270193488614, 0.06794493665026831, 0.08268368013215176, 0.0785935795971973, 0.067443194188381, 0.11249942286965282, 0.03038159228838267, 0.056683714662127606, 0.09925526050625065, 0.045852418908632044, 0.08540817056043594, 0.09836517610636021, 0.109144512278691, 0.023094019222147006, 0.07118492140916793, 0.0621333380319871, 0.07938079625496013, 0.031601891540116465, 0.04400857581510781, 0.26364433364766676, 0.02669875685976351, 0.08548818767880774, 0.06074657815680464, 0.04296500853296877, 0.008331979384035607, 0.1075042010182787, 0.03237839982326655, 0.04278243626309183, 0.021538734427679562, 0.17143622796446, 0.22377867566305915, 0.05398289060479759, 0.14491870202872745, 0.12157365233704728, 0.04117142370340167, 0.029159097779979815, 0.05024310461630943, 0.08154598444493905, 0.05007842406649186, 0.05945717283386589, 0.10790528570245791, 0.04997561568952046, 0.09443297393459872, 0.03489657527569604, 0.03770741860863353, 0.04487764815770123, 0.06307161555387715, 0.06260413087758021, 0.060763377868706815, 0.01691275980621011, 0.0992867334491234, 0.026155067603129613, 0.16698076663692096, 0.08914925659844614, 0.07403059844251592, 0.08156981446280102, 0.060712895089201815, 0.0950007944292705, 0.06609546653282636, 0.06970605948925326, 0.0862251129225915, 0.06682871404597725, 0.06227479260355285, 0.08369349563243778, 0.5656278536640786, 0.06482092927129122, 0.01991165549038613, 0.148761593901945, 0.04335046480709976, 0.09690074913373177, 0.05745053876749702, 0.05128396275896452, 0.034791136381310026, 0.06325644802065618, 0.06925295545149032, 0.07165863277597498, 0.020396503884047703, 0.07109401020496973, 0.13009843460528883, 0.07927893766892996, 0.08789218571064587, 0.02443020989741836, 0.04671362548095588, 0.11724103814848011, 0.12901291274860005, 0.1544488331494242, 0.012656592795410742, 0.07942847450143024, 0.020513861010154757, 0.0408983659612519, 0.049831273021260135, 0.027737566398304415, 0.058368741825869284, 0.02033676690332161, 0.0678232782604966, 0.12206932306066447, 0.028298114762916413, 0.10165340410391671, 0.03580779773342386, 0.024763649088813088, 0.04520230293083199, 0.035494916384681496, 0.03083734919520717, 0.05189201465692722, 0.07112179880577402, 0.11787285521376005, 0.026638467328120127, 0.04142058991592056, 0.08840889530968986, 0.03973041441848611, 0.03713440978069039, 0.21321150063100644, 0.18063287564080158, 0.06736882898694549, 0.034663650164937075, 0.192414308041484, 0.04690834657317002, 0.02161997238818006, 0.05163423621995321, 0.039547046212240956, 0.019854326710289024, 0.026054652077032787, 0.1865618384712012, 0.025933176291509957, 0.03562100460915505, 0.17373678177707838, 0.021604710916000015, 0.11054429323434614, 0.017585545901311294, 0.06732237040161382, 0.01258112862734023, 0.05250216899367573, 0.1911527442722005, 0.021650959088182806, 0.020649523077361887, 0.03616429091976441, 0.09775818968484604, 0.049657919653719323, 0.044963455434177756, 0.043182842437971034, 0.06720594771212274, 0.12117080635047325, 0.07139311763481905, 0.3993350138626456, 0.0754807694298423, 0.025559058380797035, 0.018925925656087975, 0.09753642120487983, 0.0434032171205781, 0.08788668125518283, 0.0870822474371445, 0.03845922490991974, 0.034943340118231594, 0.055191084795621737, 0.10980331831527235, 0.03863608192405443, 0.04201952102430079, 0.09227666896106107, 0.028408694413929788, 0.0499307423440497, 0.01668145195531366, 0.024626880002526233, 0.18131094056827501, 0.09226898380430712, 0.01790027854404996, 0.05980289319394916, 0.07368310672657918, 0.08554808670663647, 0.04534311619775457, 0.09210762031645488, 0.11426783003255613, 0.028106084892485533, 0.2174152851137995, 0.054529434934790774, 0.07313352527544759, 0.03980570002153144, 0.039177750438285704, 0.16915136837296704, 0.021544826497019904, 0.06877823381736299, 0.09997470245979172, 0.07096196954687962, 0.13670867097893127, 0.0594431112463927, 0.05746391864074773, 0.048578277802881355, 0.05918397769586235, 0.031768866894399866, 0.06418616671824619, 0.3162557422194662, 0.09390487021149962, 0.021236856045294725, 0.0737340680459148, 0.05125063297362166, 0.01663515468881158, 0.17382756571703006, 0.14219887356237693, 0.02752076713677501, 0.05509023904938748, 0.0744653256402822, 0.04319603018260964, 0.04675458053602577, 0.325703036953824, 0.05340384806598501, 0.1142459885793066, 0.09237592747446785, 0.03701385684732175, 0.08312676497766026, 0.07230528958790339, 0.060835568201668445, 0.09019744305807327, 0.021741436607667423, 0.016841300143790025, 0.06061628835225865, 0.04421869270108277, 0.03697194521455751, 0.03059919718571267, 0.02220324783819039, 0.013815476774046948, 0.07579217330420615, 0.01320398630804531, 0.1139694273571432, 0.07498557375072869, 0.021900316175791263, 0.023326670153120947, 0.07773405774971262, 0.040762543576344575, 0.026390613652027373, 0.030034778894931943, 0.09041911396148586, 0.019527422277467763, 0.06465965861211923, 0.023062463089376973, 0.05621071254114937, 0.060452502272594, 0.21683676000918403, 0.06780153934066875, 0.08301595294299323, 0.04121917232347617, 0.018800645791486673, 0.09055539626581637, 0.08741703992338358, 0.5051735213477453, 0.10840882715130613, 0.40002075414569604, 0.022338562966740704, 0.023251768787270657, 0.025975680744245246, 0.12652264832521226, 0.020006319464583002, 0.0224675313318857, 0.030801598773607355, 0.10200255998440824, 0.01875154724585296, 0.2580612992132143, 0.07520291795158585, 0.05363560959378953, 0.07142117630434272, 0.022057360811084503, 0.032356549015579335, 0.131618311403613, 0.058512937952315616, 0.03312187709329981, 0.07318738307208818, 0.04711561511478563, 0.15030168478505895, 0.04383477476557118, 0.026691438678212484, 0.04981131403344724, 0.018592507974278485, 0.05991226244071285, 0.018360472519640934, 0.051386423374951744, 0.017373734158103678, 0.02683065389371737, 0.04025775438182017, 0.11364404583038214, 0.03444929971879124, 0.031082356537719413, 0.031971997872871895, 0.062290748314667285, 0.02169831987563626, 0.061624271267386954, 0.03442357412093383, 0.07905467717991899, 0.07862877113023306, 0.14621967843320283, 0.029971450867711535, 0.030620050775812858, 0.023244124017241036, 0.021479544528363294, 0.05079218441108958, 0.019433731940903264, 0.08990701543416073, 0.11381754943756134, 0.04389887616434785, 0.03448072949762452, 0.4109026747975109, 0.036366014964721, 0.05462497317064677, 0.28574415717411766, 0.06711355456433314, 0.09305656739379149, 0.04194390932451018, 0.07761932486424077, 0.05286294348519796, 0.062414085600624024, 0.038562538271962175, 0.021447678980901583, 0.013306862688331061, 0.03028504726957042, 0.04532437243355593, 0.09049682673276417, 0.05880306222183505, 0.1517119020902244, 0.03131676169545826, 0.02462854542035075, 0.029872392531475524, 0.07536712041103745, 0.053459612233545, 0.09172343995370416, 0.05701012353382227, 0.03167745959164073, 0.5603176287935292, 0.028419251200762708, 0.01887781400596209, 0.044090045062114364, 0.20777530408429434, 0.024931054707701537, 0.1267533061556103, 0.05158442816549387, 0.024270905620309185, 0.20315303742679028, 0.027408378163229847, 0.11579956349808941, 0.04255132373847557, 0.06500001810792386, 0.047640939483136364, 0.08493323873722256, 0.029550505198998548, 0.14573620713819482, 0.02582595438618995, 0.049737138615329864, 0.08336944579340484, 0.04679625890629812, 0.1503744114156239, 0.015103036140557361, 0.027976031992705163, 0.029406608760172107, 0.03500211332232776, 0.07029595316047074, 0.03559655234414822, 0.1455779503452108, 0.04048972324172915, 0.09848564294116295, 0.0248419222076506, 0.02639107896349956, 0.01705530608092152, 0.12387012558769285, 0.043214412365574016, 0.5132933259172189, 0.09055176626374618, 0.04110534464202515, 0.01836955302468731, 0.08093345857114981, 0.07406413382028738, 0.06802197178598281, 0.051525730544095004, 0.031058478124518014, 0.047762578376339404, 0.06872627853587569, 0.014691330972917086, 0.16391448263607608, 0.03354070544382301, 0.037133365287118233, 0.16330011352180154, 0.5107860475080669, 0.047127126320527575, 0.09212576734000326, 0.07077764793877049, 0.026585171482984712, 0.06795100795667185, 0.08972791435141753, 0.08333898802847023, 0.09925847908587636, 0.012756123549928777, 0.02558594973388536, 0.07738550228216594, 0.11980604860102766, 0.09854303203472302, 0.10207792904272535, 0.033794404831516425, 0.03082240226715528, 0.07721532839524443, 0.018866461522441747, 0.23088993776016203, 0.07111645004580408, 0.07287569417736063, 0.028103819348977023, 0.08540676646631339, 0.04509703959330924, 0.08673139551997133, 0.036183929980785505, 0.07689631575940471, 0.02748956854010293, 0.044567891162746766, 0.04057445812381832, 0.06007090162679632, 0.031291043505860386, 0.3292760074309879, 0.09155526200878719, 0.06733909548914284, 0.03510700461825775, 0.03445155302156807, 0.015674025647823917, 0.02256126173863573, 0.10953789790944198, 0.0994177976799472, 0.05610555661382892, 0.03191259074877227, 0.16765287805360898, 0.08444272577798671, 0.02650016473682602, 0.038830946132686346, 0.02287750407875673, 0.05320061938197419, 0.17710491697702857, 0.06832282787049639, 0.01408293781562132, 0.06744982567655944, 0.16799521083867097, 0.022429594284349683, 0.07956195517717195, 0.023716523104169048, 0.23027407744999218, 0.049212092037866195, 0.14056603625638756, 0.06296616738061046, 0.010925382052003467, 0.052900228474688914, 0.028492427821026255, 0.13819692850422277, 0.08376110273739516, 0.09721584180248047, 0.07390054950513796, 0.08199168462384814, 0.02458636830483908, 0.07198070683244938, 0.10325784896591444, 0.03870016893851341, 0.07373857256241062, 0.02503080464963591, 0.27296205289677755, 0.06328454166697119, 0.02023569114895019, 0.029586369249635067, 0.03802404067987427, 0.10169138951147817, 0.08125236044507307, 0.04004389127806158, 0.13349983313887165, 0.3537831932977764, 0.04890134698202775, 0.07962337040928923, 0.07895163316879082, 0.15013116504579213, 0.10976980964438249, 0.09346915380286089, 0.034804277257990526, 0.06804631042144471, 0.06579567611395903, 0.1871790279930114, 0.03569570200763282, 0.054837897835544165, 0.057378154450367674, 0.031115263677516145, 0.17166538188246985, 0.14429053374448378, 0.03636956768731818, 0.09898111242004452, 0.10147099241200518, 0.4492405988391466, 0.06811375834087688, 0.10311049232214528, 0.04783426316619045, 0.031825500204441214, 0.040346754532669366, 0.03971820074885667, 0.06814494124044317, 0.026182143958139555, 0.021270463326894026, 0.3071544643400053, 0.10286372954777558, 0.07875863582908134, 0.1123697485735732, 0.060812347562254225, 0.06982644298012547, 0.08871172028869802, 0.06516743627256492, 0.5117166364858959, 0.09620402465044876, 0.024156565604426503, 0.021246975843556563, 0.08547189085204153, 0.07395507676699956, 0.015970709222682625, 0.0480974556713995, 0.13752375967162375, 0.03398861177942433, 0.06601833341676003, 0.062488883082019525, 0.08756186559215978, 0.06126818935277578, 0.03734687191969341, 0.03045581483686872, 0.039522620600918316, 0.024677565105454654, 0.03719664464381131, 0.04992818963295193, 0.03339973273041045, 0.03367799382694158, 0.09078892487703513, 0.1570585057223432, 0.030370186009653435, 0.09223050005875369, 0.054121631783559256, 0.08528112952954715, 0.15472944118248008, 0.06673912770831346, 0.16920411519444536, 0.06433942439421782, 0.03732961446890615, 0.32300665843357157, 0.06654381516664548, 0.01582721684724603, 0.024503905696226232, 0.12400173357503134, 0.01361929582166806, 0.05517481460863193, 0.1283856300828611, 0.09487712950735686, 0.09976019293876275, 0.055214030108316436, 0.02639701722724346, 0.0505477036002363, 0.05129729139213842, 0.0601998143107583, 0.019287680679271807, 0.10109092301845658, 0.03930383982520762, 0.026561787971095933, 0.03517161013644635, 0.019986537536778145, 0.08252677743580544, 0.02620957296607635, 0.1707844700508391, 0.10229775202451712, 0.09038437221258666, 0.0643021763106607, 0.01338460788890308, 0.06020432493841884, 0.05595250079836451, 0.0837865534355983, 0.14680511242196342, 0.03337250387654832, 0.022833294146814932, 0.12150072615322621, 0.02378589662459192, 0.06758841622667444, 0.038774342089879225, 0.09558418158122024, 0.030745813744554224, 0.15531250006311859, 0.09978069458286046, 0.0411686030768909, 0.017929488563193645, 0.05896231021072263, 0.09707228666048365, 0.061028852844805005, 0.015521075655347327, 0.07142364798893072, 0.15590344450773386, 0.06313556660528599, 0.022340712851818583, 0.018723078550474115, 0.22326001385253308, 0.13875065833285483, 0.15705111736043145, 0.17397464841457105, 0.01727707183194075, 0.03072183796384141, 0.07573671203133714, 0.06234690608596573, 0.03367214666058171, 0.09975778486862362, 0.18693096061854064, 0.033126191862716155, 0.06707512841143339, 0.1522224536628744, 0.04338095028720255, 0.06711038628245512, 0.10186118291784405, 0.04402852396360392, 0.017658118999920154, 0.15207345121385185, 0.035081334324547686, 0.10671559161288643, 0.03967597709146731, 0.027725896168395343, 0.07242581653537931, 0.058543287560209704, 0.03849919232317596, 0.014956573902973613, 0.09123596809596932, 0.15579640245683984, 0.017760890657398706, 0.08001123265237914, 0.07276041076794004, 0.08808774635747052, 0.02551371333388534, 0.01760343554878929, 0.24524472671342418, 0.49604088891859527, 0.07121702134990532, 0.07872345877796574, 0.0208530379036321, 0.0775139258053, 0.07152483382292961, 0.04543305506603329, 0.09807711428369394, 0.08245436822215646, 0.028759044413292294, 0.08996481757635273, 0.06347383562831599, 0.02199982728791921, 0.07087475219970019, 0.07614502646589089, 0.07592476414136168, 0.05739567359780423, 0.06462387958870396, 0.11107088521798773, 0.10339687269112727, 0.04528856121115885, 0.015160330144151316, 0.05268897547098107, 0.05771028493496551, 0.1717284293205438, 0.054855695045438926, 0.42022918323835545, 0.05410941469728015, 0.06159244097329853, 0.06306615335458192, 0.017481824451398474, 0.048748336877037925, 0.017763936459902423, 0.053697910636875054, 0.09435316969052945, 0.028725548730001663, 0.021790408863911533, 0.026693476784540468, 0.1851150176862431, 0.07359093657623939, 0.06480226375043159, 0.03997229341294356, 0.025070866434917145, 0.024592938973571163, 0.038046660238753915, 0.017062062715285195, 0.08891325871392916, 0.06299107560494555, 0.09062224693832431, 0.06630604079160575, 0.1378486269604818, 0.07549553984455527, 0.025468663636149035, 0.022795849178345016, 0.17233023564503158, 0.02307888061556524, 0.251054249388412, 0.025491072281348778, 0.07472403722276738, 0.06664678192118725, 0.08342006746772808, 0.03717766589627572, 0.07949476408915551, 0.07086631271009099, 0.04813442525017136, 0.02491566027120401, 0.07700595654819586, 0.07552626886675269, 0.12226440139062182, 0.01701170160788067, 0.05241158103094724, 0.18648498028419383, 0.018847883171681692, 0.03986607449271263, 0.09712654367362948, 0.06877092188694658, 0.03804185914291783, 0.04622493811789489, 0.039298535292419536, 0.05279927597005723, 0.017034867677891165, 0.0372015908944177, 0.08586250214648326, 0.06522517174715295, 0.1282363494066023, 0.05884871986889999, 0.07209344718090502, 0.0235720512044809, 0.07262419963404902, 0.043703436286812496, 0.08365999056360522, 0.04842686284586084, 0.11168503191031358, 0.02780084256964228, 0.03484174933889704, 0.10065308939303903, 0.10711568310669389, 0.09042990118891138, 0.15284318077306905, 0.059603386594529496, 0.16199733867447175, 0.05848146546784517, 0.034587653819512225, 0.021471790785741376, 0.04382973208259885, 0.054902511615203965, 0.043360610274763, 0.056527562614023294, 0.06166900860799567, 0.05695179894790276, 0.014691124454680213, 0.05582854652639917, 0.03732597748126685, 0.06601500466253821, 0.259814712276916, 0.056642538950431025, 0.03234244575500396, 0.0785333589276682, 0.03888481817397295, 0.08619207155435489, 0.05031446800487772, 0.0288503724646251, 0.06282328054974982, 0.0823579740155489, 0.04694236037812681, 0.043757964510060386, 0.10205281883630814, 0.058740573113435605, 0.0675986274814701, 0.12602323599443377, 0.045979730340686524, 0.15538930623312705, 0.030218051589998504, 0.3121144954061895, 0.14830208759675428, 0.05430105463718046, 0.17430416992566994, 0.13378786837925205, 0.015536100890298552, 0.06460864392235935, 0.07645067344391317, 0.04295228186051253, 0.06567225862721017, 0.05185734053678726, 0.12292706092522501, 0.035584264803566384, 0.10139932377498882, 0.017133056590114014, 0.0667192159111777, 0.07738617248687472, 0.1261418137226625, 0.05523869297344867, 0.11808455420198176, 0.07179543566962004, 0.10752273344473806, 0.04367136397094031, 0.01704034104853741, 0.19974200180484086, 0.03407263123583057, 0.07845253485794362, 0.06991697731589046, 0.037508373355663954, 0.09311320712252735, 0.05643012960149213, 0.07317426955703497, 0.08200274005721689, 0.07391132157105461, 0.03573885958892175, 0.04619097299114102, 0.012479193103287226, 0.03739962298756927, 0.02355612198452425, 0.06760030675123932, 0.060673174928710515, 0.06614529448082242, 0.06588566106515058, 0.024300598498919742, 0.17468671222129398, 0.017564491316415357, 0.06499816593163124, 0.06349649503678977, 0.07783280647224643, 0.049891887197115084, 0.058253486968231204, 0.17605043479821836, 0.04488790669803896, 0.07895529575861089, 0.0759930808720464, 0.018558747216535346, 0.2216745698840215, 0.014985333223690602, 0.04107339445082007, 0.11395584452417802, 0.0553691816677293, 0.5047810766369473, 0.010014731959897579, 0.06777631419044669, 0.0999940011995734, 0.020805606694333782, 0.12557152667217145, 0.043177318068826576, 0.05387770556672912, 0.09173847691537348, 0.056487497517799024, 0.026194909210279876, 0.12303074867533643, 0.1795328308955966, 0.10283863578199695, 0.11020948664891547, 0.3200746746325978, 0.043407427239125274, 0.04843135474961016, 0.11009139962216385, 0.07514457779014722, 0.15367308396918675, 0.054102465841312425, 0.06923504680747694, 0.03699647400787844, 0.08325294043118557, 0.049661039403032944, 0.047459668613991805, 0.026834566723122885, 0.05410300225353974, 0.10324427367694693, 0.09188392473544754, 0.0336147013744788, 0.11325310086057254, 0.03937914122055798, 0.02384229192150937, 0.0878803292489569, 0.09320218577189042, 0.06514078919538376, 0.09789692131274344, 0.024652351442883757, 0.05493108442165886, 0.024955219605840965, 0.1528979083137842, 0.06572115015180335, 0.0807494561196051, 0.04442396353734716, 0.0433869271485012, 0.02397638445630626, 0.01536943554499759, 0.04764220802577285, 0.061255627617163556, 0.020100912902274705, 0.05863945948454065, 0.0575040545940281, 0.12897428251428752, 0.04083167878107961, 0.027478073039849612, 0.16668811515073992, 0.020167278876271944, 0.059267076984371864, 0.024697555893759802, 0.11644639658220478, 0.018352379531147364, 0.07553754282966474, 0.02481041948154263, 0.06964954990825574, 0.021338090419808962, 0.07999376696569505, 0.10008965519789813, 0.1029441470048789, 0.06444491396016888, 0.025270201813849414, 0.08877583177700434, 0.030589911745545775, 0.025216939500228106, 0.056049301359430766, 0.051517389115846926, 0.04628203386196064, 0.042813528176116444, 0.048204518247361015, 0.04727390113160019, 0.021274053845448195, 0.05388452831780559, 0.133802193281644, 0.05747443186794188, 0.13438933951148221, 0.057486824902165695, 0.024070322976707637, 0.043968879791814845, 0.014293596120707089, 0.11582854662885633, 0.1415633971893555, 0.14049586323451316, 0.05891883419843905, 0.03154659470673166, 0.0470450930371407, 0.08608008520367535, 0.04658656743754053, 0.02254090369868328, 0.10571360517324087, 0.23508350116840906, 0.010846892172668331, 0.10147893955222671, 0.04483443742491453, 0.05078168328189782, 0.044910132719957314, 0.06484724090807129, 0.01812127926716884, 0.044073018295247325, 0.12552468864883723, 0.030983301064610457, 0.0638171343726738, 0.25464127649691476, 0.05292733553031224, 0.055742063787306784, 0.10874363361709873, 0.07892939550621426, 0.05925445103432645, 0.0877267780531187, 0.17723283649234806, 0.058263232521345604, 0.06190939239761002, 0.038595766563098315, 0.08310032446995662, 0.041610854022344, 0.08454487224854329, 0.05629047730411311, 0.0532696867126473, 0.0315986602745075, 0.05723654418853467, 0.06603281413079586, 0.03658035646876767, 0.10544141545766342, 0.09764490138140487, 0.009676993952931276, 0.06419616492585592, 0.1396084705824491, 0.05356484622100428, 0.07494215363950844, 0.06220620746372971, 0.0409264376426778, 0.02399468197768574, 0.025289003295016817, 0.03559814288133848, 0.056494097070366074, 0.06190050136281893, 0.08440402280549111, 0.027142288708350955, 0.048900920308868556, 0.08594565491517732, 0.018151223066793738, 0.0362164467308011, 0.040625173960843974, 0.04420422597822102, 0.17551323070058528, 0.17273101310047342, 0.08489712850419825, 0.04397085790327244, 0.019134168899328462, 0.024771987804548114, 0.22688642064441764, 0.03724297137761093, 0.024888531812888727, 0.0286246441682319, 0.05845593162892653, 0.022166104830683053, 0.0400495878629914, 0.024623381356763195, 0.09474938420220064, 0.0230049237016817, 0.05821357647950207, 0.09001187982651403, 0.04560089304710367, 0.02762547713501413, 0.03298793879381178, 0.05655515328100882, 0.025715820548080526, 0.04039738973958574, 0.16421397220412157, 0.10723186859653946, 0.014504824549368063, 0.08784170494614661, 0.03938138446752269, 0.13537992759345713, 0.03255106595507972, 0.028439032813335072, 0.024063817843336454, 0.1174609130436616, 0.055387920974530616, 0.0722718090544885, 0.24496506506425142, 0.05276830029004543, 0.18048543365641578, 0.01734220522057223, 0.01610753119479682, 0.03389476742555079, 0.07107619009741181, 0.13583883888382206, 0.07643931784123582, 0.09899142496554421, 0.05832349497025915, 0.10631525814544544, 0.02735519771051834, 0.014419273940858178, 0.026366247030061858, 0.04783025168801929, 0.018864428094257642, 0.08372509778296768, 0.03564155015050976, 0.09917504297522721, 0.040236872322908124, 0.10392450536963177, 0.013396861505849884, 0.3213880369955983, 0.03841678692397103, 0.1325269813563984, 0.07577657184537671, 0.09991072569664734, 0.04550351950135442, 0.06981352700891619, 0.026552560004955976, 0.053505935977826886, 0.03522807931885774, 0.05597775891932358, 0.07042441618532277, 0.020566645962406385, 0.5903864019163029, 0.1467504190234063, 0.11089627062067943, 0.11521394441234716, 0.037042449232842785, 0.1108926400074604, 0.040853616260759805, 0.0385945895257382, 0.146601622917104, 0.07790206153383337, 0.021447874695545762, 0.0300718989335799, 0.08042794882610484, 0.06260413087758021, 0.03737148942678678, 0.2348452196380159, 0.028440617438296536, 0.029724699825479848, 0.05946485571193884, 0.025646367402460388, 0.15508470076523623, 0.011086315093451937, 0.14059738249716222, 0.03400000956345933, 0.05319330271886914, 0.013103218447501785, 0.09575341581632507, 0.2120761582035183, 0.38831903462516765, 0.12314523938257116, 0.08703670910213408, 0.018656719568194167, 0.1677269480328011, 0.0366075078930394, 0.055567611363176984, 0.051040705505184164, 0.09983935007341331, 0.03392103104790233, 0.07326833723653409, 0.023007720035415808, 0.027928595044811693, 0.1890840000113997, 0.08102786339224172, 0.06819623698214716, 0.04710116052647994, 0.05029583317283419, 0.01718365908898101, 0.10866768691024821, 0.046016202122419796, 0.08165334795883546, 0.06128803444819918, 0.0715725498166566, 0.05544382522697626, 0.046647443635965485, 0.1403431137603808, 0.05131603619788319, 0.036485822531759395, 0.029469344159938935, 0.043609131010239596, 0.140066863945866, 0.019159855032068292, 0.05632351015490852, 0.01620925038176889, 0.07619107294387682, 0.09171542928446058, 0.045121237141109494, 0.040950210109345735, 0.06908685119655941, 0.13660519345900535, 0.03460460968474582, 0.07083773395499367, 0.11886011221235612, 0.3764407738202243, 0.04594976437449255, 0.04748354644221644, 0.06976097759694987, 0.02216794794933751, 0.13290210568086144, 0.052590895444587615, 0.03422421557540368, 0.09475896380091987, 0.07377535462639966, 0.04784115385003887, 0.08692491090646379, 0.10721004534567423, 0.05863232887475047, 0.05126421012844732, 0.046150111624077575, 0.07314273356877142, 0.07629982836045766, 0.06302832935315951, 0.061490122225184796, 0.03346077660602129, 0.01833322273177106, 0.05480049365956822, 0.13033803124036347, 0.11949679891379315, 0.019305353606033297, 0.16161231014254554, 0.037339296683353534, 0.05085615563350913, 0.07532999880672127, 0.016836819047822218, 0.08929383576461222, 0.15871655965299922, 0.06673584998100662, 0.04389876055743051, 0.16408268040436091, 0.033628570228226386, 0.018662789744279033, 0.027775108440928068, 0.07459456711854813, 0.05118721712965717, 0.04045734717679703, 0.18933182317206002, 0.0644023809092886, 0.04528709747019416, 0.02586797618418634, 0.024995032825963638, 0.07694532101031071, 0.21334955276827164, 0.07559271108308259, 0.04231492534622589, 0.054677375875659455, 0.03933970239690863, 0.04429481388301889, 0.04060054844248855, 0.031676113242426904, 0.03319871370886506, 0.024747304348930573, 0.2015387292745636, 0.012766876882640998, 0.08026168601247913, 0.09024378510800657, 0.049221644978720704, 0.042362845176136726, 0.0433200829711978, 0.04831154721803592, 0.09289955340965031, 0.0242060715406836, 0.07617999258765555, 0.10876223189943285, 0.024316272642004574, 0.025069474111958617, 0.05073829184382436, 0.06387970714423002, 0.03741186185596839, 0.0518565038062045, 0.07440839719123599, 0.13832091937673185, 0.12977251177541735, 0.10242816535353184, 0.05507138492239394, 0.07723541048102, 0.1997786660156341, 0.028766250960130142, 0.1249457833278954, 0.13813026764686684, 0.05934728531248224, 0.1244211583991531, 0.2596148007191172, 0.09737980676036856, 0.078061683804775, 0.3152759828184028, 0.06014946533668778, 0.17683368225411683, 0.018799935954501783, 0.11245646933682986, 0.0262260447844879, 0.0940860401756978, 0.08984119505042687, 0.08875444127646515, 0.014583953148044233, 0.06505707312181135, 0.06825912100428377, 0.029516764568457764, 0.049927131828834216, 0.02341483554492618, 0.05883565659803761, 0.03571492630688178, 0.020634939010205258, 0.0833495612949122, 0.0647168855886268, 0.06645416767394881, 0.16570847967748464, 0.07750206253594616, 0.08454373362513104, 0.017315126750019495, 0.3669697922377724, 0.043092876969284266, 0.03310927585366568, 0.03320682900323079, 0.029695188581305074, 0.05333582729919751, 0.10529306227772375, 0.07895973774422949, 0.19704365713972422, 0.0862987440320839, 0.07910941113073656, 0.05093769193434795, 0.09418315540337648, 0.0650998452299537, 0.07890702349781818, 0.05560451169898865, 0.05994498623682776, 0.07327474504660327, 0.024461892993501905, 0.28402180206788546, 0.05921797211117772, 0.07127535920468688, 0.059660227040670394, 0.02350138609831008, 0.023354786692472193, 0.03674631926716378, 0.02369857559099127, 0.08707324242265176, 0.04809322806825179, 0.06692559563270244, 0.24781222631506383, 0.14663219612167913, 0.04680123113769187, 0.0895740554203049, 0.02586309316283995, 0.05242090166495901, 0.14888544951998162, 0.05124907169434895, 0.10688534250300766, 0.07495725253073389, 0.04379896486043638, 0.03696990747510528, 0.2685116522445079, 0.06414881118738866, 0.050969356367736265, 0.04575574484708071, 0.08146986823671387, 0.11151115160111855, 0.04425255921935029, 0.05432718038015004, 0.03528940584032923, 0.06969762660547119, 0.07991845628223175, 0.051864955733925654, 0.09326516344957703, 0.04168619199692025, 0.09127121572834518, 0.04903157585689567, 0.07085436816966159, 0.02705107725491792, 0.06145986059909968, 0.03972911766344904, 0.016040372649433827, 0.07143103193861174, 0.013769983190060911, 0.07781761410513502, 0.040899039086299875, 0.06119436884104267, 0.07075920820050319, 0.09272293934005169, 0.029459084966649538, 0.05661621596860434, 0.23684407899178175, 0.034229158895183055, 0.022244149458518173, 0.023017083362058384, 0.07439018011378921, 0.12829547655864976, 0.04189744635440957, 0.08471054380461324, 0.03386299930840463, 0.07317113836435621, 0.0208891861478092, 0.04762946768955501, 0.049616006711481156, 0.0403872459501208, 0.039345199786516905, 0.12997786584616372, 0.12869353284321558, 0.0465449946386481, 0.058811976044156875, 0.08554324318262467, 0.015103941435603929, 0.07052026063437908, 0.05293000106200462, 0.0428704983371087, 0.07830735116875978, 0.12339344332983762, 0.04357398369044903, 0.019690896212417864, 0.013736658226133213, 0.07590328217671811, 0.076543694188211, 0.06445614505742152, 0.08025495381500256, 0.033224888019133154, 0.03656637321566845, 0.15973233471461443, 0.013419601033416122, 0.032445193211428344, 0.044731538475874376, 0.05719394754802125, 0.05255123938692151, 0.02854435679414702, 0.09518707746354158, 0.01969213937900694, 0.052159107672040905, 0.084375831613792, 0.1335377648559348, 0.11377122178192363, 0.06978748580649732, 0.07230618097129266, 0.06046876710304872, 0.057889906507815336, 0.1358545026561199, 0.021419507657783388, 0.04749863470024948, 0.010919358208782474, 0.07857666631575423, 0.07448335118051135, 0.06400440676974328, 0.07287885538698195, 0.06240573065186104, 0.11334956806683542, 0.060321488545840095, 0.019414380689396268, 0.062215615696125534, 0.033810148221751095, 0.08831540231424596, 0.06441706193661961, 0.030504903003696945, 0.10174369938809932, 0.06530311466776939, 0.12597030321404165, 0.033843017001171545, 0.1129811730103362, 0.08889522562032531, 0.08823926596610868, 0.0550007000755615, 0.10886008661564246, 0.15594060167809803, 0.028149047951182792, 0.11921533850649003, 0.11223908861148127, 0.07234010662345401, 0.025127615576480796, 0.08134196558565426, 0.12219514327815259, 0.05947913891195693, 0.0635305944809684, 0.08074379051170175, 0.06336640029477403, 0.07249316558074458, 0.11573379506481374, 0.060007873999881584, 0.09769120485683892, 0.10336588276802885, 0.048277907393886633, 0.09391439202694397, 0.03316177105037555, 0.03150163186339028, 0.01608988607234798, 0.17695160027983461, 0.0535366436228829, 0.021498796357584418, 0.06396710837593729, 0.08168825504155623, 0.09773082672428855, 0.08266441576937551, 0.09100284407856489, 0.08423578566159615, 0.1100243228047473, 0.022498785428381955, 0.06447097320281624, 0.07142075550248111, 0.03739277124622204, 0.020957169401009175, 0.05004538727970443, 0.015618430866535598, 0.026236960414218694, 0.060355693173437044, 0.11516108290106551, 0.036090088746890514, 0.10947729795378748, 0.2970772700690232, 0.38357920278734775, 0.08200809537068512, 0.14204888347482367, 0.08804374339386419, 0.10834061563962091, 0.07156983236059546, 0.03177251771600784, 0.09599525134982236, 0.016003889970114347, 0.06870042271874024, 0.07072924657613819, 0.04099726173525068, 0.010718150526122976, 0.10549013650984389, 0.062210242995886275, 0.020472668490512175, 0.26462530903631937, 0.05301843038985749, 0.15197064586714587, 0.025268479990840705, 0.04166329550358049, 0.03754445087267812, 0.07244876349788397, 0.011548070820826442, 0.02318071201420945, 0.07838280680043365, 0.06494917860542979, 0.07300331749696733, 0.05689579518212375, 0.10927266023032027, 0.0489565040990826, 0.07762112810032087, 0.06368945271312797, 0.022301361460576465, 0.05916584765239199, 0.12484905197432783, 0.0733330783722279, 0.11430948400052975, 0.036411377606293184, 0.02026393796358724, 0.14493261431889123, 0.08591272271940065, 0.11796712370688683, 0.06457551502118915, 0.10722130684416906, 0.06355665152405941, 0.06976115463164154, 0.14564377844392026, 0.034920202509404454, 0.023410455406268932, 0.02313292190582194, 0.01749703051463104, 0.2033629363414836, 0.067873722421965, 0.018157028359730654, 0.04109019358882418, 0.05757098406782949, 0.02698528135622317, 0.03886282014340736, 0.08519814494553551, 0.08754200354191334, 0.07645671054943608, 0.04686814244328283, 0.02238288409933599, 0.0862159150713163, 0.06380888558925808, 0.10261441165992709, 0.047726589509230845, 0.048044263867842656, 0.023102900978667976, 0.04300886407821968, 0.18758715279320104, 0.029069688756808883, 0.057800641903503966, 0.039457696296490555, 0.04567552380517806, 0.012680572891065868, 0.04331191998003251, 0.027131146553782404, 0.03857521465274641, 0.051299209457478435, 0.0804671135434351, 0.12552711816690212, 0.03787972419136385, 0.15246973881597015, 0.11399985810986604, 0.17934675682370127, 0.07144401380264664, 0.026677384134996082, 0.05618507662161734, 0.03100588438936161, 0.04388758587191029, 0.038204728921969015, 0.016630524182689073, 0.05522825644189495, 0.20650734118977335, 0.07966225427175527, 0.04811032440725921, 0.013578584541719434, 0.054033258466918574, 0.07102874250143046, 0.020580679053869604, 0.09339579641285763, 0.012979370954552752, 0.05973823438018724, 0.027990298412482822, 0.03569235810365617, 0.043495957722819376, 0.14375378590941712, 0.04654471455958879, 0.11550630999404678, 0.08767791487864317, 0.05854696581074144, 0.038795806067382164, 0.023860942474641652, 0.013269674892501138, 0.07425745818972403, 0.06947610077088551, 0.06397734163870498, 0.06609036971054716, 0.09318941250916431, 0.013744572906935216, 0.053622369447483866, 0.051619651420630276, 0.020048795139046574, 0.04055138678918582, 0.12955511987215643, 0.017801327391044047, 0.04184442770348482, 0.012712519329660332, 0.05279008485596653, 0.0664244801435996, 0.05394842576097198, 0.09283340685213086, 0.03535759482880595, 0.19865470874458632, 0.2034798869979825, 0.08043014538182391, 0.011297903029286727, 0.027286407833465413, 0.04497295057990787, 0.08022596898135914, 0.019077208573290753, 0.09290868624459864, 0.0243340941423191, 0.10550618575612034, 0.03580981937075858, 0.03430833282942956, 0.10876223189943285, 0.10569357236094121, 0.0832761210290139, 0.15001706023653263, 0.0849852298955039, 0.024831511808030934, 0.06213823164383077, 0.06255610724510666, 0.016072255896416632, 0.0531139304882105, 0.08343901319377199, 0.07849157285429027, 0.0184336610402643, 0.03268061349191444, 0.04269922620163715, 0.04148557686401513, 0.22037136124371676, 0.022085905331473143, 0.06538886236823525, 0.030229100402232294, 0.04477339412912869, 0.04387231628460441, 0.07076717159717301, 0.015086188277579432, 0.014544343760509029, 0.012971165543005904, 0.07583701005861847, 0.09309175610067735, 0.030907222109670653, 0.0940659010586757, 0.08339669439869274, 0.15747407066772254, 0.06596334859563138, 0.01807754752302162, 0.0658144983803347, 0.03802423147529316, 0.025364601564466176, 0.03781271871368442, 0.33653913175566835, 0.06007081193898136, 0.02420658506792587, 0.067443096947114, 0.028494303568131322, 0.294184707230829, 0.10461201108177545, 0.08866417843343297, 0.06884253231349009, 0.12898566739556191, 0.19754578706710718, 0.08027846440349705, 0.043394126393026256, 0.11231109026109638, 0.14602985000028368, 0.05188558874183487, 0.04412294022382377, 0.02761348446318333, 0.13063328300696297, 0.05436949481144686, 0.033470733775382906, 0.04160757818899003, 0.6718295769506647, 0.08209395153574528, 0.1513659531540257, 0.027841244097051254, 0.11115535585801928, 0.02438457596794969, 0.09091283854728055, 0.045684171212423574, 0.017732569395543112, 0.04637440709882956, 0.04480122102640451, 0.05306828907538852, 0.059171379517856136, 0.03139670326873482, 0.04768544095126447, 0.0216334029035458, 0.2669118220659514, 0.021755372068805633, 0.047282656606163355, 0.0818157357429183, 0.038509811471116824, 0.05557855027447032, 0.4556811480289554, 0.1093088900232239, 0.09206371895844694, 0.20516641508492875, 0.05383190810882854, 0.04075945984958705, 0.06890802730412675, 0.12031233763920897, 0.04876072616075594, 0.08977725546245957, 0.054056125860545944, 0.22466028319203493, 0.031192204470933845, 0.10175337759133252, 0.05542877426675474, 0.02698378278895405, 0.04381746141757191, 0.12515958048785697, 0.012290204566403519, 0.5872968361498871, 0.03609426716015004, 0.025381651748296694, 0.05518476487878842, 0.048926785581684826, 0.027456185232555108, 0.022426794100429314, 0.14493109655399944, 0.06629547307172526, 0.13409775571928484, 0.29630148661975325, 0.03520174360540933, 0.0952840870837776, 0.09725216094833695, 0.051180564299114446, 0.09095865418047928, 0.1667541673978476, 0.0371439078884926, 0.09394333118740246, 0.022829055259263594, 0.038038378611233506, 0.05485275509049671, 0.025974513732630322, 0.07846599636747591, 0.05289340291553795, 0.0739038672160399, 0.023931993880397462, 0.053047944304538644, 0.019710549945002594, 0.023726057523761074, 0.07842817281040669, 0.03020183124102206, 0.050239650779625, 0.06325723412661496, 0.05058379616984008, 0.04948654834209074, 0.04082100065204617, 0.013130157675318443, 0.06758757537008236, 0.16814823664090006, 0.06198769748824341, 0.08828198448680276, 0.024623381356763195, 0.019921122768149366, 0.017654141715023112, 0.04664214883423531, 0.05056021161018391, 0.07922126359349543, 0.021003015483147276, 0.09658080705043008, 0.07921044144657927, 0.06734585878042625, 0.03415667223199371, 0.17963896724114892, 0.06768254514790473, 0.2266648775049911, 0.036550638754540864, 0.07303568521992373, 0.06825712929979474, 0.04849516045175956, 0.026994483710007018, 0.03741617452282675, 0.014169865633735278, 0.06444523770793724, 0.021843215353395527, 0.18869523655680304, 0.23940662698175624, 0.11678765486771973, 0.04043760817401666, 0.10674523200032945, 0.12571234072588588, 0.042085202879013434, 0.09073189127609926, 0.05553132575610297, 0.04890302823969431, 0.03017448406835502, 0.0933946732752737, 0.039044830652655495, 0.07513371643796177, 0.03257237957930867, 0.05210573556029504, 0.060074911672408804, 0.03633626660651691, 0.019732538149476703, 0.02587040078556079, 0.03145282595141484, 0.03660557602544877, 0.06163712521625877, 0.1962597609276781, 0.019403609824691907, 0.04844125912652722, 0.038522836939339826, 0.2196661801211007, 0.06712356506908686, 0.036458809673091896, 0.025462324396767492, 0.11575640141431928, 0.10424700078782433, 0.1114695843129357, 0.0406724276071732, 0.08599249421845694, 0.06434961427603877, 0.034744704132388206, 0.032628368289325915, 0.025609811703835965, 0.3299099706712702, 0.07172516682810422, 0.0662817068559221, 0.012091185303389127, 0.02840211404724101, 0.03318474913142113, 0.04663263500958933, 0.16761823539611512, 0.07441717554272514, 0.06417150236881215, 0.054529233201432735, 0.0856485333489246, 0.04677271382543442, 0.027116816251777795, 0.028642459695408393, 0.023325521887969002, 0.02324297497404366, 0.022173993482937995, 0.014818373797206975, 0.04732374455526802, 0.053934635083718624, 0.1614972160009603, 0.09224505304169907, 0.009942814761740188, 0.1420880759520966, 0.030600069908628565, 0.20700899700486927, 0.037042449232842785, 0.1381322664535614, 0.012750573481309842, 0.018585079856835645, 0.015346426009325934, 0.10580549683742292, 0.08939904887618835, 0.048427852180782986, 0.23606496763031942, 0.15198328918943446, 0.2029243120165105, 0.016350742130681457, 0.09620761077198375, 0.06181755412675376, 0.06153252861080137, 0.04113937301576457, 0.11086726390504222, 0.11279908432834092, 0.06565492971663825, 0.04205996088993567, 0.038542330582689174, 0.026524464314849606, 0.1174134728563995, 0.08147139565414106, 0.03938160878787093, 0.22561363679901553, 0.07121609786630877, 0.1927788554661977, 0.024303768654070558, 0.09345305353190314, 0.07284411828985385, 0.04104951619431201, 0.026965950691692327, 0.10492442616805786, 0.03202386109696379, 0.022624828744647697, 0.0923766265614047, 0.03896426126219461, 0.06300233840492427, 0.020075361182822132, 0.0417879973800257, 0.5853531497356793, 0.2124560772632925, 0.056912283697151865, 0.06799161694142145, 0.09395097335506632, 0.06891037018524362, 0.024778090490832714, 0.03401578479871052, 0.09982093763322031, 0.24894207365971796, 0.01882047788267118, 0.1642764233627575, 0.05013527371647878, 0.1752676406790343, 0.020680426585132278, 0.09632633614615632, 0.021681263779823864, 0.05058501361394714, 0.06219103192749736, 0.21755747694658917, 0.1495479184990059, 0.07845082802262508, 0.09170647619711432, 0.04671532565866684, 0.06969670384055159, 0.02896616174459823, 0.07773427461953046, 0.06195824556138542, 0.09095779967647143, 0.0389912913607473, 0.12941857468286905, 0.08617635217481541, 0.05908162983457833, 0.03529512260046424, 0.033656970594235336, 0.18665316400413737, 0.07062933189317362, 0.05980206013558589, 0.06738066414257671, 0.04754418462290355, 0.014736833851741397, 0.04583178224731615, 0.08282182689677178, 0.04218891571610606, 0.07033360259925066, 0.07444007184196598, 0.2032622179538384, 0.03164059252608359, 0.039121718698096636, 0.036982591792997864, 0.05309523464294786, 0.05256373120109918, 0.2707792683624535, 0.09467660677196678, 0.07843151179055645, 0.029302515887596865, 0.04649401156950411, 0.03834867935389485, 0.015745230833743427, 0.15387661540945488, 0.09308697232481088, 0.12787175280877203, 0.03860297157792063, 0.02151470761762124, 0.01732335617508081, 0.08317432940359562, 0.025608857188429986, 0.06450362212365421, 0.029373043673142453, 0.13888555636604402, 0.03811693483866932, 0.09723545119276022, 0.08474576951346699, 0.03432281231653918, 0.12897638899478836, 0.07496073196163272, 0.11469271450962287, 0.009647857354730187, 0.08523427446878735, 0.264169059848831, 0.10090607512812826, 0.13260223836454918, 0.027715905414904665, 0.03316316876473475, 0.04692637043594617, 0.014162455893102874, 0.10470940101113836, 0.6059853895280819, 0.10485075449283482, 0.032394188110340255, 0.06817328610519348, 0.03827694512792568, 0.045109182942899104, 0.02171080380853113, 0.0595903511980669, 0.13732674129348188, 0.03230329884303047, 0.02112460003504989, 0.0684618643676363, 0.04023981134622991, 0.03047288244286621, 0.04867458264701125, 0.05481652962437909, 0.15964593519318, 0.14966721609848743, 0.134174598477867, 0.07037027811464204, 0.059952661385705965, 0.0236931198154346, 0.042997989984980806, 0.089824066764775, 0.028642448623871403, 0.07223329491132201, 0.158601244074089, 0.1144240183456919, 0.061018777700842936, 0.09567020345784659, 0.04526102313903068, 0.023314308856637676, 0.07719833184394995, 0.12708971730465002, 0.14631645894245077, 0.026226374848095667, 0.06206814681415072, 0.08221017848173931, 0.05038742511415993, 0.08953036953035076, 0.0317222522798842, 0.044838814285426486, 0.05324236307288665, 0.06677394615332131, 0.023780045905943948, 0.033332239949488536, 0.011734122306751972, 0.028090255036299087, 0.033991701017894865, 0.19696741902718906, 0.11696470374440936, 0.0343421577590837, 0.07559518987378826, 0.08549537028065969, 0.03762560266789609, 0.042611105652518785, 0.008775304773295026, 0.0882259509969222, 0.07935264791301735, 0.08404501944309695, 0.10797336109615971, 0.015585979061481254, 0.04778811561018807, 0.2663509623742349, 0.04128727062886483, 0.035462532829041535, 0.015406682014640294, 0.02694900166034129, 0.02285443282768959, 0.06438423959964577, 0.09233788776376885, 0.07230229091500642, 0.09097462312717129, 0.11111587829956181, 0.10404621445474045, 0.02276737258600978, 0.05859840643809261, 0.03749912584965942, 0.02561444534458713, 0.03987794236249066, 0.10235462024175995, 0.05546824649872518, 0.050992986577503924, 0.4554336998791954, 0.02284335262446143, 0.04193342162664989, 0.015336264090932089, 0.06980995412564336, 0.15036652990656468, 0.013737111248000125, 0.042033381753354325, 0.03144316401595641, 0.08493323873722256, 0.06009642441502401, 0.04364001602333111, 0.03647562291436248, 0.1891080124053771, 0.07613714405628529, 0.06943117690566206, 0.054524572611983166, 0.06797420326708378, 0.019869160161667062, 0.05233472311669857, 0.07106307042271781, 0.2772031010271884, 0.06067149944197078, 0.03171616575349425, 0.060926920765120435, 0.12924397858436426, 0.14488601852578314, 0.051248558410010955, 0.07753662995790743, 0.052204061475648926, 0.02558131315251249, 0.04416020229214885, 0.04009275423626786, 0.06391851953352566, 0.0156718927525221, 0.019161780995249716, 0.03445208603415803, 0.09195111917840691, 0.02593073918098398, 0.056653287482486554, 0.09370413100838376, 0.0445594119575544, 0.09434510300062843, 0.07801081752940256, 0.1588188953729623, 0.029121181538519586, 0.06973261653492795, 0.07938638779637827, 0.011780085477774815, 0.06793382445668741, 0.03227990087275989, 0.026704691625757244, 0.02982911867378541, 0.0433892166964691, 0.0774219628613578, 0.091949723169927, 0.05486781483195345, 0.039520814915484655, 0.010220031229787546, 0.051940374579598596, 0.016379955679735984, 0.027052883754793665, 0.027892709007932316, 0.014661711103274022, 0.10452567831758697, 0.01952168781369028, 0.06344038618275175, 0.07470312520196293, 0.0432858420099429, 0.05601461273486852, 0.025990877488120758, 0.038533894030326955, 0.12353833317535436, 0.02536521439050388, 0.026029482128537187, 0.0575195882836852, 0.04493572587788245, 0.06145732070265466, 0.035753942264485014, 0.02770656625834786, 0.08420798960338825, 0.06954970750817836, 0.0326416066643835, 0.039742660928174585, 0.14564923820727796, 0.024420038457553393, 0.035351309575980386, 0.044286219960981706, 0.03727450273330578, 0.14518338106036846, 0.051609029905725384, 0.019543799491088906, 0.02571822459655156, 0.08513021535372932, 0.023316942262035616, 0.17871588111161243, 0.025645164902028037, 0.5190000745165517, 0.048312811019873725, 0.20004510632944772, 0.04958393170297787, 0.055913825728126844, 0.04245239349792376, 0.031085672303392764, 0.06567442071743367, 0.07374247965478535, 0.017345317409171546, 0.318448914566279, 0.013560193630788434, 0.023085442421269482, 0.04871150675847437, 0.04451437276481197, 0.02141717033605824, 0.07266859396391989, 0.2116602570550227, 0.04345720014933215, 0.03416467376229076, 0.02013541764986987, 0.04479683098447722, 0.20053956132373463, 0.07797660823696159, 0.05216598694880747, 0.05909416871645907, 0.028654458396214073, 0.01531755411806849, 0.13217788335621286, 0.05278288940030461, 0.07081094132172283, 0.025121934679749776, 0.0818977820881469, 0.05749061845322597, 0.05239882428058387, 0.09934407529289563, 0.02985823687956455, 0.0387400385949743, 0.06567882561283418, 0.07744442102773272, 0.012699719847241475, 0.06651579438140406, 0.04360088480422921, 0.03785221575397896, 0.05745103039109815, 0.11816368410781533, 0.17388792035884457, 0.07310999621487659, 0.058822481347147466, 0.05087036278647142, 0.1296720430753263, 0.02304408880314506, 0.020921809559160138, 0.16218280647172253, 0.1351616485229329, 0.0947981763997888, 0.019008572201976322, 0.4204449444172153, 0.05450936191678953, 0.024858095703601295, 0.045709722898259884, 0.009115260124058675, 0.09560281959474523, 0.19463442784552243, 0.05536881232004755, 0.014047483440303528, 0.17949187868393326, 0.03801589123692486, 0.06758016626829519, 0.03695446333881347, 0.032804614059246034, 0.017777360060490938, 0.04379013147125232, 0.022572152162653347, 0.04821018980194748, 0.05299508041011523, 0.017209534891033215, 0.026236835441005933, 0.05219754037655653, 0.08797232717580228, 0.08345769201563158, 0.11207514351974003, 0.07005478742466856, 0.014050560545547987, 0.026325978446809624, 0.3204982176103379, 0.057762594397104274, 0.09008748976750397, 0.03162658128383143, 0.01817775441563243, 0.05777846301755321, 0.08070354352988618, 0.1476745787244259, 0.059913935541082375, 0.17198528357502046, 0.011354860449540517, 0.05361169834309527, 0.07623966790500593, 0.018814263193571875, 0.059666702266356036, 0.026656869207504114, 0.0926744169804842, 0.17002697293854074, 0.07858252507860808, 0.023457972761949136, 0.10147720220573227, 0.05724552622271582, 0.03523074182126635, 0.09811380413848989, 0.14089415381146, 0.12138945613839935, 0.025433191850638182, 0.05529305027522424, 0.04821082028942813, 0.011639537101140646, 0.02556722603026146, 0.011941377007325291, 0.034287769830793256, 0.062471579151154574, 0.050947383994833007, 0.09094145026809676, 0.06268760134192614, 0.06217142206211444, 0.040417296681210794, 0.07795885797590844, 0.07801876213116493, 0.09516287079590811, 0.07055826151776173, 0.1017574278973642, 0.10830320203423294, 0.10031877350622749, 0.028381967237691885, 0.10893507498521189, 0.07680466200324103, 0.019704548735384294, 0.06816664395379891, 0.14889703711361726, 0.07723101835190574, 0.07433737113394047, 0.017905061326130362, 0.032841901446268404, 0.11899774686757252, 0.05955343345214182, 0.06807059124055688, 0.04300847277377158, 0.05368196674266967, 0.04700912885271263, 0.06882257860958944, 0.03939446330900876, 0.03374209284292249, 0.025213003436506568, 0.05192997866802443, 0.05761202119936867, 0.05737543072848733, 0.14529853070229562, 0.01828122773879969, 0.07367000921463451, 0.014544418326224124, 0.07758197856943708, 0.23868980398011547, 0.10789788745715119, 0.022542965313963756, 0.11359842896916172, 0.03370242583850786, 0.16186262010510144, 0.05968642408951129, 0.011842324199489803, 0.02763572095547732, 0.03821538429701845, 0.08738932445448686, 0.017580325499683247, 0.016765069053069865, 0.09840826076081685, 0.185750601531787, 0.059897966015310826, 0.08254012898943293, 0.18807683660222438, 0.02917996577421551, 0.03959921745299556, 0.07678545366051541, 0.03592612848873126, 0.07052696498165187, 0.09328600369169253, 0.036450296215484644, 0.06558664959501032, 0.07087923848006543, 0.06286043513557532, 0.10504730310595932, 0.1816762933142201, 0.05174125720136821, 0.07219275045804581, 0.12125238225962126, 0.0536104335417837, 0.06124649717178918, 0.05533094048824535, 0.029164968845470974, 0.048963956850980726, 0.12376686487419496, 0.0892570006567861, 0.13479751790721342, 0.04798134306593655, 0.0843278072543651, 0.02684407312766985, 0.03445447076855125, 0.07116643805976464, 0.049895661861542366, 0.06175112391728291, 0.02322222499227941, 0.046901476997904396, 0.05800562284489584, 0.057249360790012964, 0.07140649740500545, 0.06625214683473864, 0.029036712669339854, 0.028075999429805876, 0.061170109076289336, 0.03474994148317353, 0.06100320221691413, 0.03330375889895036, 0.09591455941898672, 0.021902801218990534, 0.08959491970504635, 0.05106481384567729, 0.18940149504839127, 0.17025344407475176, 0.02856052330988978, 0.023359944596151375, 0.06125271117319293, 0.09746069020092753, 0.02036217470874137, 0.11773345126291143, 0.05990265329677247, 0.06469275839841146, 0.050764947619479764, 0.039355955538871654, 0.03149909539435478, 0.09378017921164414, 0.18173528108443335, 0.024719819059980063, 0.255522963792636, 0.015155564164535737, 0.030738283007355607, 0.06669005613342269, 0.02927383960813643, 0.04364940736919766, 0.13232920389740088, 0.06955823680324383, 0.2137760668028378, 0.01177970129686289, 0.07146372275636621, 0.040650831157902946, 0.06181415839626607, 0.055067100458260285, 0.048020004063986, 0.07085446039736773, 0.0437190418956679, 0.06352545440364009, 0.26566898687283746, 0.02138661247048487, 0.09404652981077756, 0.03369165361647661, 0.10759652475830513, 0.08091931864757287, 0.09887452941867822, 0.044258522380816054, 0.1366702340887381, 0.04182009641114234, 0.19986960685409982, 0.08810499109579435, 0.12490672136500133, 0.01955630582218083, 0.023638026542546337, 0.06912334484995308, 0.06891710206695058, 0.06820349365366946, 0.09088188010630582, 0.018605759050719865, 0.04837770393768933, 0.022159883663947992, 0.045571385689935, 0.03215194910942062, 0.14438947967126894, 0.03254893883328522, 0.1348540376780018, 0.1024285866379343, 0.047414969536436, 0.14924432760754552, 0.024767868432987457, 0.028500441730824628, 0.03315310037018123, 0.14990952818473852, 0.013534342178419, 0.05804278510828426, 0.07681181712996404, 0.07551035879762479, 0.03755088623374891, 0.10565921092973428, 0.06522972510703146, 0.09759876667151238, 0.009890535885353668, 0.03102763423344252, 0.02594516238757634, 0.07355205118158127, 0.09066060887055667, 0.019146019563608615, 0.01577889162216495, 0.18637686962792044, 0.023959967691802864, 0.10288991741177149, 0.05065985795997316, 0.02369749740413677, 0.08839954470441047, 0.09046633366918808, 0.3613268785388063, 0.024656547707551296, 0.04886727544817235, 0.1781680716599843, 0.03662092476195987, 0.06344065403785902, 0.05046333897814626, 0.058475351059686244, 0.05469979655336468, 0.021944265365324647, 0.10946839127020297, 0.02794069839367487, 0.01600744551652281, 0.018955579655498163, 0.09818198409752717, 0.01492458681472898, 0.1987248513641619, 0.1861671458213653, 0.07850603627806123, 0.15696100780028743, 0.12406827404091071, 0.044335622447112165, 0.023859474006404098, 0.06017336943597343, 0.0329995086847984, 0.0455377190126033, 0.046839757801899674, 0.06299767932202636, 0.016316041521815334, 0.11275059489699835, 0.017083261001421494, 0.02095393184273498, 0.06916626752829526, 0.06266912661197513, 0.1527243504801819, 0.026545507724498832, 0.048787803058372214, 0.2356406356645562, 0.09732163520985737, 0.060824980379696914, 0.04530511476139808, 0.022482153555311267, 0.15933025710063436, 0.15775669785066987, 0.10917916237747961, 0.04188997293843772, 0.0569193830745871, 0.03806714452346023, 0.021095787319508418, 0.07775750894300068, 0.031123861522959925, 0.0872740800833435, 0.09674407538482878, 0.07226581667518232, 0.04195673981818039, 0.16805478211077357, 0.044545691495541495, 0.06989001827490635, 0.017145752977611717, 0.18443161938742433, 0.06739622748788518, 0.058552785572708634, 0.07357955872268651, 0.12857311167975055, 0.09719467629102671, 0.01910311364692732, 0.0613543192426261, 0.013250014674651986, 0.08267684762044901, 0.059920368647831165, 0.05301997635114041, 0.030979341883862872, 0.0663724914884401, 0.08086953439917033, 0.02338433532477455, 0.07716560589500238, 0.12650461946742902, 0.13402559067757325, 0.02795817606421811, 0.01896404265664565, 0.09952757601250778, 0.052082740058601015, 0.06970256652838279, 0.07403293807345196, 0.030567313354668977, 0.018215449856275483, 0.02315103083556456, 0.11122088575807823, 0.1308190973592444, 0.09859501383200668, 0.08899723718208077, 0.05377997235505722, 0.02874359137422397, 0.01180955061243869, 0.2712770403868739, 0.10346666798280844, 0.022365395222404452, 0.07156994160011768, 0.20213012277924272, 0.21907709418434554, 0.07391405263965557, 0.12502928601246463, 0.04905901607073657, 0.07360909535688975, 0.0193524367072645, 0.057057506978196545, 0.1392712982297686, 0.07375842008909533, 0.1046553059845465, 0.03778972943087115, 0.06804599315491869, 0.10609638451499655, 0.039188214552112265, 0.031157946447465334, 0.3460803422919076, 0.019801227954213112, 0.05115346347105134, 0.05670991183390489, 0.08488019514269624, 0.4723274892893282, 0.06896462684329399, 0.03898330199225807, 0.020607276739686528, 0.052051591029929255, 0.014612098684724862, 0.06941946048561834, 0.09093458420197091, 0.052674788582013105, 0.056363524919881114, 0.07710925583168489, 0.013066175803919588, 0.05104987323411637, 0.032084252024002106, 0.01608144023698339, 0.027638520334475045, 0.07563514963488781, 0.04415661060763246, 0.10018136129456466, 0.16122338585894183, 0.02778351163671035, 0.07700955553804274, 0.016096608327876325, 0.019765706733669855, 0.04007231743099568, 0.10080980993949636, 0.04214263415417728, 0.06454544197870203, 0.08483253017599433, 0.09090117965533974, 0.015693272393131834, 0.0910166235279123, 0.07133252941601087, 0.029134876841293043, 0.04469818566825064, 0.07526500574163703, 0.31397417884458123, 0.07268350788168547, 0.15992250135214187, 0.06406059404029436, 0.06579104029341344, 0.05389530431347416, 0.06608867599918455, 0.020594734275281138, 0.1320163973855791, 0.07146802871273746, 0.08887426838990535, 0.02897556791536817, 0.02270193572693179, 0.06002832279822825, 0.08646656659600536, 0.06559349424936294, 0.10636201973967431, 0.024247912235292688, 0.022941464491565627, 0.10902348345299943, 0.10582652997495427, 0.02365008567797414, 0.09097681360406515, 0.03238020986170815, 0.02970808832340216, 0.132174122169423, 0.03632739577679255, 0.09784094033371019, 0.10340835179471322, 0.08259046730321959, 0.0572042671891816, 0.056177271804931005, 0.0479285889645581, 0.021961659931721614, 0.02966057094977023, 0.015614817188128226, 0.060268667415149725, 0.03803286250162801, 0.1990514646851441, 0.07410514725576686, 0.06452880220655835, 0.14096503949010156, 0.19060367754897597, 0.05503647918004314, 0.0802964652199535, 0.0418552030791959, 0.032688160295623804, 0.05178805167801156, 0.021686001603783756, 0.10160099563804527, 0.10734640127460902, 0.026986283162133595, 0.009149381414016961, 0.05232495269210792, 0.03944229383520167, 0.027805970504802317, 0.06017614542169649, 0.06152737465100571, 0.05383595026131193, 0.11137935610429191, 0.123353177561458, 0.02385351216273896, 0.04469170900536096, 0.04440771697399486, 0.03300417965322569, 0.11582854662885633, 0.12617512198942393, 0.02102211267708563, 0.04965612153556575, 0.02568353211664315, 0.04230985707075263, 0.04987970839184457, 0.19562365387009975, 0.024346223380159026, 0.021319362436176437, 0.025401790405084074, 0.022937631690865067, 0.05461043330656718, 0.06266626577367602, 0.04384874893569576, 0.020816410738820883, 0.09396430908207468, 0.10787175037678502, 0.08371622750149321, 0.11035694320573897, 0.1100112514603515, 0.0260750030233223, 0.021467193849825254, 0.05023775887396639, 0.055538346314737065, 0.041098742789914704, 0.047589166490753156, 0.05762626051410717, 0.06529116195165563, 0.022818824253211935, 0.07189892227532282, 0.04882908363383127, 0.05625650026553293, 0.10278738814132497, 0.028419251200762708, 0.03687932902410732, 0.02438544947679486, 0.309868776856607, 0.03739266473047103, 0.0239104314791883, 0.05983467230055012, 0.024257707356492703, 0.03288308061412925, 0.0964734983168255, 0.03123703959087526, 0.04419267298873972, 0.04577421341757067, 0.04934432661056196, 0.03975481351590214, 0.07449986753884463, 0.03492419052196376, 0.055035715869985305, 0.12101982011409755, 0.16132131184479223, 0.08876055427261836, 0.03969997395862385, 0.13970629360701126, 0.058341878769814545, 0.127882489242818, 0.022325194873621956, 0.05156841510481075, 0.05939190312842124, 0.05379995445453277, 0.0792622233416012, 0.15982552021024765, 0.16276791666635085, 0.034223231827145074, 0.07579935938178602, 0.4494073001659897, 0.04163388112298125, 0.08933302723775444, 0.06916611019793957, 0.05421120453751619, 0.21370268980198948, 0.042399725005903506, 0.07150307621546916, 0.061980504626722936, 0.030525822782303168, 0.01350202442688347, 0.06862636793364972, 0.03411325370878855, 0.10040645799421631, 0.098641356263838, 0.05471917262557465, 0.02580482569628779, 0.02223550985056169, 0.028613890713985863, 0.04904867101311805, 0.013125270561352643, 0.22102329813191618, 0.029226745824420166, 0.16703042770274412, 0.08345489427933961, 0.04320194017841737, 0.06435675926907526, 0.08092884493422298, 0.08487679206135501, 0.0648787431548103, 0.01623442172225446, 0.5185365116234056, 0.07498683193744461, 0.07177041794180745, 0.0182270259514607, 0.05906392476778054, 0.1587598650606972, 0.07377197279755864, 0.02847265805762315, 0.03726059703337393, 0.056237564281399297, 0.06863877644749566, 0.2549194258110302, 0.11070904181386765, 0.03984529872991326, 0.03641462797144665, 0.07273754342222241, 0.1892445258701391, 0.04080550598546225, 0.06218048853845515, 0.29847661205884035, 0.07670677880504988, 0.0246781204158028, 0.030001042728891293, 0.04896698157390911, 0.06174133300403955, 0.03833937038526743, 0.14330338902177156, 0.028972912492366432, 0.05153022384094217, 0.04289280721375747, 0.05603605952765162, 0.03257327581416458, 0.014096463865866715, 0.14397998471340837, 0.0863325880138664, 0.023186483221487485, 0.09783718865484674, 0.11082077522571267, 0.28076025911388963, 0.08660069024312196, 0.01996587107550431, 0.044600942689973055, 0.04504378882859251, 0.05422968047921511, 0.03186499467903423, 0.026226986095394107, 0.01926422877184206, 0.07797952462236064, 0.18310253788231762, 0.16519628543702936, 0.04713281926573468, 0.027234055089799054, 0.05354198641478404, 0.09423369044342268, 0.054456404064043826, 0.07111645004580408, 0.454981758883922, 0.04555507041559005, 0.026428665331890762, 0.033756565464392985, 0.22911457394577614, 0.19800680671252016, 0.05047492538686872, 0.10828543448022672, 0.13795437196630692, 0.044824888165257606, 0.032468737959418584, 0.04919030457775906, 0.0956538185818466, 0.08378063239579477, 0.08566408573205302, 0.026083903281074385, 0.0675180550027135, 0.035747849246437056, 0.03764894488934782, 0.11843078757686161, 0.13610529517809733, 0.02731208207138696, 0.02854952421058151, 0.15970288517359282, 0.0519884847589264, 0.16080507129475946, 0.03477590283934877, 0.15379417972902762, 0.04417525741561806, 0.025401790405084074, 0.052515610446166074, 0.08988158793669586, 0.04030851312641297, 0.0744029795173319, 0.05456956599754602, 0.021004906015750217, 0.15422853763094, 0.04589078049760305, 0.09986173107536747, 0.06301900509529319, 0.03863290655711145, 0.025540660806863492, 0.024869151095982842, 0.023012292241499293, 0.023228998009975906, 0.042255376972133205, 0.025961046354257063, 0.02025002790911566, 0.03237434117678822, 0.059309821806082214, 0.06325401068214773, 0.17406728930490595, 0.30896239717880053, 0.022713602938383967, 0.033455618540187894, 0.15806697437540038, 0.06798488492208137, 0.11951658778727778, 0.09342306678728665, 0.040496913977029106, 0.1649461627551695, 0.10930888695998972, 0.05565328260892299, 0.06960367024889733, 0.027609680946416876, 0.0226329587925081, 0.16928632401985647, 0.026057835963138057, 0.09143345230203419, 0.10412476458903161, 0.04834178462324668, 0.04288348410386341, 0.06342387417001334, 0.04600158655047731, 0.04893530821042489, 0.27949140227101327, 0.026728869496627224, 0.0784860640920715, 0.026626945959190757, 0.03958190816939617, 0.041381582720281807, 0.044782671040479845, 0.04733438979680805, 0.014961395429767016, 0.0176532708333938, 0.034134676818933445, 0.05317434566233474, 0.10916686335030469, 0.17138186172563763, 0.019929464069377335, 0.03797601653326117, 0.190647383236723, 0.05236185625186512, 0.09376002669438785, 0.0130005434963128, 0.05745565786690768, 0.02282078484650218, 0.06726402578121846, 0.03778407453848985, 0.015333259332575757, 0.030095067123021874, 0.014871355555260314, 0.06346540429902917, 0.04336225738811869, 0.04308304862315612, 0.32599939847385695, 0.051078813174967076, 0.06718264399592858, 0.10701971381553106, 0.03127756917474677, 0.07112604336196544, 0.015080452218372488, 0.04854617103925326, 0.07200131323109374, 0.052071126599487, 0.06586294409485893, 0.052497817605351486, 0.11775804818373256, 0.11200975279090897, 0.043157904724534, 0.03337869295172883, 0.0295290285807767, 0.08127269552259339, 0.2643974819641074, 0.05109881017021417, 0.05465255445984346, 0.03433188215121334, 0.11350781049666783, 0.061873411677771044, 0.06401638592531, 0.17198438362490073, 0.052189646698540995, 0.018071135245870052, 0.02792212397306098, 0.04024412262113017, 0.03390856160375379, 0.02320203214108552, 0.014172764404432195, 0.08423839347317748, 0.015747809266415808, 0.026207633979715657, 0.08975375059038454, 0.03723179657751663, 0.029406345375079256, 0.03463344724758707, 0.04797610146049136, 0.029051348931188003, 0.056557535501328686, 0.044055443684859454, 0.09475810562902916, 0.06459394350327897, 0.055437254129505134, 0.026842421748847507, 0.07368310672657918, 0.02007407179900846, 0.012810273230366985, 0.050965426192538014, 0.11294618103620827, 0.11039658936034549, 0.025725308454228293, 0.0783386774851262, 0.13799114029445786, 0.05277530856153314, 0.013256381505707338, 0.19106176304771927, 0.053197943868527886, 0.07254716908549783, 0.05299643559286204, 0.3953482617646448, 0.03273124607742828, 0.10509711101629425, 0.010500703275612689, 0.05230972881500939, 0.08637292991415063, 0.05773219141057091, 0.09800117831885506, 0.44530544896025864, 0.059595265154544386, 0.08331606198991845, 0.10035429298891972, 0.023089480954929905, 0.06657636049621106, 0.056264604850382934, 0.03172870977015373, 0.028525124807219356, 0.030632994160668153, 0.026921156005191176, 0.05914054857522875, 0.20820271021732684, 0.041382776722547435, 0.08916508181383369, 0.07090663778379366, 0.05527873142968255, 0.22025415617158448, 0.016984180015324875, 0.06589104521279121, 0.0399297160319024, 0.08929242564275872, 0.0576072331976985, 0.06369677146708425, 0.044892696713587726, 0.06930866475072962, 0.050777854717816207, 0.025760158527774836, 0.05013239185119942, 0.011067304291213434, 0.018419159206980906, 0.03656436068499871, 0.013181524793321827, 0.045851722623130135, 0.0745079598641921, 0.04528366048729018, 0.06906854650428837, 0.2698822725422345, 0.05790436533990327, 0.019150108422421132, 0.045583366485321616, 0.060018150422757904, 0.13917815436649958, 0.10800427236005417, 0.034886884019001696, 0.03552064484804565, 0.017469282395506068, 0.04063636690657699, 0.01194126908006437, 0.05216495160908718, 0.10435819307971832, 0.022200181971098906, 0.10044137926880477, 0.02960444437674155, 0.024802040946625997, 0.17903326768331856, 0.0960179745967484, 0.04669281285259192, 0.29328665223261174, 0.016705961566994606, 0.13412444001173046, 0.05143524778476822, 0.019556332890490403, 0.04706202673328602, 0.05535562671426438, 0.10240562969100411, 0.05076975159467379, 0.02216194706511058, 0.1351147426744568, 0.06474039586680475, 0.01598389980590634, 0.10230933911341505, 0.06464345924045631, 0.11460847145605958, 0.07771914971352378, 0.11605474857530261, 0.04632283134184837, 0.09238417072164902, 0.06294638980603884, 0.029383931899143352, 0.0472089043360045, 0.3772049344731708, 0.04234335909839575, 0.03620570062278229, 0.08246845240962956, 0.06792777854815624, 0.0181999576067853, 0.04288925496774634, 0.06682390570342708, 0.024440878120019584, 0.05384509159586216, 0.0565635124952877, 0.05355176381122296, 0.030000912148170408, 0.08181330376030356, 0.1419089403758855, 0.132260270711391, 0.04711394843213986, 0.10698555129433476, 0.01651935872937226, 0.178785871019311, 0.08257611251692105, 0.025640580968133868, 0.06502678218247503, 0.4143135330634738, 0.036914577867090924, 0.17456095425668872, 0.03333690590182136, 0.04730644873714335, 0.014545662195791205, 0.2711303107579406, 0.022385545478509284, 0.028428894425582926, 0.08579116610322074, 0.10022351954782022, 0.03355134834389078, 0.019459497248781737, 0.07462032483242101, 0.053459612233545, 0.044768974577282114, 0.0470935443125116, 0.03146810694325542, 0.04431222135244961, 0.015594291927638159, 0.05381619900624316, 0.0491283532439655, 0.03984988859215626, 0.06260543148552668, 0.1047226886129995, 0.04180369728514155, 0.029073213276868255, 0.041368379301775914, 0.1255194583986781, 0.03722357611146242, 0.022639968074031604, 0.03569693421771557, 0.020266202718765284, 0.03797384212746523, 0.08541191504055175, 0.07059690371275938, 0.019586076743582124, 0.11606950213900107, 0.06686431213358657, 0.04816282153184177, 0.06765332706283798, 0.032570878507055, 0.16334388050062199, 0.09474938420220064, 0.09000481748766538, 0.045943474741442496, 0.1236066250663289, 0.2092993487391544, 0.020580808020369486, 0.08393098579502081, 0.012743639880531793, 0.014581713690801088, 0.06411401636350665, 0.09217013340835085, 0.09307964062961416, 0.1761836354311787, 0.03443567823372311, 0.09314855804560065, 0.03838749692933359, 0.34633012590893364, 0.15609487731094016, 0.08440926369741666, 0.018192721667960328, 0.03389553940728304, 0.042008228954578064, 0.07501447501405108, 0.05635614653669907, 0.07279411648123608, 0.08589662152047611, 0.05339103339417222, 0.02381062500409018, 0.024409223410056153, 0.02826003790780899, 0.046957536375526236, 0.02082103631615149, 0.08329943166557534, 0.06292505088902761, 0.07796936169585778, 0.060556357152727835, 0.12052959280512283, 0.09223813092910157, 0.14004888824776293, 0.033700293384236524, 0.07372168330415478, 0.15954473597274574, 0.07389981935089118, 0.08367225708424764, 0.06369341236805084, 0.012201233477778106, 0.03402225944200393, 0.02256363482751876, 0.06444342305626406, 0.017866738002448923, 0.036927781018070656, 0.15078083228950037, 0.05128548926729088, 0.05048148906093232, 0.029073183265806404, 0.10301531418473124, 0.06825304665010407, 0.02590038791075329, 0.16675425888562348, 0.05049265268504101, 0.018461582844500453, 0.04268274177373761, 0.09968740799636915, 0.08161247605963975, 0.04771268678107547, 0.04964191229336045, 0.055080397526108105, 0.03597256705633031, 0.06364798618993486, 0.034183661488368836, 0.08186625628513851, 0.013970402083740195, 0.3460053163400934, 0.06116748768982867, 0.07255232301601183, 0.03717951494560241, 0.09470161223122057, 0.06158115486881331, 0.09826875029223127, 0.020146463745984822, 0.01320426205872793, 0.05071739019669516, 0.11646082726286937, 0.024842800801259304, 0.0421259442807348, 0.03915736578971755, 0.05535413785801288, 0.03212935210662368, 0.06147547893031447, 0.041436300184606915, 0.03774785793783676, 0.012404696255726506, 0.042893425455429866, 0.07524863265997042, 0.07952389355801623, 0.15612222118485353, 0.07787215571147857, 0.038789489081603915, 0.03784268387398165, 0.04168071286484776, 0.046255033738072986, 0.06427847716893173, 0.07292652877992452, 0.09460272481928234, 0.04782073622045168, 0.05432718038015004, 0.0658312960239764, 0.12092277413253327, 0.06431652263501153, 0.07102618332316799, 0.024983937542389874, 0.06719560260593548, 0.014237058995813083, 0.04115832376310207, 0.06800917668574022, 0.05824522601212172, 0.025540084407930378, 0.05625213568785228, 0.055326716948943616, 0.017569649497305495, 0.04977437218568337, 0.021724323310270337, 0.07934056445942927, 0.0701223363018251, 0.11656975197822488, 0.0495090769341811, 0.08037290674229157, 0.022617459220614502, 0.09726523143122566, 0.07016113543020412, 0.03290851533017347, 0.07192492002256852, 0.022679357429133185, 0.06050480414901221, 0.16841511844608661, 0.0657610667514512, 0.02505246449994079, 0.23390893832244194, 0.09050562968178255, 0.12964076777167494, 0.029380925358762938, 0.06472133249808415, 0.1442361110725188, 0.04292540582599072, 0.025078393638800493, 0.01557121176175388, 0.019719362043354546, 0.08266242945930072, 0.05084773479832587, 0.0772353972552123, 0.03696623373930611, 0.04552224759459959, 0.11679797909658958, 0.051145362510279985, 0.025840717409324972, 0.063552165684106, 0.09558313394253114, 0.03843349836019125, 0.016984054541746972, 0.03356104136481328, 0.020627413070397334, 0.1363138420223292, 0.03749473263359015, 0.018039627825104244, 0.029414571708547457, 0.02969424793043054, 0.10049438656923175, 0.03391128305715289, 0.029184645767634083, 0.078494067254119, 0.03145835891413958, 0.04608924150988026, 0.1774503699417406, 0.07434255313049289, 0.05390944623040445, 0.042437775752281824, 0.026248171414089003, 0.025863607319815258, 0.40066968321677576, 0.07116606865263247, 0.25611943046611313, 0.057915017875447276, 0.09494878945416288, 0.04292052836237751, 0.022641121617378777, 0.10708226350332527, 0.0526868520258771, 0.015288254050743823, 0.17167987669630225, 0.03507262161276817, 0.05198466329402088, 0.05132846451630243, 0.05585732840872104, 0.018415343609176234, 0.08850589783115242, 0.03525122437430836, 0.09055180190547617, 0.14758988743870108, 0.06073880244267284, 0.06013350040515115, 0.2118027149133065, 0.07511508170982119, 0.0654686696436045, 0.290614824417986, 0.04573028540757257, 0.013990662117828173, 0.04711234633615838, 0.058706304014264826, 0.0485461729421846, 0.046283737291430475, 0.40940497634195827, 0.01872076831153445, 0.08030710685545188, 0.06523389125562665, 0.08135377001551827, 0.18164121263388117, 0.017802698953723054, 0.02558921923019883, 0.15554732883816597, 0.02252208220707947, 0.12038770598174814, 0.08154091575750426, 0.11771615096467779, 0.03545995551169421, 0.026444077808464715, 0.1017952507853967, 0.03319748211984757, 0.12915451112328832, 0.03814572696443403, 0.016322104900973418, 0.10928904752695097, 0.03288763085339698, 0.05312537867690165, 0.06057538625251437, 0.08977486856717333, 0.053594923020489495, 0.03793448248621213, 0.022109728920719954, 0.0220637080416493, 0.05518955282183049, 0.06262243350312025, 0.06488704626340065, 0.060620267006888974, 0.0784317673670439, 0.028394102727736542, 0.06520727944101344, 0.014744808745333295, 0.04145638116113956, 0.10568479835500627, 0.0227415371118548, 0.03874923944403784, 0.07533143431949313, 0.016771066976706415, 0.08328436134830629, 0.019667046434699905, 0.04938295545276657, 0.06414929016421844, 0.01807112350688612, 0.03795450045173488, 0.036927781018070656, 0.022841935506489885, 0.09143922395435175, 0.026004050312521527, 0.06755987712345937, 0.10656700765944546, 0.14845305522976757, 0.08853993349551303, 0.05554734887058655, 0.10984358637973676, 0.07823559443796921, 0.11914474145309535, 0.025059210524070785, 0.06868545332989721, 0.08221678946777317, 0.02969848110482876, 0.057372795957899604, 0.04215427450198567, 0.0670937099122502, 0.06294343281354489, 0.028572979836936296, 0.02752542498663464, 0.02656614136297171, 0.023384029895465973, 0.08060557609420227, 0.07003885487236881, 0.031412790114591936, 0.06191189116460131, 0.03581481916205397, 0.07726582052308116, 0.1170121535863561, 0.03480712140519731, 0.029395738089345747, 0.06868578571490391, 0.10562382751481085, 0.12081476755030099, 0.14587802841882577, 0.037010950314210866, 0.026994483710007018, 0.06549668977239155, 0.06531260204603409, 0.04792647341448835, 0.016983209711456067, 0.07147823294800044, 0.092963049272935, 0.049568066012102105, 0.07530881043520954, 0.0396562261306491, 0.047957843225654766, 0.035320551571958014, 0.09576308432336995, 0.15578279150751947, 0.06166557126723208, 0.026449097035527627, 0.09830577440662197, 0.03399167358717929, 0.03300779872588454, 0.07084522456696776, 0.10061990671680998, 0.020507950709877223, 0.04983275197626186, 0.05703408597905014, 0.26245417889258876, 0.015079868105317203, 0.05417635105553345, 0.08181721182248901, 0.2091953322950674, 0.032803284745443445, 0.07706925275829625, 0.1389420054254873, 0.043176191669870606, 0.08646852350274598, 0.07996747304294355, 0.06550436074884856, 0.08672303649735551, 0.0548255779164937, 0.027634109088153995, 0.012495703900917535, 0.09762654733526346, 0.5578308408953303, 0.17004356716578953, 0.04907904812926229, 0.028468143645180865, 0.02788965474065856, 0.030552551840724487, 0.031460248758113415, 0.016667206142316676, 0.07152417126095569, 0.08686114963009987, 0.03935860239991437, 0.02079429698952528, 0.025463599740309435, 0.04429131860175591, 0.02932536147222656, 0.03318683590038237, 0.03774606597535776, 0.05558449558404805, 0.10439246403850415, 0.014543682685254043, 0.023445644775978828, 0.15595920323176551, 0.10277671901455947, 0.0575564995373059, 0.03445592109687941, 0.18696984013431514, 0.08420033055040134, 0.08770408614348943, 0.04617236320327129, 0.0232199038862991, 0.05005814078821728, 0.02912377836736623, 0.08031738551430982, 0.03775548074676303, 0.04544578761725307, 0.23566511286111197, 0.051958045202183625, 0.08904611611779842, 0.04259734175048648, 0.04963259525265279, 0.2211462703631603, 0.05167099988181122, 0.048146289350560555, 0.018831234497195693, 0.012277600430297374, 0.07032328572679895, 0.023148602092056866, 0.07352545864318995, 0.19484606755878198, 0.023217230452258007, 0.05779906935532798, 0.08431080774420369, 0.06422352147024787, 0.05805018675171836, 0.0241847817159863, 0.14722196368174967, 0.16288089297478256, 0.052977251718461585, 0.3397770205530914, 0.037405347574273204, 0.06870450252293044, 0.08096866722640912, 0.2457475139013148, 0.059386793336655586, 0.025811547952095615, 0.03563566499790395, 0.17309773177983862, 0.07473626722478373, 0.09020870261759073, 0.04222733895105952, 0.09484355510207994, 0.12862690319361303, 0.057518560449936924, 0.024048162777675942, 0.07561065631542689, 0.044181637122985416, 0.08012997000669488, 0.05512471867821349, 0.035184000186512555, 0.0908713424638226, 0.053842839360809885, 0.06353241393634, 0.03457506411593386, 0.018023413805783137, 0.09717827686959177, 0.015262385552633043, 0.031143894826563337, 0.026783024990617216, 0.0815612926619271, 0.01371005577808441, 0.010127950694829937, 0.014610422720993999, 0.06105380635622754, 0.08040113039322638, 0.0710173475215324, 0.03812530020063591, 0.02917996577421551, 0.17696777046742498, 0.011761055177693264, 0.041203148790568155, 0.024869151095982842, 0.036810132673815006, 0.030029177449226622, 0.05907679682904946, 0.07475714117631217, 0.058534420855884776, 0.05139201107063378, 0.022843341097367017, 0.07074669360441456, 0.29037694583631024, 0.04232941584759216, 0.10586221453688108, 0.011929988649312695, 0.03267132666404091, 0.05834742840731802, 0.2478620168928757, 0.0411340672587568, 0.09354053463874432, 0.09534739923293609, 0.05206498192871906, 0.048493274408799476, 0.04992060501140509, 0.0881936689843246, 0.09002926737757438, 0.13340943083572182, 0.1415769307853053, 0.08055189903907957, 0.056469742748592004, 0.054164456336891174, 0.11081774846707995, 0.020037808260778167, 0.051482465750470524, 0.02335563386192121, 0.07596434391472255, 0.060071428267033454, 0.08843650011514703, 0.09018705850707955, 0.02751235320654711, 0.08594662932601646, 0.1376325896766212, 0.025540283004592445, 0.040806943733729666, 0.06545477469879016, 0.11815159832064676, 0.06889514330801928, 0.014063378736437654, 0.309399736225986, 0.02462343464824448, 0.11460189014541695, 0.05415145591928485, 0.045580517999692025, 0.09568600404745499, 0.05119296746289738, 0.032592995722035195, 0.0447987905480459, 0.1960470881714553, 0.054651912926098604, 0.3695876038337468, 0.049410663724637975, 0.11510805631098538, 0.0713158927799204, 0.09796191821528438, 0.03749936167425576, 0.10276256432194684, 0.02619696050186609, 0.1342901569844445, 0.06148473648940334, 0.05235915749270242, 0.06742339496064048, 0.054898247034904535, 0.024697003009900527, 0.04577997011430006, 0.033802695680324436, 0.06025954645739615, 0.029142672279356747, 0.1859209471298016, 0.05012886299885011, 0.015803180149018808, 0.16233096037554992, 0.096556459446426, 0.10773388800978927, 0.11099481897084386, 0.02833824052972891, 0.09996037355033909, 0.07974426737675774, 0.11538644922547144, 0.05648533138455957, 0.06698743740364474, 0.05460970315415668, 0.048997895653116484, 0.053888009119350655, 0.02937046469233337, 0.14713237209474325, 0.07334170966380478, 0.019580838180884755, 0.10378821464690118, 0.04291976678083956, 0.03264666377693921, 0.06643248005476106, 0.08076505955040754, 0.13341499129693887, 0.023428673906853388, 0.06893294423979461, 0.046931610303774456, 0.028678278628021064, 0.03592764808487406, 0.03432274973489385, 0.18837020180115638, 0.14322236076377096, 0.09980802130942232, 0.16739499532274724, 0.07235693250941647, 0.05580581562610701, 0.06304055589848648, 0.030542616495766582, 0.08575460199677164, 0.06909950438354413, 0.025103084022749318, 0.08276237306385813, 0.15797428167801492, 0.04258605712715679, 0.09043469677269804, 0.186313701023558, 0.019825711462095632, 0.07746290655064325, 0.11027496071786567, 0.09825226187976943, 0.011735573923280689, 0.0843420976216658, 0.0482976951778611, 0.23084447085075727, 0.024509746792727053, 0.0668447824242248, 0.026959905806788236, 0.09811776691490029, 0.04915238348883474, 0.08526438275393039, 0.03270035573791517, 0.20576294369919318, 0.06959403834835008, 0.019775236599161833, 0.0378876369785221, 0.06498495938549356, 0.0619927846124148, 0.017403764389824602, 0.15613524811547416, 0.09122989394850493, 0.020900072835487914, 0.026165813916290248, 0.04653322275241719, 0.035635722423588194, 0.02113392350712123, 0.1281951409677136, 0.030697129967781345, 0.06232665809521054, 0.069351201204643, 0.02986911458760379, 0.023348504857977927, 0.055352720341753446, 0.06497492484679122, 0.08442933720384879, 0.08572228910320656, 0.030847572859450785, 0.08338772429912383, 0.015540004326687437, 0.021922979706550293, 0.07168436331434352, 0.07861094483357407, 0.029132942241128345, 0.05890739415880299, 0.0209170668859738, 0.025434278169382027, 0.08310648307157759, 0.07999452935400517, 0.06246910045438536, 0.1024476485733569, 0.03162686415888344, 0.015092647937229857, 0.05372374489746654, 0.09578385066329002, 0.051128531938747064, 0.0906991165266215, 0.05920464501243795, 0.039305749339067976, 0.07407918790587135, 0.046369907561922406, 0.08460806818555092, 0.07838194327530101, 0.03843951039129941, 0.10199007484602336, 0.23658042667362275, 0.0697914410397218, 0.02208553101885191, 0.02939521810275791, 0.034876079702948655, 0.1189126496913772, 0.012196724111368245, 0.025557906428249958, 0.13223777259768385, 0.031355063513764325, 0.05619785666196805, 0.018940198425970164, 0.027610983388065193, 0.026833220879824836, 0.06343259231075205, 0.04096612074829073, 0.04071714135808804, 0.07162537939658785, 0.09733124876335962, 0.052875978323052866, 0.45452895738560223, 0.16312528961144784, 0.01762064944788641, 0.0880869305121892, 0.07557786984337014, 0.09684337151737114, 0.0940744611866039, 0.05931609764993342, 0.23125244343530862, 0.028284188179449662, 0.06928822044844435, 0.022232956642825534, 0.09013427276603593, 0.04105946265374037, 0.01591132785772253, 0.03909363549096615, 0.06331769082423154, 0.017742667696881088, 0.0648727569940193, 0.07320208355962622, 0.013985421671520901, 0.5950201649117787, 0.033444431218280585, 0.04170410128853099, 0.13977278118480707, 0.03634677043286901, 0.20680879845942882, 0.06848622840422869, 0.2980303842894529, 0.03404042028360694, 0.03913361943915345, 0.3490865294883701, 0.022663907573243516, 0.10848820141267615, 0.06991511203483218, 0.03963480465375185, 0.028974038052493024, 0.06187815104837812, 0.02435213731032931, 0.11550216292925815, 0.04113933816124713, 0.1738940394724971, 0.10185837960000732, 0.051696141016872185, 0.07674459666136083, 0.05181839856640021, 0.022272104722930564, 0.04494572455689683, 0.013626850630934897, 0.24858760042499742, 0.012890939096432833, 0.06048471157349269, 0.015795778110046475, 0.029687380793990133, 0.06375099364650408, 0.08201267324682675, 0.03218820791104341, 0.0552404987180684, 0.06754946279055443, 0.14760125420156664, 0.04514834822803146, 0.022019794471911956, 0.034051380274074755, 0.0797228767175018, 0.07881825768940595, 0.032831766509448516, 0.08638652739553217, 0.028436007077463434, 0.12415388122850886, 0.05506510009735067, 0.03517159215513162, 0.06196023652795898, 0.0719359070270969, 0.520147086608462, 0.2549638919031485, 0.081762142385353, 0.06935901089310303, 0.12590339411833795, 0.06594983571644514, 0.07051177985153671, 0.06438323334591052, 0.04164585382960051, 0.047115147980363856, 0.048792304968290484, 0.05977494085395244, 0.05931905014167978, 0.08177850223368541, 0.04257757604757967, 0.013720659367686785, 0.008577199554151175, 0.05882757125033218, 0.014790600322188286, 0.08077558278492442, 0.023128464782156, 0.038020971693761535, 0.15812334176536152, 0.08088399952031482, 0.025736661174805064, 0.04414056150041706, 0.040366412850684236, 0.02420733636181146, 0.09932545341418675, 0.04217005814231529, 0.08761833296802388, 0.13223663874899944, 0.015716245736644666, 0.06456268606087316, 0.1858276199220964, 0.6484659963442456, 0.09808154595900524, 0.17399040291624387, 0.11177918841019908, 0.02321372075018144, 0.023776687016403602, 0.02542297735167084, 0.02966829774245941, 0.060764995897576134, 0.08292628620275826, 0.07288004574076545, 0.06902930013737549, 0.058246843217692204, 0.016441489272293677, 0.052400286953767285, 0.08276237306385813, 0.31291121318752646, 0.10416450491607246, 0.06382698028962051, 0.02750630021177198, 0.019262170120999785, 0.07183342865682753, 0.03141171593298226, 0.43351168291461456, 0.011915141641057832, 0.022858873365760306, 0.04838829957492286, 0.05200529525748498, 0.0687643831195999, 0.11883260769198958, 0.06878068902693554, 0.08669664242993516, 0.04506885669978535, 0.014084564773845912, 0.028087797504525083, 0.03390658887588031, 0.06205748673150549, 0.019387737929051164, 0.17796524905112343, 0.04147675934342525, 0.025627950938310252, 0.07068625588598132, 0.030634138532548545, 0.05538991664345477, 0.06164720240963898, 0.12667933677274978, 0.03104054420672809, 0.08111706858727516, 0.06755029575505889, 0.016456823455494762, 0.039609146198867184, 0.020809544901582565, 0.04095036058826925, 0.08991908952871676, 0.06355026435474935, 0.07561488935625553, 0.011717175560551891, 0.019110745811908053, 0.03362563634810556, 0.12771671223667355, 0.03807989369766101, 0.09802899667083025, 0.058859428680429975, 0.042946605281078534, 0.022130303721333275, 0.02477551547441015, 0.2107976772721074, 0.04374900321740045, 0.08896101697109861, 0.06504633946307398, 0.07329945892306411, 0.15340256591560117, 0.027860209765706013, 0.03299382627144082, 0.5078032155891292, 0.11628811275489019, 0.014640174217183406, 0.13325328664795213, 0.07645382853022416, 0.06740934380742558, 0.16983187617339765, 0.030234880326139264, 0.02541518286508435, 0.13003671149947807, 0.012105890449150438, 0.10799110395075064, 0.04258620748887673, 0.06727391419773114, 0.025655256453333455, 0.08041518258544943, 0.026120858217025464, 0.023037598608780293, 0.07702360956205313, 0.09084320718965204, 0.04620786670666724, 0.08593526806797216, 0.018787611119647624, 0.03024805111052778, 0.153095991599269, 0.028285561020044547, 0.01399574325602889, 0.04235325370503833, 0.16211872780972988, 0.0959039946797234, 0.121139935619157, 0.035444914528901146, 0.19258018472205993, 0.08129964426247423, 0.04454530151982283, 0.029507202737496505, 0.11876899421591332, 0.04080558971768703, 0.053871933992626485))\n"
     ]
    }
   ],
   "source": [
    "print(chart_models1)"
   ]
  },
  {
   "cell_type": "code",
   "execution_count": 38,
   "metadata": {},
   "outputs": [
    {
     "ename": "NameError",
     "evalue": "name 'axes' is not defined",
     "output_type": "error",
     "traceback": [
      "\u001b[1;31m---------------------------------------------------------------------------\u001b[0m",
      "\u001b[1;31mNameError\u001b[0m                                 Traceback (most recent call last)",
      "\u001b[1;32m<ipython-input-38-897ba34b64d2>\u001b[0m in \u001b[0;36m<module>\u001b[1;34m()\u001b[0m\n\u001b[0;32m      1\u001b[0m \u001b[1;32mfor\u001b[0m \u001b[0mi\u001b[0m\u001b[1;33m,\u001b[0m \u001b[0mchart_data\u001b[0m \u001b[1;32min\u001b[0m \u001b[0menumerate\u001b[0m\u001b[1;33m(\u001b[0m\u001b[0mchart_models1\u001b[0m\u001b[1;33m)\u001b[0m\u001b[1;33m:\u001b[0m\u001b[1;33m\u001b[0m\u001b[0m\n\u001b[1;32m----> 2\u001b[1;33m         \u001b[0max\u001b[0m \u001b[1;33m=\u001b[0m \u001b[0maxes\u001b[0m\u001b[1;33m[\u001b[0m\u001b[0mi\u001b[0m\u001b[1;33m]\u001b[0m\u001b[1;33m\u001b[0m\u001b[0m\n\u001b[0m\u001b[0;32m      3\u001b[0m         \u001b[0mscatter\u001b[0m\u001b[1;33m(\u001b[0m\u001b[0mchart_data\u001b[0m\u001b[1;33m,\u001b[0m \u001b[0max\u001b[0m\u001b[1;33m,\u001b[0m \u001b[0mi\u001b[0m\u001b[1;33m)\u001b[0m\u001b[1;33m\u001b[0m\u001b[0m\n\u001b[0;32m      4\u001b[0m \u001b[1;33m\u001b[0m\u001b[0m\n",
      "\u001b[1;31mNameError\u001b[0m: name 'axes' is not defined"
     ]
    }
   ],
   "source": [
    "for i, chart_data in enumerate(chart_models1):\n",
    "        ax = axes[i]\n",
    "        scatter(chart_data, ax, i)\n",
    "        "
   ]
  },
  {
   "cell_type": "code",
   "execution_count": 42,
   "metadata": {},
   "outputs": [],
   "source": [
    "model1, X1, y1 = get_model_data(gradient_boosting_labeled)\n",
    "#probabilities1 = predict_probabilities(X1, model1)"
   ]
  },
  {
   "cell_type": "code",
   "execution_count": 43,
   "metadata": {},
   "outputs": [
    {
     "ename": "NameError",
     "evalue": "name 'predict_probabilities' is not defined",
     "output_type": "error",
     "traceback": [
      "\u001b[1;31m---------------------------------------------------------------------------\u001b[0m",
      "\u001b[1;31mNameError\u001b[0m                                 Traceback (most recent call last)",
      "\u001b[1;32m<ipython-input-43-b3f66f689eb2>\u001b[0m in \u001b[0;36m<module>\u001b[1;34m()\u001b[0m\n\u001b[1;32m----> 1\u001b[1;33m \u001b[0mprobabilities1\u001b[0m \u001b[1;33m=\u001b[0m \u001b[0mpredict_probabilities\u001b[0m\u001b[1;33m(\u001b[0m\u001b[0mX1\u001b[0m\u001b[1;33m,\u001b[0m \u001b[0mmodel1\u001b[0m\u001b[1;33m)\u001b[0m\u001b[1;33m\u001b[0m\u001b[0m\n\u001b[0m",
      "\u001b[1;31mNameError\u001b[0m: name 'predict_probabilities' is not defined"
     ]
    }
   ],
   "source": [
    "probabilities1 = predict_probabilities(X1, model1)"
   ]
  },
  {
   "cell_type": "code",
   "execution_count": null,
   "metadata": {},
   "outputs": [],
   "source": []
  },
  {
   "cell_type": "code",
   "execution_count": null,
   "metadata": {},
   "outputs": [],
   "source": []
  },
  {
   "cell_type": "code",
   "execution_count": null,
   "metadata": {},
   "outputs": [],
   "source": []
  },
  {
   "cell_type": "code",
   "execution_count": null,
   "metadata": {},
   "outputs": [],
   "source": []
  },
  {
   "cell_type": "code",
   "execution_count": null,
   "metadata": {},
   "outputs": [],
   "source": []
  },
  {
   "cell_type": "code",
   "execution_count": null,
   "metadata": {},
   "outputs": [],
   "source": []
  },
  {
   "cell_type": "code",
   "execution_count": null,
   "metadata": {},
   "outputs": [],
   "source": []
  },
  {
   "cell_type": "code",
   "execution_count": null,
   "metadata": {},
   "outputs": [],
   "source": []
  },
  {
   "cell_type": "markdown",
   "metadata": {},
   "source": [
    "Из графиков видно, что вероятности классов находятся достаточно плотно друг к другу и для данных моделей настройка порога не сыграет большой роли в качестве решения.\n",
    "\n",
    "### Графики зафисимости precision и recall от значений порога"
   ]
  },
  {
   "cell_type": "code",
   "execution_count": 23,
   "metadata": {},
   "outputs": [
    {
     "data": {
      "image/png": "[encoded data removed]",
      "text/plain": [
       "<Figure size 792x288 with 3 Axes>"
      ]
     },
     "metadata": {
      "needs_background": "light"
     },
     "output_type": "display_data"
    }
   ],
   "source": [
    "charts_row(chart_models, precision_recal_thresh)"
   ]
  },
  {
   "cell_type": "code",
   "execution_count": null,
   "metadata": {},
   "outputs": [],
   "source": []
  },
  {
   "cell_type": "markdown",
   "metadata": {},
   "source": [
    "По данным графикам видно, что можно подобрать порог так, чтобы за счет precision увеличить recall. Существенно выиграть в качестве при этом пока не получится.\n",
    "\n",
    "### Кривые AUC ROC"
   ]
  },
  {
   "cell_type": "code",
   "execution_count": 24,
   "metadata": {},
   "outputs": [
    {
     "data": {
      "image/png": "[encoded data removed]",
      "text/plain": [
       "<Figure size 792x288 with 3 Axes>"
      ]
     },
     "metadata": {
      "needs_background": "light"
     },
     "output_type": "display_data"
    }
   ],
   "source": [
    "charts_row(chart_models, auc_roc)"
   ]
  },
  {
   "cell_type": "markdown",
   "metadata": {},
   "source": [
    "По кривым AUC ROC видно, что они проходят довольно далеко от точки \\[0;1\\], это означает, что качество моделей низкое. И простой подстройкой параметров не обойтись.\n",
    "\n",
    "### Кривые AUC PRC"
   ]
  },
  {
   "cell_type": "code",
   "execution_count": 25,
   "metadata": {},
   "outputs": [
    {
     "data": {
      "image/png": "[encoded data removed]",
      "text/plain": [
       "<Figure size 792x288 with 3 Axes>"
      ]
     },
     "metadata": {
      "needs_background": "light"
     },
     "output_type": "display_data"
    }
   ],
   "source": [
    "charts_row(chart_models, auc_prc)"
   ]
  },
  {
   "cell_type": "code",
   "execution_count": 57,
   "metadata": {},
   "outputs": [],
   "source": [
    "def build_predictions(X, model, predict_proba, threshold):\n",
    "    probabilities = predict_proba(X, model)\n",
    "    return [-1 if probability < threshold else 1 for probability in probabilities]"
   ]
  },
  {
   "cell_type": "code",
   "execution_count": null,
   "metadata": {},
   "outputs": [],
   "source": []
  },
  {
   "cell_type": "markdown",
   "metadata": {},
   "source": [
    "По графикам также видно, что общее качество моделей очень низкое (они проходят далеко от точки \\[1;1\\]\n",
    "\n",
    "## Вывод\n",
    "\n",
    "В этой работе я написал функции, обрабатывающие признаки для построения модели (масштабирование числовых признаков, кодирование категориальных признаков).\n",
    "Подготовил функции, позволяющие произвести оценку качества моделей по F-мере на кросс-валидации.\n",
    "Подготовил функции, позволяющие произвести дополнительную оценку качества модели и качество оценок принадлежности классу.\n",
    "Построил baseline модели и измерил их качество.\n",
    "\n",
    "Качество baseline моделей оказалось предсказуемо низким.\n",
    "Лучше всего себя показал градиентный бустинг с использованием LabelEncoder для категориальных признаков."
   ]
  }
 ],
 "metadata": {
  "anaconda-cloud": {},
  "kernelspec": {
   "display_name": "Python 2",
   "language": "python",
   "name": "python2"
  },
  "language_info": {
   "codemirror_mode": {
    "name": "ipython",
    "version": 2
   },
   "file_extension": ".py",
   "mimetype": "text/x-python",
   "name": "python",
   "nbconvert_exporter": "python",
   "pygments_lexer": "ipython2",
   "version": "2.7.15"
  }
 },
 "nbformat": 4,
 "nbformat_minor": 1
}
