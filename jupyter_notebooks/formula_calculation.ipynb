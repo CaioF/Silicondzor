{
 "cells": [
  {
   "cell_type": "code",
   "execution_count": 3,
   "metadata": {},
   "outputs": [],
   "source": [
    "import pandas as pd\n",
    "import numpy as np\n",
    "import matplotlib\n",
    "import os"
   ]
  },
  {
   "cell_type": "code",
   "execution_count": 221,
   "metadata": {},
   "outputs": [],
   "source": [
    "df_train = pd.read_csv(\"../data/train.csv\", \"|\")\n",
    "df_train_sorted = df_train.sort_values(by=['well id', 'depth, m'])\n",
    "df_train_sorted.to_csv('../data/train_sorted.csv',index=False, sep='|')\n",
    "df_train_sorted.to_json('../data/train_sorted.json')"
   ]
  },
  {
   "cell_type": "code",
   "execution_count": 20,
   "metadata": {},
   "outputs": [],
   "source": [
    "df_train_clean = df_train.drop_duplicates(subset=['well id','depth, m','bk','GZ1','GZ2','GZ3','GZ4','GZ5','GZ7','DGK','NKTD','NKTM','NKTR','ALPS'], keep=False)\n",
    "df_train_clean.to_csv('../data/train_clean.csv',index=False, sep='|')\n",
    "df_train_clean.to_json('../data/train_clean.json')\n",
    "df_train_clean_sorted = df_train_clean.sort_values(by=['well id', 'depth, m'])\n",
    "df_train_clean_sorted.to_csv('../data/train_clean_sorted.csv',index=False, sep='|')\n",
    "df_train_clean_sorted.to_json('../data/train_clean_sorted.json')"
   ]
  },
  {
   "cell_type": "code",
   "execution_count": 21,
   "metadata": {},
   "outputs": [],
   "source": [
    "df_test = pd.read_csv(\"/Users/zamaletdinovaaa/mipt_cet_hack/Silicondzor/data/test.csv\", \"|\")\n",
    "df_test.to_json('../data/test.json')\n",
    "df_test_sorted = df_test.sort_values(by=['well id', 'depth, m'])\n",
    "df_test_sorted.to_json('../data/test_sorted.json')"
   ]
  },
  {
   "cell_type": "code",
   "execution_count": 237,
   "metadata": {},
   "outputs": [],
   "source": [
    "_PNB = 4150\n",
    "_PHI = 0.7\n",
    "_RHO = 860\n",
    "_S = 100\n",
    "_H_DELTA = 0.1\n",
    "_EXPENCES_BK = 245\n",
    "_EXPENCES_GZ = 205\n",
    "_EXPENCES_DGK = 130\n",
    "_EXPENCES_NKT = 205\n",
    "_EXPENCES_ALPS = 115\n",
    "_EXPENCES_DICT = {'bk':_EXPENCES_BK, \n",
    "                 'GZ1':_EXPENCES_GZ,\n",
    "                  'GZ2':_EXPENCES_GZ,\n",
    "                  'GZ3':_EXPENCES_GZ,\n",
    "                  'GZ4':_EXPENCES_GZ,\n",
    "                  'GZ5':_EXPENCES_GZ,\n",
    "                  'GZ6':_EXPENCES_GZ,\n",
    "                  'GZ7':_EXPENCES_GZ,\n",
    "                  'DGK':_EXPENCES_DGK,\n",
    "                  'NKTD':_EXPENCES_NKT,\n",
    "                  'NKTM':_EXPENCES_NKT,\n",
    "                  'NKTR':_EXPENCES_NKT,\n",
    "                  'ALPS':_EXPENCES_ALPS\n",
    "                 }\n",
    "_EXPENCES_COLUMNS_ALL = list(_EXPENCES_DICT.keys())"
   ]
  },
  {
   "cell_type": "code",
   "execution_count": 241,
   "metadata": {},
   "outputs": [],
   "source": [
    "def analysis_columns(df):\n",
    "    return list(pd.Index(_EXPENCES_COLUMNS_ALL).intersection(df.columns))\n",
    "    \n",
    "def add_expences(df):\n",
    "    df_temp = df[analysis_columns(df)]\n",
    "    df_temp = df_temp.notnull().astype('int')\n",
    "    \n",
    "    df['expences'] = (df_temp * [_EXPENCES_DICT.get(key) for key in analysis_columns(df)]).sum(axis=1)\n",
    "    return df"
   ]
  },
  {
   "cell_type": "code",
   "execution_count": 312,
   "metadata": {},
   "outputs": [],
   "source": [
    "def form_result_df(df):\n",
    "    df_grouped = df.groupby(['well id'])\n",
    "    columns = ['well id', 'total_cnt', 'oil_cnt', 'value', 'expenses', 'square', 'mass', 'price']\n",
    "\n",
    "    df_dashbord_show=None\n",
    "    df_dashbord_show = pd.DataFrame(columns=columns)\n",
    "    \n",
    "    for well_id, df_well in df_grouped:\n",
    "        total_cnt = df_well.shape[0]\n",
    "        oil_cnt = df_well[df_well['goal']==1]['well id'].count()\n",
    "        h = _H_DELTA * oil_cnt\n",
    "        expences = df_well['expences'].sum()\n",
    "        square = oil_cnt*_S\n",
    "        mass = h* square * _RHO\n",
    "        value = _PNB*_PHI*h*_S*_RHO - expences\n",
    "        price = mass * _PNB\n",
    "        row_dict = [{'price':price,'mass':mass,'square':square,'well id':well_id, 'total_cnt':total_cnt, 'oil_cnt':oil_cnt, 'value':value, 'expenses':expences}]\n",
    "        df_dashbord_show_inc = pd.DataFrame(row_dict)\n",
    "        df_dashbord_show = df_dashbord_show.append(df_dashbord_show_inc)\n",
    "    return df_dashbord_show"
   ]
  },
  {
   "cell_type": "code",
   "execution_count": 284,
   "metadata": {},
   "outputs": [],
   "source": [
    "df_train_expences = add_expences(df_train)   \n",
    "df_result_example = df_train_expences.iloc[:50]\n",
    "df_result_example.to_json('../data/result_example_better.json',orient='split')"
   ]
  },
  {
   "cell_type": "code",
   "execution_count": 307,
   "metadata": {},
   "outputs": [],
   "source": [
    "df_result_total_example=df_result_total_example.reset_index(drop=True)\n",
    "df_result_total_example = form_result_df(df_result_example)"
   ]
  },
  {
   "cell_type": "code",
   "execution_count": 313,
   "metadata": {},
   "outputs": [],
   "source": [
    "df_test_pred_full = pd.merge(df_test, df_test_pred, on='id')\n",
    "df_test_pred_full_expences = add_expences(df_test_pred_full)\n",
    "df_test_pred_full_expences.to_csv('../data/df_test_pred_full_expences.csv',index=False, sep='|')\n",
    "df_test_pred_full_total = form_result_df(df_test_pred_full)\n",
    "df_test_pred_full_total.to_csv('../data/df_test_pred_full_total.csv',index=False, sep='|')"
   ]
  },
  {
   "cell_type": "code",
   "execution_count": 11,
   "metadata": {
    "collapsed": true
   },
   "outputs": [
    {
     "name": "stdout",
     "output_type": "stream",
     "text": [
      "well_id 47 nunique - 1297 shape (1360, 15)\n",
      "well_id 95 nunique - 1162 shape (1199, 15)\n",
      "well_id 126 nunique - 17382 shape (17633, 15)\n",
      "well_id 164 nunique - 15826 shape (16238, 15)\n",
      "well_id 176 nunique - 1136 shape (1174, 15)\n"
     ]
    },
    {
     "data": {
      "text/html": [
       "<div>\n",
       "<style scoped>\n",
       "    .dataframe tbody tr th:only-of-type {\n",
       "        vertical-align: middle;\n",
       "    }\n",
       "\n",
       "    .dataframe tbody tr th {\n",
       "        vertical-align: top;\n",
       "    }\n",
       "\n",
       "    .dataframe thead th {\n",
       "        text-align: right;\n",
       "    }\n",
       "</style>\n",
       "<table border=\"1\" class=\"dataframe\">\n",
       "  <thead>\n",
       "    <tr style=\"text-align: right;\">\n",
       "      <th></th>\n",
       "      <th>id</th>\n",
       "      <th>well id</th>\n",
       "      <th>depth, m</th>\n",
       "      <th>bk</th>\n",
       "      <th>GZ1</th>\n",
       "      <th>GZ2</th>\n",
       "      <th>GZ3</th>\n",
       "      <th>GZ4</th>\n",
       "      <th>GZ5</th>\n",
       "      <th>GZ7</th>\n",
       "      <th>DGK</th>\n",
       "      <th>NKTD</th>\n",
       "      <th>NKTM</th>\n",
       "      <th>NKTR</th>\n",
       "      <th>ALPS</th>\n",
       "    </tr>\n",
       "  </thead>\n",
       "  <tbody>\n",
       "    <tr>\n",
       "      <td>30</td>\n",
       "      <td>31</td>\n",
       "      <td>47</td>\n",
       "      <td>2468.231</td>\n",
       "      <td>0.449133</td>\n",
       "      <td>0.376967</td>\n",
       "      <td>0.127989</td>\n",
       "      <td>0.531776</td>\n",
       "      <td>0.253316</td>\n",
       "      <td>0.911877</td>\n",
       "      <td>0.417324</td>\n",
       "      <td>0.769427</td>\n",
       "      <td>0.381311</td>\n",
       "      <td>0.558993</td>\n",
       "      <td>0.422383</td>\n",
       "      <td>0.774000</td>\n",
       "    </tr>\n",
       "    <tr>\n",
       "      <td>31</td>\n",
       "      <td>32</td>\n",
       "      <td>47</td>\n",
       "      <td>2468.231</td>\n",
       "      <td>0.449133</td>\n",
       "      <td>0.376967</td>\n",
       "      <td>0.127989</td>\n",
       "      <td>0.531776</td>\n",
       "      <td>0.253316</td>\n",
       "      <td>0.911877</td>\n",
       "      <td>0.417324</td>\n",
       "      <td>0.769427</td>\n",
       "      <td>0.381311</td>\n",
       "      <td>0.558993</td>\n",
       "      <td>0.422383</td>\n",
       "      <td>0.774000</td>\n",
       "    </tr>\n",
       "    <tr>\n",
       "      <td>39</td>\n",
       "      <td>40</td>\n",
       "      <td>47</td>\n",
       "      <td>2468.947</td>\n",
       "      <td>0.458829</td>\n",
       "      <td>0.316576</td>\n",
       "      <td>0.117564</td>\n",
       "      <td>0.435454</td>\n",
       "      <td>0.354642</td>\n",
       "      <td>0.893757</td>\n",
       "      <td>0.369689</td>\n",
       "      <td>0.515214</td>\n",
       "      <td>0.381458</td>\n",
       "      <td>0.543162</td>\n",
       "      <td>0.411672</td>\n",
       "      <td>0.774000</td>\n",
       "    </tr>\n",
       "    <tr>\n",
       "      <td>40</td>\n",
       "      <td>41</td>\n",
       "      <td>47</td>\n",
       "      <td>2468.947</td>\n",
       "      <td>0.458829</td>\n",
       "      <td>0.316576</td>\n",
       "      <td>0.117564</td>\n",
       "      <td>0.435454</td>\n",
       "      <td>0.354642</td>\n",
       "      <td>0.893757</td>\n",
       "      <td>0.369689</td>\n",
       "      <td>0.515214</td>\n",
       "      <td>0.381458</td>\n",
       "      <td>0.543162</td>\n",
       "      <td>0.411672</td>\n",
       "      <td>0.774000</td>\n",
       "    </tr>\n",
       "    <tr>\n",
       "      <td>60</td>\n",
       "      <td>61</td>\n",
       "      <td>47</td>\n",
       "      <td>2470.737</td>\n",
       "      <td>0.367247</td>\n",
       "      <td>0.276679</td>\n",
       "      <td>0.119591</td>\n",
       "      <td>0.552777</td>\n",
       "      <td>0.114990</td>\n",
       "      <td>0.223684</td>\n",
       "      <td>0.645786</td>\n",
       "      <td>0.366495</td>\n",
       "      <td>0.386175</td>\n",
       "      <td>0.563918</td>\n",
       "      <td>0.425497</td>\n",
       "      <td>0.368554</td>\n",
       "    </tr>\n",
       "    <tr>\n",
       "      <td>...</td>\n",
       "      <td>...</td>\n",
       "      <td>...</td>\n",
       "      <td>...</td>\n",
       "      <td>...</td>\n",
       "      <td>...</td>\n",
       "      <td>...</td>\n",
       "      <td>...</td>\n",
       "      <td>...</td>\n",
       "      <td>...</td>\n",
       "      <td>...</td>\n",
       "      <td>...</td>\n",
       "      <td>...</td>\n",
       "      <td>...</td>\n",
       "      <td>...</td>\n",
       "      <td>...</td>\n",
       "    </tr>\n",
       "    <tr>\n",
       "      <td>37520</td>\n",
       "      <td>37521</td>\n",
       "      <td>176</td>\n",
       "      <td>2165.005</td>\n",
       "      <td>0.399551</td>\n",
       "      <td>0.262832</td>\n",
       "      <td>0.127844</td>\n",
       "      <td>0.782174</td>\n",
       "      <td>0.141857</td>\n",
       "      <td>0.368494</td>\n",
       "      <td>0.852176</td>\n",
       "      <td>0.494653</td>\n",
       "      <td>0.347186</td>\n",
       "      <td>0.498485</td>\n",
       "      <td>0.424384</td>\n",
       "      <td>0.162172</td>\n",
       "    </tr>\n",
       "    <tr>\n",
       "      <td>37528</td>\n",
       "      <td>37529</td>\n",
       "      <td>176</td>\n",
       "      <td>2165.721</td>\n",
       "      <td>0.423699</td>\n",
       "      <td>0.247487</td>\n",
       "      <td>0.131655</td>\n",
       "      <td>0.675283</td>\n",
       "      <td>0.125893</td>\n",
       "      <td>0.371813</td>\n",
       "      <td>0.841864</td>\n",
       "      <td>0.412178</td>\n",
       "      <td>0.363219</td>\n",
       "      <td>0.513265</td>\n",
       "      <td>0.496400</td>\n",
       "      <td>0.132560</td>\n",
       "    </tr>\n",
       "    <tr>\n",
       "      <td>37529</td>\n",
       "      <td>37530</td>\n",
       "      <td>176</td>\n",
       "      <td>2165.721</td>\n",
       "      <td>0.423699</td>\n",
       "      <td>0.247487</td>\n",
       "      <td>0.131655</td>\n",
       "      <td>0.675283</td>\n",
       "      <td>0.125893</td>\n",
       "      <td>0.371813</td>\n",
       "      <td>0.841864</td>\n",
       "      <td>0.412178</td>\n",
       "      <td>0.363219</td>\n",
       "      <td>0.513265</td>\n",
       "      <td>0.496400</td>\n",
       "      <td>0.132560</td>\n",
       "    </tr>\n",
       "    <tr>\n",
       "      <td>37565</td>\n",
       "      <td>37566</td>\n",
       "      <td>176</td>\n",
       "      <td>2168.943</td>\n",
       "      <td>0.397237</td>\n",
       "      <td>0.279274</td>\n",
       "      <td>0.154195</td>\n",
       "      <td>0.733595</td>\n",
       "      <td>0.117446</td>\n",
       "      <td>0.357766</td>\n",
       "      <td>0.937225</td>\n",
       "      <td>0.344939</td>\n",
       "      <td>0.393485</td>\n",
       "      <td>0.527332</td>\n",
       "      <td>0.379199</td>\n",
       "      <td>0.195392</td>\n",
       "    </tr>\n",
       "    <tr>\n",
       "      <td>37566</td>\n",
       "      <td>37567</td>\n",
       "      <td>176</td>\n",
       "      <td>2168.943</td>\n",
       "      <td>0.397237</td>\n",
       "      <td>0.279274</td>\n",
       "      <td>0.154195</td>\n",
       "      <td>0.733595</td>\n",
       "      <td>0.117446</td>\n",
       "      <td>0.357766</td>\n",
       "      <td>0.937225</td>\n",
       "      <td>0.344939</td>\n",
       "      <td>0.393485</td>\n",
       "      <td>0.527332</td>\n",
       "      <td>0.379199</td>\n",
       "      <td>0.195392</td>\n",
       "    </tr>\n",
       "  </tbody>\n",
       "</table>\n",
       "<p>1602 rows × 15 columns</p>\n",
       "</div>"
      ],
      "text/plain": [
       "          id  well id  depth, m        bk       GZ1       GZ2       GZ3  \\\n",
       "30        31       47  2468.231  0.449133  0.376967  0.127989  0.531776   \n",
       "31        32       47  2468.231  0.449133  0.376967  0.127989  0.531776   \n",
       "39        40       47  2468.947  0.458829  0.316576  0.117564  0.435454   \n",
       "40        41       47  2468.947  0.458829  0.316576  0.117564  0.435454   \n",
       "60        61       47  2470.737  0.367247  0.276679  0.119591  0.552777   \n",
       "...      ...      ...       ...       ...       ...       ...       ...   \n",
       "37520  37521      176  2165.005  0.399551  0.262832  0.127844  0.782174   \n",
       "37528  37529      176  2165.721  0.423699  0.247487  0.131655  0.675283   \n",
       "37529  37530      176  2165.721  0.423699  0.247487  0.131655  0.675283   \n",
       "37565  37566      176  2168.943  0.397237  0.279274  0.154195  0.733595   \n",
       "37566  37567      176  2168.943  0.397237  0.279274  0.154195  0.733595   \n",
       "\n",
       "            GZ4       GZ5       GZ7       DGK      NKTD      NKTM      NKTR  \\\n",
       "30     0.253316  0.911877  0.417324  0.769427  0.381311  0.558993  0.422383   \n",
       "31     0.253316  0.911877  0.417324  0.769427  0.381311  0.558993  0.422383   \n",
       "39     0.354642  0.893757  0.369689  0.515214  0.381458  0.543162  0.411672   \n",
       "40     0.354642  0.893757  0.369689  0.515214  0.381458  0.543162  0.411672   \n",
       "60     0.114990  0.223684  0.645786  0.366495  0.386175  0.563918  0.425497   \n",
       "...         ...       ...       ...       ...       ...       ...       ...   \n",
       "37520  0.141857  0.368494  0.852176  0.494653  0.347186  0.498485  0.424384   \n",
       "37528  0.125893  0.371813  0.841864  0.412178  0.363219  0.513265  0.496400   \n",
       "37529  0.125893  0.371813  0.841864  0.412178  0.363219  0.513265  0.496400   \n",
       "37565  0.117446  0.357766  0.937225  0.344939  0.393485  0.527332  0.379199   \n",
       "37566  0.117446  0.357766  0.937225  0.344939  0.393485  0.527332  0.379199   \n",
       "\n",
       "           ALPS  \n",
       "30     0.774000  \n",
       "31     0.774000  \n",
       "39     0.774000  \n",
       "40     0.774000  \n",
       "60     0.368554  \n",
       "...         ...  \n",
       "37520  0.162172  \n",
       "37528  0.132560  \n",
       "37529  0.132560  \n",
       "37565  0.195392  \n",
       "37566  0.195392  \n",
       "\n",
       "[1602 rows x 15 columns]"
      ]
     },
     "execution_count": 11,
     "metadata": {},
     "output_type": "execute_result"
    }
   ],
   "source": [
    "df_grouped = df_test.groupby(['well id'])\n",
    "\n",
    "for well_id, df_well in df_grouped:\n",
    "    print(f'well_id {well_id} nunique - {df_well[\"depth, m\"].nunique()} shape {df_well.shape}')\n",
    "          \n",
    "          \n",
    "df_test[df_test.duplicated(['well id','depth, m','bk','GZ1','GZ2','GZ3','GZ4','GZ5','GZ7','DGK','NKTD','NKTM','NKTR','ALPS',], keep=False)]"
   ]
  },
  {
   "cell_type": "code",
   "execution_count": 314,
   "metadata": {},
   "outputs": [],
   "source": [
    "df_test_pred = pd.read_csv(\"../data/predicted_test.csv\", \",\")"
   ]
  },
  {
   "cell_type": "code",
   "execution_count": 302,
   "metadata": {},
   "outputs": [
    {
     "data": {
      "text/plain": [
       "((37604, 3), (37604, 15))"
      ]
     },
     "execution_count": 302,
     "metadata": {},
     "output_type": "execute_result"
    }
   ],
   "source": [
    "(df_test_pred.shape, df_test.shape)"
   ]
  },
  {
   "cell_type": "code",
   "execution_count": 322,
   "metadata": {},
   "outputs": [
    {
     "name": "stdout",
     "output_type": "stream",
     "text": [
      "mass 154291619600.0\n"
     ]
    }
   ],
   "source": [
    "print(f\"mass {df_test_pred_full_total['mass'].sum()}\")"
   ]
  },
  {
   "cell_type": "code",
   "execution_count": 324,
   "metadata": {},
   "outputs": [],
   "source": [
    "df_test_pred_full_total\n",
    "pd.set_option('display.float_format', '{:.2f}'.format)"
   ]
  },
  {
   "cell_type": "code",
   "execution_count": 325,
   "metadata": {},
   "outputs": [
    {
     "data": {
      "text/html": [
       "<div>\n",
       "<style scoped>\n",
       "    .dataframe tbody tr th:only-of-type {\n",
       "        vertical-align: middle;\n",
       "    }\n",
       "\n",
       "    .dataframe tbody tr th {\n",
       "        vertical-align: top;\n",
       "    }\n",
       "\n",
       "    .dataframe thead th {\n",
       "        text-align: right;\n",
       "    }\n",
       "</style>\n",
       "<table border=\"1\" class=\"dataframe\">\n",
       "  <thead>\n",
       "    <tr style=\"text-align: right;\">\n",
       "      <th></th>\n",
       "      <th>expenses</th>\n",
       "      <th>mass</th>\n",
       "      <th>oil_cnt</th>\n",
       "      <th>price</th>\n",
       "      <th>square</th>\n",
       "      <th>total_cnt</th>\n",
       "      <th>value</th>\n",
       "      <th>well id</th>\n",
       "    </tr>\n",
       "  </thead>\n",
       "  <tbody>\n",
       "    <tr>\n",
       "      <td>0</td>\n",
       "      <td>3175600</td>\n",
       "      <td>897229400.00</td>\n",
       "      <td>323</td>\n",
       "      <td>3723502010000.00</td>\n",
       "      <td>32300</td>\n",
       "      <td>1360</td>\n",
       "      <td>8066333400.00</td>\n",
       "      <td>47</td>\n",
       "    </tr>\n",
       "    <tr>\n",
       "      <td>0</td>\n",
       "      <td>2799550</td>\n",
       "      <td>248540000.00</td>\n",
       "      <td>170</td>\n",
       "      <td>1031441000000.00</td>\n",
       "      <td>17000</td>\n",
       "      <td>1199</td>\n",
       "      <td>4244310450.00</td>\n",
       "      <td>95</td>\n",
       "    </tr>\n",
       "    <tr>\n",
       "      <td>0</td>\n",
       "      <td>41169250</td>\n",
       "      <td>65369021400.00</td>\n",
       "      <td>2757</td>\n",
       "      <td>271281438810000.00</td>\n",
       "      <td>275700</td>\n",
       "      <td>17633</td>\n",
       "      <td>68836961750.00</td>\n",
       "      <td>126</td>\n",
       "    </tr>\n",
       "    <tr>\n",
       "      <td>0</td>\n",
       "      <td>36182310</td>\n",
       "      <td>87404758400.00</td>\n",
       "      <td>3188</td>\n",
       "      <td>362729747360000.00</td>\n",
       "      <td>318800</td>\n",
       "      <td>16238</td>\n",
       "      <td>79609621690.00</td>\n",
       "      <td>164</td>\n",
       "    </tr>\n",
       "    <tr>\n",
       "      <td>0</td>\n",
       "      <td>2741290</td>\n",
       "      <td>372070400.00</td>\n",
       "      <td>208</td>\n",
       "      <td>1544092160000.00</td>\n",
       "      <td>20800</td>\n",
       "      <td>1174</td>\n",
       "      <td>5193722710.00</td>\n",
       "      <td>176</td>\n",
       "    </tr>\n",
       "  </tbody>\n",
       "</table>\n",
       "</div>"
      ],
      "text/plain": [
       "   expenses           mass oil_cnt              price  square total_cnt  \\\n",
       "0   3175600   897229400.00     323   3723502010000.00   32300      1360   \n",
       "0   2799550   248540000.00     170   1031441000000.00   17000      1199   \n",
       "0  41169250 65369021400.00    2757 271281438810000.00  275700     17633   \n",
       "0  36182310 87404758400.00    3188 362729747360000.00  318800     16238   \n",
       "0   2741290   372070400.00     208   1544092160000.00   20800      1174   \n",
       "\n",
       "           value well id  \n",
       "0  8066333400.00      47  \n",
       "0  4244310450.00      95  \n",
       "0 68836961750.00     126  \n",
       "0 79609621690.00     164  \n",
       "0  5193722710.00     176  "
      ]
     },
     "execution_count": 325,
     "metadata": {},
     "output_type": "execute_result"
    }
   ],
   "source": [
    "df_test_pred_full_total"
   ]
  },
  {
   "cell_type": "code",
   "execution_count": 262,
   "metadata": {},
   "outputs": [
    {
     "data": {
      "text/plain": [
       "(6646, 6646)"
      ]
     },
     "execution_count": 262,
     "metadata": {},
     "output_type": "execute_result"
    }
   ],
   "source": [
    "df_test_pred_full_total['oil_cnt'].sum(), df_test_pred['goal'].sum()"
   ]
  },
  {
   "cell_type": "code",
   "execution_count": 258,
   "metadata": {},
   "outputs": [],
   "source": [
    "g1 = df_test_pred_full_expences[['well id', 'depth, m', 'goal', 'lith']] \n",
    "\n",
    "g1.to_csv('../data/df_test_pred_full_expences_1g.csv',index=False, sep='|')\n"
   ]
  },
  {
   "cell_type": "code",
   "execution_count": 311,
   "metadata": {},
   "outputs": [
    {
     "data": {
      "text/plain": [
       "0    1.15247e+10\n",
       "0     6.0645e+09\n",
       "0    9.83562e+10\n",
       "0    1.13744e+11\n",
       "0    7.42078e+09\n",
       "dtype: object"
      ]
     },
     "execution_count": 311,
     "metadata": {},
     "output_type": "execute_result"
    }
   ],
   "source": [
    "df_test_pred_full_total['price'] - df_test_pred_full_total['expenses']"
   ]
  },
  {
   "cell_type": "code",
   "execution_count": 298,
   "metadata": {},
   "outputs": [
    {
     "data": {
      "text/plain": [
       "0    2.525725e+11\n",
       "0    6.795096e+10\n",
       "0    1.892078e+13\n",
       "0    2.531140e+13\n",
       "0    1.028872e+11\n",
       "dtype: float64"
      ]
     },
     "execution_count": 298,
     "metadata": {},
     "output_type": "execute_result"
    }
   ],
   "source": [
    "df_test_pred_full_total['value'] - df_test_pred_full_total['price']"
   ]
  },
  {
   "cell_type": "code",
   "execution_count": null,
   "metadata": {},
   "outputs": [],
   "source": []
  }
 ],
 "metadata": {
  "kernelspec": {
   "display_name": "mipt_cet",
   "language": "python",
   "name": "mipt_cet"
  },
  "language_info": {
   "codemirror_mode": {
    "name": "ipython",
    "version": 3
   },
   "file_extension": ".py",
   "mimetype": "text/x-python",
   "name": "python",
   "nbconvert_exporter": "python",
   "pygments_lexer": "ipython3",
   "version": "3.7.2"
  }
 },
 "nbformat": 4,
 "nbformat_minor": 2
}
